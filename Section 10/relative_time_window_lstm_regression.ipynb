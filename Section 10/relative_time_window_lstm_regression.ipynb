{
 "cells": [
  {
   "cell_type": "code",
   "execution_count": 1,
   "outputs": [],
   "source": [
    "import matplotlib.pyplot as plt\n",
    "import pandas as pd\n",
    "import numpy as np\n",
    "from sklearn.ensemble import RandomForestClassifier\n",
    "import pprint\n",
    "import tensorflow as tf\n",
    "from tensorflow.keras.layers import Dense, Input, GlobalMaxPooling1D, LSTM, GRU\n",
    "from tensorflow.keras.models import Model\n",
    "from tensorflow.keras.callbacks import ModelCheckpoint\n",
    "\n",
    "np.random.seed(0)\n",
    "tf.random.set_seed(0)"
   ],
   "metadata": {
    "collapsed": false,
    "pycharm": {
     "name": "#%%\n"
    }
   }
  },
  {
   "cell_type": "code",
   "execution_count": 2,
   "outputs": [],
   "source": [
    "df = pd.read_csv('../DataSamples/daod_mc16_13TeV_sequences.csv')"
   ],
   "metadata": {
    "collapsed": false,
    "pycharm": {
     "name": "#%%\n"
    }
   }
  },
  {
   "cell_type": "code",
   "execution_count": 3,
   "outputs": [],
   "source": [
    "df = df.reindex(np.random.permutation(df.index))"
   ],
   "metadata": {
    "collapsed": false,
    "pycharm": {
     "name": "#%%\n"
    }
   }
  },
  {
   "cell_type": "code",
   "execution_count": 4,
   "outputs": [],
   "source": [
    "df['n_tasks'] = df['n_tasks'].apply(lambda x: [int(item) for item in x[1:-1].split(',')])"
   ],
   "metadata": {
    "collapsed": false,
    "pycharm": {
     "name": "#%%\n"
    }
   }
  },
  {
   "cell_type": "code",
   "execution_count": 5,
   "outputs": [],
   "source": [
    "initlal_sequences = list(df['n_tasks'].values)"
   ],
   "metadata": {
    "collapsed": false,
    "pycharm": {
     "name": "#%%\n"
    }
   }
  },
  {
   "cell_type": "code",
   "execution_count": 6,
   "outputs": [],
   "source": [
    "N = 30"
   ],
   "metadata": {
    "collapsed": false,
    "pycharm": {
     "name": "#%%\n"
    }
   }
  },
  {
   "cell_type": "code",
   "execution_count": 41,
   "outputs": [],
   "source": [
    "new_sequences = []\n",
    "next = []\n",
    "for sequence in initlal_sequences:\n",
    "    number_of_accesses = sum(sequence)\n",
    "    # skip not popular datasets\n",
    "    if number_of_accesses > 30:\n",
    "        # find first element > 0 in the sequence\n",
    "        new_index = [index for index,item in enumerate(sequence) if item>0][0]\n",
    "        if len(sequence[new_index:]) > N+1:\n",
    "            new_sequence = sequence[new_index:new_index+N]\n",
    "            new_sequences.append(new_sequence)\n",
    "            next.append(sequence[new_index+N])"
   ],
   "metadata": {
    "collapsed": false,
    "pycharm": {
     "name": "#%%\n"
    }
   }
  },
  {
   "cell_type": "code",
   "execution_count": 37,
   "outputs": [
    {
     "data": {
      "text/plain": "[7, 2, 2, 0, 8, 0, 8, 1, 3, 19]"
     },
     "execution_count": 37,
     "metadata": {},
     "output_type": "execute_result"
    }
   ],
   "source": [
    "new_sequences[1][0:10]"
   ],
   "metadata": {
    "collapsed": false,
    "pycharm": {
     "name": "#%%\n"
    }
   }
  },
  {
   "cell_type": "code",
   "execution_count": 40,
   "outputs": [
    {
     "data": {
      "text/plain": "0"
     },
     "execution_count": 40,
     "metadata": {},
     "output_type": "execute_result"
    }
   ],
   "source": [
    "new_sequences[1][10]"
   ],
   "metadata": {
    "collapsed": false,
    "pycharm": {
     "name": "#%%\n"
    }
   }
  },
  {
   "cell_type": "code",
   "execution_count": 42,
   "outputs": [],
   "source": [
    "new_sequences = np.array(new_sequences)"
   ],
   "metadata": {
    "collapsed": false,
    "pycharm": {
     "name": "#%%\n"
    }
   }
  },
  {
   "cell_type": "code",
   "execution_count": 43,
   "outputs": [
    {
     "name": "stdout",
     "output_type": "stream",
     "text": [
      "[[1 0 4 ... 2 2 1]\n",
      " [7 2 2 ... 0 0 0]\n",
      " [4 1 8 ... 0 0 0]\n",
      " ...\n",
      " [2 5 4 ... 1 4 0]\n",
      " [1 0 0 ... 1 3 2]\n",
      " [1 1 0 ... 0 0 1]]\n"
     ]
    }
   ],
   "source": [
    "print(new_sequences)"
   ],
   "metadata": {
    "collapsed": false,
    "pycharm": {
     "name": "#%%\n"
    }
   }
  },
  {
   "cell_type": "code",
   "execution_count": 44,
   "outputs": [],
   "source": [
    "Y = np.array(next)"
   ],
   "metadata": {
    "collapsed": false,
    "pycharm": {
     "name": "#%%\n"
    }
   }
  },
  {
   "cell_type": "code",
   "execution_count": 45,
   "outputs": [
    {
     "name": "stdout",
     "output_type": "stream",
     "text": [
      "[[[ 1]\n",
      "  [ 0]\n",
      "  [ 4]\n",
      "  [ 1]\n",
      "  [ 0]\n",
      "  [ 0]\n",
      "  [ 0]\n",
      "  [ 0]\n",
      "  [ 1]\n",
      "  [ 2]\n",
      "  [ 2]\n",
      "  [ 1]\n",
      "  [ 0]\n",
      "  [ 1]\n",
      "  [ 1]\n",
      "  [ 0]\n",
      "  [ 0]\n",
      "  [ 0]\n",
      "  [ 0]\n",
      "  [ 3]\n",
      "  [ 2]\n",
      "  [ 0]\n",
      "  [ 0]\n",
      "  [ 0]\n",
      "  [ 7]\n",
      "  [ 0]\n",
      "  [ 0]\n",
      "  [ 2]\n",
      "  [ 2]\n",
      "  [ 1]]\n",
      "\n",
      " [[ 7]\n",
      "  [ 2]\n",
      "  [ 2]\n",
      "  [ 0]\n",
      "  [ 8]\n",
      "  [ 0]\n",
      "  [ 8]\n",
      "  [ 1]\n",
      "  [ 3]\n",
      "  [19]\n",
      "  [ 0]\n",
      "  [ 1]\n",
      "  [ 0]\n",
      "  [ 1]\n",
      "  [ 2]\n",
      "  [ 0]\n",
      "  [ 0]\n",
      "  [ 0]\n",
      "  [ 0]\n",
      "  [ 0]\n",
      "  [ 0]\n",
      "  [ 0]\n",
      "  [ 0]\n",
      "  [ 0]\n",
      "  [ 0]\n",
      "  [ 0]\n",
      "  [ 0]\n",
      "  [ 0]\n",
      "  [ 0]\n",
      "  [ 0]]]\n"
     ]
    }
   ],
   "source": [
    "n_features = 1\n",
    "X = new_sequences.reshape((new_sequences.shape[0], new_sequences.shape[1], n_features))\n",
    "print(X[:2])"
   ],
   "metadata": {
    "collapsed": false,
    "pycharm": {
     "name": "#%%\n"
    }
   }
  },
  {
   "cell_type": "code",
   "execution_count": 46,
   "outputs": [
    {
     "data": {
      "text/plain": "(9881, 30, 1)"
     },
     "execution_count": 46,
     "metadata": {},
     "output_type": "execute_result"
    }
   ],
   "source": [
    "X.shape"
   ],
   "metadata": {
    "collapsed": false,
    "pycharm": {
     "name": "#%%\n"
    }
   }
  },
  {
   "cell_type": "code",
   "execution_count": 47,
   "outputs": [],
   "source": [
    "Ntest = 1000\n",
    "Xtrain = X[:-Ntest]\n",
    "Xtest = X[-Ntest:]\n",
    "Ytrain = Y[:-Ntest]\n",
    "Ytest = Y[-Ntest:]"
   ],
   "metadata": {
    "collapsed": false,
    "pycharm": {
     "name": "#%%\n"
    }
   }
  },
  {
   "cell_type": "code",
   "execution_count": 73,
   "outputs": [
    {
     "data": {
      "text/plain": "array([ 0,  0,  3,  0,  0,  6,  4,  0,  1,  3,  0,  2,  0,  2,  1,  0,  0,\n        0,  3,  7,  1,  2,  1,  1,  0,  0,  1,  1,  0,  2,  2,  1,  1,  3,\n        1,  2,  0,  0,  0,  0,  4,  0,  1,  0,  0,  3,  2,  0,  0,  0,  0,\n        1,  0,  2,  0,  2,  1,  0,  2,  0,  2,  0,  3,  0,  0,  0,  0,  2,\n        0,  1,  0,  2,  2,  0,  5,  0,  0,  1,  0,  0,  1,  1,  0,  1,  0,\n        0,  0,  2,  0,  0,  0,  2,  0,  0,  0,  0,  1,  1,  0,  4,  1,  0,\n        0,  2,  0,  0,  0,  0,  5,  0,  0,  2,  0,  2,  1,  1,  0,  2,  0,\n        2,  2,  0,  0,  2,  1,  2,  5,  0,  0,  0,  3,  5,  0,  0,  0,  1,\n        0,  1,  0,  1,  6,  0,  2,  0,  0,  0,  0,  2,  2,  4,  0,  0,  3,\n        0,  0,  1,  0,  1,  0,  0,  0,  2,  0,  0,  0,  0,  1,  1,  3,  0,\n        0,  0,  2,  3,  0,  3,  1,  0,  0,  0,  0,  2,  1,  1,  0,  0,  0,\n        5,  1,  1,  0,  0,  4,  3,  0,  2,  3,  0,  3, 21,  1,  0,  1,  2,\n        8,  2,  0,  0,  2,  0,  5,  0,  2,  0,  4,  2,  0,  1,  0,  0,  0,\n        0,  0,  1,  0,  0,  2,  0,  2,  1,  0,  1,  2,  0,  0,  0,  2,  2,\n        0,  0,  0,  0,  0,  0,  2,  2,  1,  4,  0,  0,  0,  5,  0,  2,  0,\n        0,  2,  0,  0,  2,  0,  2,  0,  3,  0,  0,  0,  5,  1,  0,  6,  1,\n        0,  0,  0,  0,  0,  0,  2,  0,  5,  1,  1,  5,  4,  0,  0,  2,  4,\n        0,  1,  0,  3,  1,  0,  0,  0,  0,  2,  1,  0,  1,  0,  1,  2,  1,\n        0,  0,  3,  3,  1,  1,  0,  1,  5,  0,  0,  0,  0,  2,  0,  2,  0,\n        0,  0,  0,  0,  2,  2,  2,  0,  2,  0,  0,  0,  0,  0,  2,  0,  2,\n        0,  0,  0,  2,  0,  5,  1,  0,  2,  0,  0,  5,  1,  2,  1,  1,  0,\n        3,  0,  1,  0,  0,  0,  0,  2,  6,  0,  2,  5,  0,  3,  0,  1,  0,\n        2,  1,  0,  3,  0,  0,  3,  1,  0,  0,  0,  0,  0,  0,  2,  0,  1,\n        3,  0,  2,  5,  0,  0,  3,  1,  0,  0,  4,  1,  0,  5,  2,  0,  0,\n        0,  1,  0,  1,  0,  0,  0,  6,  0,  2,  0,  0,  0,  1,  0,  1,  2,\n        2,  1,  0,  2,  2,  0,  0,  0,  2,  0,  0,  3,  0,  0,  2,  2,  0,\n        0,  0,  0,  0,  0,  2,  0,  0,  0,  0,  0,  0,  2,  2,  2,  0,  0,\n        2,  2,  1,  5,  2,  0,  4,  0,  0,  2,  0,  1,  0,  0,  0,  1,  0,\n        2,  5,  0,  1,  4,  2,  5,  1,  0,  8,  2,  4,  0,  5,  1,  4,  2,\n        0,  0,  5,  0,  2,  0,  1,  0,  0,  0,  0,  0,  0,  0,  0,  9,  0,\n        1,  4,  0,  1,  7,  1,  0,  0,  0,  2,  0,  2,  2,  0,  3,  1,  1,\n        0,  0,  0,  1,  0,  0,  1,  0,  2,  6,  0,  0,  5,  0,  0,  2,  0,\n        0,  0,  0,  0,  0,  3,  0,  2,  8,  0,  0,  0,  2,  0,  0,  1,  0,\n        0,  0,  0,  1,  1,  0,  0,  2,  0,  0,  2,  1,  1,  2,  1,  0,  0,\n        0,  0,  2,  2,  0,  0,  0,  1,  2,  0,  2,  0,  0,  0,  0,  1,  8,\n        6,  0,  1,  1,  2,  0,  0,  1,  2,  1,  0,  0,  2,  4,  0,  0,  0,\n        1,  0,  0,  0,  1,  2,  1,  0,  0,  0,  0,  0,  1,  1,  0,  0,  3,\n        0,  0,  0,  1,  0,  1,  0,  0,  0,  0,  2,  2,  0,  2,  9,  1,  2,\n        0,  0,  2,  0,  1,  1,  0,  0,  0,  2,  0,  0,  0,  2,  5,  3,  0,\n        0,  2,  0,  0,  1,  0,  2,  3,  0,  0,  5,  1,  0,  4,  0,  0,  0,\n        2,  1,  0,  0,  0,  0,  0,  1,  5,  2,  1,  0,  0,  0,  1,  0,  0,\n        2,  1,  0,  1,  0,  0,  1,  1,  2,  0,  1,  0,  0,  1,  0,  0,  0,\n        2,  0,  0,  0,  5,  0,  0,  0,  0,  0,  0,  0,  1,  0,  0,  2,  0,\n        2,  0,  0,  0,  0,  0,  0,  1,  1,  0,  0,  0,  0,  4,  0,  0,  0,\n        1,  2,  0,  0,  2,  0,  0,  0,  1,  0,  3,  0,  0,  0,  2,  0,  0,\n        5,  0,  1,  0,  0,  0,  5,  0,  0,  3,  1,  1,  1,  4,  1,  0,  2,\n        2,  0,  2,  6,  0,  0,  0,  1,  0,  2,  0,  0,  0,  0,  0,  0,  3,\n        0,  0,  0,  0,  0,  0,  0,  0,  2,  0,  1,  0,  0,  1,  3,  2,  0,\n        4,  1,  0,  2,  1,  2,  2,  0,  1,  0,  2,  1,  1,  1,  0,  0,  2,\n        0,  1,  0,  0,  2,  0,  3,  0,  0,  0,  1,  0,  0,  0,  0,  2,  0,\n        0,  2,  0,  0,  0,  0,  0,  0,  0,  0,  0,  0,  1,  0,  0,  3,  0,\n        5,  0,  0,  0,  2,  1,  0,  0,  0,  1,  3,  0,  0,  0,  1,  0,  2,\n        0,  4,  0,  0,  0,  5,  1,  0,  1,  1,  0,  0,  2,  0,  1,  0,  2,\n        1,  1,  1,  2,  0,  0,  0,  0,  0,  5,  1,  2,  0,  0,  0,  0,  1,\n        0,  2,  0,  2,  0,  2,  0,  0,  0,  1,  0,  5,  2,  0,  4,  0,  0,\n        2,  0,  3,  5,  1,  3,  1,  0,  2,  0,  0,  2,  2,  0,  4,  0,  0,\n        1,  2,  3,  0,  5,  0,  0,  1,  0,  1,  0,  0,  0,  1,  0,  3,  3,\n        0,  0,  0,  5,  1,  0,  0,  0,  0,  0,  2,  1,  1,  1,  0,  0,  0,\n        9,  0,  0,  0,  5,  0,  1,  0,  0,  3,  4,  2,  5,  0])"
     },
     "execution_count": 73,
     "metadata": {},
     "output_type": "execute_result"
    }
   ],
   "source": [
    "Ytest"
   ],
   "metadata": {
    "collapsed": false,
    "pycharm": {
     "name": "#%%\n"
    }
   }
  },
  {
   "cell_type": "code",
   "execution_count": 49,
   "outputs": [],
   "source": [
    "T = N\n",
    "D = 1\n",
    "K = 2"
   ],
   "metadata": {
    "collapsed": false,
    "pycharm": {
     "name": "#%%\n"
    }
   }
  },
  {
   "cell_type": "code",
   "execution_count": 61,
   "outputs": [],
   "source": [
    "# RNN\n",
    "i = Input(shape=(T,1))\n",
    "x = LSTM(24)(i)\n",
    "x = Dense(1, activation='relu')(x)\n",
    "model = Model(i, x)"
   ],
   "metadata": {
    "collapsed": false,
    "pycharm": {
     "name": "#%%\n"
    }
   }
  },
  {
   "cell_type": "code",
   "execution_count": 62,
   "outputs": [],
   "source": [
    "# i = Input(shape=(30,1))\n",
    "# x = LSTM(32, return_sequences=True)(i)\n",
    "# x = GlobalMaxPooling1D()(x)\n",
    "# x = Dense(2)(x)\n",
    "# model = Model(i,x)"
   ],
   "metadata": {
    "collapsed": false,
    "pycharm": {
     "name": "#%%\n"
    }
   }
  },
  {
   "cell_type": "code",
   "execution_count": 63,
   "outputs": [
    {
     "name": "stdout",
     "output_type": "stream",
     "text": [
      "Model: \"model_2\"\n",
      "_________________________________________________________________\n",
      " Layer (type)                Output Shape              Param #   \n",
      "=================================================================\n",
      " input_3 (InputLayer)        [(None, 30, 1)]           0         \n",
      "                                                                 \n",
      " lstm_2 (LSTM)               (None, 24)                2496      \n",
      "                                                                 \n",
      " dense_2 (Dense)             (None, 1)                 25        \n",
      "                                                                 \n",
      "=================================================================\n",
      "Total params: 2,521\n",
      "Trainable params: 2,521\n",
      "Non-trainable params: 0\n",
      "_________________________________________________________________\n"
     ]
    }
   ],
   "source": [
    "model.summary()"
   ],
   "metadata": {
    "collapsed": false,
    "pycharm": {
     "name": "#%%\n"
    }
   }
  },
  {
   "cell_type": "code",
   "execution_count": 64,
   "outputs": [
    {
     "data": {
      "image/png": "[encoded data removed]",
      "text/plain": "<IPython.core.display.Image object>"
     },
     "execution_count": 64,
     "metadata": {},
     "output_type": "execute_result"
    }
   ],
   "source": [
    "tf.keras.utils.plot_model(model)"
   ],
   "metadata": {
    "collapsed": false,
    "pycharm": {
     "name": "#%%\n"
    }
   }
  },
  {
   "cell_type": "code",
   "execution_count": 65,
   "outputs": [],
   "source": [
    "check_point = ModelCheckpoint(\n",
    "    'best_model.h5', monitor='val_loss', save_best_only=True\n",
    ")"
   ],
   "metadata": {
    "collapsed": false,
    "pycharm": {
     "name": "#%%\n"
    }
   }
  },
  {
   "cell_type": "code",
   "execution_count": 66,
   "outputs": [
    {
     "data": {
      "text/plain": "<Figure size 432x288 with 1 Axes>",
      "image/png": "[encoded data removed]"
     },
     "metadata": {
      "needs_background": "light"
     },
     "output_type": "display_data"
    }
   ],
   "source": [
    "plt.plot(Xtrain[2000, :, :]);"
   ],
   "metadata": {
    "collapsed": false,
    "pycharm": {
     "name": "#%%\n"
    }
   }
  },
  {
   "cell_type": "code",
   "execution_count": 67,
   "outputs": [],
   "source": [
    "model.compile(\n",
    "    loss='mse',\n",
    "    optimizer='adam'\n",
    ")"
   ],
   "metadata": {
    "collapsed": false,
    "pycharm": {
     "name": "#%%\n"
    }
   }
  },
  {
   "cell_type": "code",
   "execution_count": 68,
   "outputs": [
    {
     "name": "stdout",
     "output_type": "stream",
     "text": [
      "Epoch 1/100\n",
      "WARNING:tensorflow:AutoGraph could not transform <function Model.make_train_function.<locals>.train_function at 0x7f9310237ef0> and will run it as-is.\n",
      "Please report this to the TensorFlow team. When filing the bug, set the verbosity to 10 (on Linux, `export AUTOGRAPH_VERBOSITY=10`) and attach the full output.\n",
      "Cause: 'arguments' object has no attribute 'posonlyargs'\n",
      "To silence this warning, decorate the function with @tf.autograph.experimental.do_not_convert\n",
      "WARNING: AutoGraph could not transform <function Model.make_train_function.<locals>.train_function at 0x7f9310237ef0> and will run it as-is.\n",
      "Please report this to the TensorFlow team. When filing the bug, set the verbosity to 10 (on Linux, `export AUTOGRAPH_VERBOSITY=10`) and attach the full output.\n",
      "Cause: 'arguments' object has no attribute 'posonlyargs'\n",
      "To silence this warning, decorate the function with @tf.autograph.experimental.do_not_convert\n",
      "274/278 [============================>.] - ETA: 0s - loss: 2.5776WARNING:tensorflow:AutoGraph could not transform <function Model.make_test_function.<locals>.test_function at 0x7f9310ad0170> and will run it as-is.\n",
      "Please report this to the TensorFlow team. When filing the bug, set the verbosity to 10 (on Linux, `export AUTOGRAPH_VERBOSITY=10`) and attach the full output.\n",
      "Cause: 'arguments' object has no attribute 'posonlyargs'\n",
      "To silence this warning, decorate the function with @tf.autograph.experimental.do_not_convert\n",
      "WARNING: AutoGraph could not transform <function Model.make_test_function.<locals>.test_function at 0x7f9310ad0170> and will run it as-is.\n",
      "Please report this to the TensorFlow team. When filing the bug, set the verbosity to 10 (on Linux, `export AUTOGRAPH_VERBOSITY=10`) and attach the full output.\n",
      "Cause: 'arguments' object has no attribute 'posonlyargs'\n",
      "To silence this warning, decorate the function with @tf.autograph.experimental.do_not_convert\n",
      "278/278 [==============================] - 6s 12ms/step - loss: 2.5966 - val_loss: 2.3289\n",
      "Epoch 2/100\n",
      "278/278 [==============================] - 3s 10ms/step - loss: 2.2733 - val_loss: 2.1668\n",
      "Epoch 3/100\n",
      "278/278 [==============================] - 3s 10ms/step - loss: 2.1473 - val_loss: 2.1313\n",
      "Epoch 4/100\n",
      "278/278 [==============================] - 3s 10ms/step - loss: 2.0847 - val_loss: 2.0493\n",
      "Epoch 5/100\n",
      "278/278 [==============================] - 3s 10ms/step - loss: 2.0365 - val_loss: 1.9804\n",
      "Epoch 6/100\n",
      "278/278 [==============================] - 3s 11ms/step - loss: 1.9853 - val_loss: 1.9143\n",
      "Epoch 7/100\n",
      "278/278 [==============================] - 3s 10ms/step - loss: 1.9344 - val_loss: 1.8554\n",
      "Epoch 8/100\n",
      "278/278 [==============================] - 3s 10ms/step - loss: 1.8909 - val_loss: 1.8597\n",
      "Epoch 9/100\n",
      "278/278 [==============================] - 3s 10ms/step - loss: 1.8407 - val_loss: 1.7968\n",
      "Epoch 10/100\n",
      "278/278 [==============================] - 3s 10ms/step - loss: 1.8090 - val_loss: 1.7708\n",
      "Epoch 11/100\n",
      "278/278 [==============================] - 3s 10ms/step - loss: 1.7771 - val_loss: 1.8049\n",
      "Epoch 12/100\n",
      "278/278 [==============================] - 3s 10ms/step - loss: 1.7597 - val_loss: 1.8518\n",
      "Epoch 13/100\n",
      "278/278 [==============================] - 3s 9ms/step - loss: 1.7459 - val_loss: 1.7985\n",
      "Epoch 14/100\n",
      "278/278 [==============================] - 3s 9ms/step - loss: 1.7421 - val_loss: 1.7821\n",
      "Epoch 15/100\n",
      "278/278 [==============================] - 3s 9ms/step - loss: 1.7137 - val_loss: 1.7494\n",
      "Epoch 16/100\n",
      "278/278 [==============================] - 3s 9ms/step - loss: 1.6963 - val_loss: 1.7379\n",
      "Epoch 17/100\n",
      "278/278 [==============================] - 3s 9ms/step - loss: 1.6962 - val_loss: 1.6866\n",
      "Epoch 18/100\n",
      "278/278 [==============================] - 3s 9ms/step - loss: 1.6624 - val_loss: 1.6667\n",
      "Epoch 19/100\n",
      "278/278 [==============================] - 3s 10ms/step - loss: 1.6445 - val_loss: 1.6759\n",
      "Epoch 20/100\n",
      "278/278 [==============================] - 3s 10ms/step - loss: 1.6159 - val_loss: 1.6814\n",
      "Epoch 21/100\n",
      "278/278 [==============================] - 3s 10ms/step - loss: 1.6088 - val_loss: 1.6481\n",
      "Epoch 22/100\n",
      "278/278 [==============================] - 3s 11ms/step - loss: 1.5778 - val_loss: 1.5784\n",
      "Epoch 23/100\n",
      "278/278 [==============================] - 3s 12ms/step - loss: 1.5711 - val_loss: 1.6524\n",
      "Epoch 24/100\n",
      "278/278 [==============================] - 4s 14ms/step - loss: 1.5374 - val_loss: 1.6466\n",
      "Epoch 25/100\n",
      "278/278 [==============================] - 3s 10ms/step - loss: 1.5859 - val_loss: 1.5469\n",
      "Epoch 26/100\n",
      "278/278 [==============================] - 3s 12ms/step - loss: 1.5021 - val_loss: 1.5054\n",
      "Epoch 27/100\n",
      "278/278 [==============================] - 3s 10ms/step - loss: 1.5035 - val_loss: 1.5689\n",
      "Epoch 28/100\n",
      "278/278 [==============================] - 3s 10ms/step - loss: 1.4689 - val_loss: 1.4684\n",
      "Epoch 29/100\n",
      "278/278 [==============================] - 3s 10ms/step - loss: 1.4481 - val_loss: 1.5442\n",
      "Epoch 30/100\n",
      "278/278 [==============================] - 3s 9ms/step - loss: 1.4139 - val_loss: 1.4331\n",
      "Epoch 31/100\n",
      "278/278 [==============================] - 3s 9ms/step - loss: 1.3827 - val_loss: 1.4371\n",
      "Epoch 32/100\n",
      "278/278 [==============================] - 3s 10ms/step - loss: 1.3644 - val_loss: 1.4626\n",
      "Epoch 33/100\n",
      "278/278 [==============================] - 3s 10ms/step - loss: 1.3473 - val_loss: 1.5839\n",
      "Epoch 34/100\n",
      "278/278 [==============================] - 3s 10ms/step - loss: 1.3591 - val_loss: 1.3655\n",
      "Epoch 35/100\n",
      "278/278 [==============================] - 3s 9ms/step - loss: 1.3069 - val_loss: 1.3408\n",
      "Epoch 36/100\n",
      "278/278 [==============================] - 3s 10ms/step - loss: 1.3004 - val_loss: 1.4039\n",
      "Epoch 37/100\n",
      "278/278 [==============================] - 3s 10ms/step - loss: 1.2814 - val_loss: 1.3608\n",
      "Epoch 38/100\n",
      "278/278 [==============================] - 3s 10ms/step - loss: 1.2840 - val_loss: 1.3388\n",
      "Epoch 39/100\n",
      "278/278 [==============================] - 3s 9ms/step - loss: 1.2507 - val_loss: 1.3435\n",
      "Epoch 40/100\n",
      "278/278 [==============================] - 3s 10ms/step - loss: 1.2608 - val_loss: 1.2859\n",
      "Epoch 41/100\n",
      "278/278 [==============================] - 3s 10ms/step - loss: 1.2457 - val_loss: 1.6421\n",
      "Epoch 42/100\n",
      "278/278 [==============================] - 3s 9ms/step - loss: 1.2215 - val_loss: 1.4840\n",
      "Epoch 43/100\n",
      "278/278 [==============================] - 3s 10ms/step - loss: 1.2051 - val_loss: 1.3110\n",
      "Epoch 44/100\n",
      "278/278 [==============================] - 3s 9ms/step - loss: 1.1635 - val_loss: 1.2949\n",
      "Epoch 45/100\n",
      "278/278 [==============================] - 2s 7ms/step - loss: 1.1779 - val_loss: 1.2150\n",
      "Epoch 46/100\n",
      "278/278 [==============================] - 2s 7ms/step - loss: 1.1287 - val_loss: 1.3136\n",
      "Epoch 47/100\n",
      "278/278 [==============================] - 2s 7ms/step - loss: 1.1354 - val_loss: 1.3772\n",
      "Epoch 48/100\n",
      "278/278 [==============================] - 2s 8ms/step - loss: 1.0977 - val_loss: 1.2575\n",
      "Epoch 49/100\n",
      "278/278 [==============================] - 2s 8ms/step - loss: 1.1520 - val_loss: 1.2845\n",
      "Epoch 50/100\n",
      "278/278 [==============================] - 2s 9ms/step - loss: 1.0869 - val_loss: 1.2898\n",
      "Epoch 51/100\n",
      "278/278 [==============================] - 2s 8ms/step - loss: 1.1034 - val_loss: 1.3967\n",
      "Epoch 52/100\n",
      "278/278 [==============================] - 3s 9ms/step - loss: 1.0855 - val_loss: 1.2525\n",
      "Epoch 53/100\n",
      "278/278 [==============================] - 3s 9ms/step - loss: 1.0942 - val_loss: 1.2320\n",
      "Epoch 54/100\n",
      "278/278 [==============================] - 2s 8ms/step - loss: 1.0578 - val_loss: 1.2348\n",
      "Epoch 55/100\n",
      "278/278 [==============================] - 2s 8ms/step - loss: 1.0028 - val_loss: 1.1656\n",
      "Epoch 56/100\n",
      "278/278 [==============================] - 2s 8ms/step - loss: 1.0154 - val_loss: 1.1852\n",
      "Epoch 57/100\n",
      "278/278 [==============================] - 2s 8ms/step - loss: 0.9747 - val_loss: 1.1367\n",
      "Epoch 58/100\n",
      "278/278 [==============================] - 2s 8ms/step - loss: 0.9857 - val_loss: 1.4316\n",
      "Epoch 59/100\n",
      "278/278 [==============================] - 3s 9ms/step - loss: 0.9690 - val_loss: 1.2070\n",
      "Epoch 60/100\n",
      "278/278 [==============================] - 2s 9ms/step - loss: 0.9492 - val_loss: 1.1706\n",
      "Epoch 61/100\n",
      "278/278 [==============================] - 2s 8ms/step - loss: 0.9919 - val_loss: 1.2142\n",
      "Epoch 62/100\n",
      "278/278 [==============================] - 2s 8ms/step - loss: 0.9683 - val_loss: 1.2729\n",
      "Epoch 63/100\n",
      "278/278 [==============================] - 2s 8ms/step - loss: 0.9362 - val_loss: 1.1357\n",
      "Epoch 64/100\n",
      "278/278 [==============================] - 2s 9ms/step - loss: 0.9625 - val_loss: 1.1399\n",
      "Epoch 65/100\n",
      "278/278 [==============================] - 3s 9ms/step - loss: 0.9345 - val_loss: 1.1588\n",
      "Epoch 66/100\n",
      "278/278 [==============================] - 2s 8ms/step - loss: 0.9098 - val_loss: 1.1567\n",
      "Epoch 67/100\n",
      "278/278 [==============================] - 2s 8ms/step - loss: 0.8897 - val_loss: 1.1450\n",
      "Epoch 68/100\n",
      "278/278 [==============================] - 2s 8ms/step - loss: 0.8594 - val_loss: 1.2616\n",
      "Epoch 69/100\n",
      "278/278 [==============================] - 2s 7ms/step - loss: 0.9577 - val_loss: 1.1129\n",
      "Epoch 70/100\n",
      "278/278 [==============================] - 2s 7ms/step - loss: 0.8667 - val_loss: 1.1775\n",
      "Epoch 71/100\n",
      "278/278 [==============================] - 2s 7ms/step - loss: 0.8341 - val_loss: 1.1100\n",
      "Epoch 72/100\n",
      "278/278 [==============================] - 2s 7ms/step - loss: 0.8308 - val_loss: 1.1350\n",
      "Epoch 73/100\n",
      "278/278 [==============================] - 2s 7ms/step - loss: 0.8955 - val_loss: 1.1127\n",
      "Epoch 74/100\n",
      "278/278 [==============================] - 2s 7ms/step - loss: 0.9213 - val_loss: 1.1553\n",
      "Epoch 75/100\n",
      "278/278 [==============================] - 2s 7ms/step - loss: 0.8568 - val_loss: 1.2262\n",
      "Epoch 76/100\n",
      "278/278 [==============================] - 2s 7ms/step - loss: 0.8578 - val_loss: 1.1597\n",
      "Epoch 77/100\n",
      "278/278 [==============================] - 2s 8ms/step - loss: 0.8119 - val_loss: 1.1466\n",
      "Epoch 78/100\n",
      "278/278 [==============================] - 2s 8ms/step - loss: 0.8142 - val_loss: 1.0724\n",
      "Epoch 79/100\n",
      "278/278 [==============================] - 2s 8ms/step - loss: 0.7752 - val_loss: 1.1249\n",
      "Epoch 80/100\n",
      "278/278 [==============================] - 2s 8ms/step - loss: 0.7890 - val_loss: 1.0325\n",
      "Epoch 81/100\n",
      "278/278 [==============================] - 2s 7ms/step - loss: 0.7759 - val_loss: 1.4580\n",
      "Epoch 82/100\n",
      "278/278 [==============================] - 2s 8ms/step - loss: 0.8097 - val_loss: 1.1000\n",
      "Epoch 83/100\n",
      "278/278 [==============================] - 2s 7ms/step - loss: 0.7853 - val_loss: 1.0538\n",
      "Epoch 84/100\n",
      "278/278 [==============================] - 2s 7ms/step - loss: 0.7225 - val_loss: 1.0681\n",
      "Epoch 85/100\n",
      "278/278 [==============================] - 2s 7ms/step - loss: 0.9134 - val_loss: 1.0794\n",
      "Epoch 86/100\n",
      "278/278 [==============================] - 2s 7ms/step - loss: 0.7254 - val_loss: 1.0088\n",
      "Epoch 87/100\n",
      "278/278 [==============================] - 2s 9ms/step - loss: 0.7660 - val_loss: 1.1972\n",
      "Epoch 88/100\n",
      "278/278 [==============================] - 2s 7ms/step - loss: 0.7822 - val_loss: 1.0511\n",
      "Epoch 89/100\n",
      "278/278 [==============================] - 2s 8ms/step - loss: 0.7918 - val_loss: 1.0364\n",
      "Epoch 90/100\n",
      "278/278 [==============================] - 2s 7ms/step - loss: 0.6956 - val_loss: 1.0802\n",
      "Epoch 91/100\n",
      "278/278 [==============================] - 2s 7ms/step - loss: 0.6727 - val_loss: 1.0345\n",
      "Epoch 92/100\n",
      "278/278 [==============================] - 2s 7ms/step - loss: 0.7014 - val_loss: 1.1323\n",
      "Epoch 93/100\n",
      "278/278 [==============================] - 2s 8ms/step - loss: 0.7159 - val_loss: 1.0600\n",
      "Epoch 94/100\n",
      "278/278 [==============================] - 2s 8ms/step - loss: 0.7728 - val_loss: 1.1514\n",
      "Epoch 95/100\n",
      "278/278 [==============================] - 2s 7ms/step - loss: 0.8165 - val_loss: 1.0366\n",
      "Epoch 96/100\n",
      "278/278 [==============================] - 2s 7ms/step - loss: 0.6636 - val_loss: 1.0733\n",
      "Epoch 97/100\n",
      "278/278 [==============================] - 2s 8ms/step - loss: 0.6596 - val_loss: 1.0996\n",
      "Epoch 98/100\n",
      "278/278 [==============================] - 2s 8ms/step - loss: 0.6825 - val_loss: 1.2196\n",
      "Epoch 99/100\n",
      "278/278 [==============================] - 2s 8ms/step - loss: 0.6718 - val_loss: 1.0110\n",
      "Epoch 100/100\n",
      "278/278 [==============================] - 2s 7ms/step - loss: 0.6727 - val_loss: 1.0960\n"
     ]
    }
   ],
   "source": [
    "r = model.fit(\n",
    "    Xtrain,\n",
    "    Ytrain,\n",
    "    epochs=100,\n",
    "    validation_data=(Xtest, Ytest)\n",
    ")"
   ],
   "metadata": {
    "collapsed": false,
    "pycharm": {
     "name": "#%%\n"
    }
   }
  },
  {
   "cell_type": "code",
   "execution_count": 69,
   "outputs": [
    {
     "data": {
      "text/plain": "<Figure size 432x288 with 1 Axes>",
      "image/png": "[encoded data removed]"
     },
     "metadata": {
      "needs_background": "light"
     },
     "output_type": "display_data"
    }
   ],
   "source": [
    "plt.plot(r.history['loss'], label='train loss')\n",
    "plt.plot(r.history['val_loss'], label='test loss')\n",
    "plt.legend();"
   ],
   "metadata": {
    "collapsed": false,
    "pycharm": {
     "name": "#%%\n"
    }
   }
  },
  {
   "cell_type": "code",
   "execution_count": 70,
   "outputs": [
    {
     "name": "stdout",
     "output_type": "stream",
     "text": [
      "WARNING:tensorflow:AutoGraph could not transform <function Model.make_predict_function.<locals>.predict_function at 0x7f9310237c20> and will run it as-is.\n",
      "Please report this to the TensorFlow team. When filing the bug, set the verbosity to 10 (on Linux, `export AUTOGRAPH_VERBOSITY=10`) and attach the full output.\n",
      "Cause: 'arguments' object has no attribute 'posonlyargs'\n",
      "To silence this warning, decorate the function with @tf.autograph.experimental.do_not_convert\n",
      "WARNING: AutoGraph could not transform <function Model.make_predict_function.<locals>.predict_function at 0x7f9310237c20> and will run it as-is.\n",
      "Please report this to the TensorFlow team. When filing the bug, set the verbosity to 10 (on Linux, `export AUTOGRAPH_VERBOSITY=10`) and attach the full output.\n",
      "Cause: 'arguments' object has no attribute 'posonlyargs'\n",
      "To silence this warning, decorate the function with @tf.autograph.experimental.do_not_convert\n",
      "278/278 [==============================] - 1s 2ms/step\n",
      "32/32 [==============================] - 0s 2ms/step\n"
     ]
    }
   ],
   "source": [
    "Ptrain = model.predict(Xtrain).flatten()\n",
    "Ptest = model.predict(Xtest).flatten()"
   ],
   "metadata": {
    "collapsed": false,
    "pycharm": {
     "name": "#%%\n"
    }
   }
  },
  {
   "cell_type": "code",
   "execution_count": 82,
   "outputs": [
    {
     "data": {
      "text/plain": "[0.41128513,\n 0.9820434,\n 4.1487694,\n 0.0,\n 0.41627017,\n 0.55986834,\n 1.7771063,\n 0.5180739,\n 1.0484685,\n 2.1945288,\n 0.0,\n 1.8510929,\n 0.013384998,\n 1.3655797,\n 1.5603728,\n 0.0,\n 0.2920711,\n 0.0,\n 0.8361604,\n 3.6716373,\n 0.9655818,\n 1.9970686,\n 1.3456312,\n 1.8588998,\n 0.0,\n 0.0,\n 0.36618736,\n 1.1244619,\n 0.03469655,\n 1.9156306,\n 1.995019,\n 2.5524964,\n 0.0,\n 2.7254894,\n 0.98010075,\n 1.774149,\n 0.0,\n 0.0,\n 0.0,\n 0.0,\n 3.961397,\n 0.0,\n 2.6237457,\n 0.0,\n 0.0,\n 3.5201476,\n 1.9698853,\n 0.10691917,\n 0.0,\n 0.44961622,\n 0.0,\n 0.25099188,\n 1.994135,\n 2.2369359,\n 0.0,\n 1.4335372,\n 1.1781152,\n 4.999497,\n 2.091397,\n 0.0,\n 0.73562396,\n 0.0,\n 3.8342745,\n 0.0,\n 0.0,\n 0.0,\n 0.0,\n 1.9439642,\n 0.0,\n 1.2022011,\n 0.0,\n 2.1208293,\n 3.717127,\n 0.0,\n 4.7461023,\n 0.0,\n 0.0,\n 1.6802516,\n 0.1536285,\n 0.04616916,\n 1.0740795,\n 1.2222474,\n 0.0,\n 0.3404431,\n 0.0,\n 0.0,\n 0.0,\n 1.9310267,\n 0.0,\n 0.0,\n 0.0,\n 1.934354,\n 0.0,\n 0.40793386,\n 0.0,\n 0.33977786,\n 0.8414718,\n 0.99083793,\n 0.0,\n 3.1673965,\n 0.44886133,\n 0.4361814,\n 2.2623737,\n 1.9698853,\n 0.1617705,\n 0.0,\n 0.57302284,\n 0.0,\n 4.7926335,\n 0.0,\n 0.0,\n 2.6523557,\n 0.0,\n 1.1481595,\n 0.8188565,\n 3.3879335,\n 0.82546544,\n 0.77112556,\n 0.0,\n 2.2369359,\n 0.0,\n 0.10382867,\n 1.1376896,\n 1.6421885,\n 0.0,\n 3.088487,\n 4.999497,\n 0.0,\n 0.0,\n 0.78181875,\n 1.7017593,\n 3.9798214,\n 0.0,\n 0.0,\n 0.0,\n 1.0939212,\n 0.8394363,\n 1.5221993,\n 0.0,\n 0.0,\n 6.017734,\n 0.0,\n 1.3947229,\n 0.0,\n 0.10138777,\n 0.96775234,\n 2.865843,\n 2.2369359,\n 2.0267978,\n 3.472593,\n 0.0,\n 0.0,\n 2.511618,\n 0.0,\n 0.0,\n 0.5876167,\n 0.0,\n 0.47970238,\n 0.10956898,\n 0.0,\n 0.0,\n 1.4254621,\n 0.0,\n 0.5748286,\n 0.41128513,\n 0.0,\n 0.24279657,\n 0.85033107,\n 3.472593,\n 0.0,\n 0.0,\n 0.0,\n 0.77112556,\n 3.4618855,\n 0.0,\n 2.5944636,\n 0.8742564,\n 0.18328242,\n 1.2006013,\n 0.08901036,\n 0.04259041,\n 2.0446522,\n 0.9253268,\n 1.9937338,\n 2.2915385,\n 0.0,\n 0.0,\n 3.4897368,\n 2.434052,\n 1.0765235,\n 0.0,\n 0.0,\n 2.2647097,\n 4.182198,\n 0.0,\n 0.0,\n 2.4260693,\n 0.0,\n 2.135771,\n 4.819909,\n 1.3201969,\n 2.363971,\n 1.1288619,\n 1.5142813,\n 8.324041,\n 1.3580468,\n 0.0,\n 0.0,\n 1.7703973,\n 0.0,\n 5.9130883,\n 0.038572013,\n 1.0480083,\n 0.0,\n 0.1413947,\n 2.1247554,\n 0.0,\n 1.2298352,\n 0.608109,\n 0.39462885,\n 0.0,\n 0.0,\n 0.0,\n 1.6553624,\n 0.0,\n 0.0,\n 0.0,\n 0.0,\n 2.1675098,\n 1.982248,\n 0.0,\n 0.3669881,\n 1.9259548,\n 0.1450803,\n 0.06560221,\n 0.0,\n 1.3267905,\n 0.6881926,\n 0.0,\n 0.0,\n 0.0,\n 0.6790962,\n 0.44961622,\n 0.0,\n 1.8006847,\n 2.0524313,\n 1.247139,\n 2.6159883,\n 0.10660744,\n 0.0,\n 0.0,\n 5.1235423,\n 0.0,\n 2.2457855,\n 0.0,\n 0.0,\n 2.4997509,\n 0.06560221,\n 0.0,\n 1.4446747,\n 2.865843,\n 1.2080781,\n 0.08179265,\n 1.0002984,\n 0.0,\n 0.9363936,\n 0.025438577,\n 4.7254725,\n 1.3910775,\n 0.0,\n 5.4448805,\n 1.0618943,\n 0.0,\n 0.15115407,\n 0.0,\n 0.0,\n 0.0,\n 0.0,\n 1.7491906,\n 0.0,\n 5.109303,\n 3.35664,\n 1.4289356,\n 4.7461023,\n 3.7459729,\n 0.0,\n 0.0,\n 3.9526107,\n 2.8112934,\n 0.0,\n 0.94275963,\n 0.0,\n 2.511618,\n 1.1542611,\n 0.0,\n 0.0,\n 0.0,\n 0.0,\n 0.0,\n 0.09903827,\n 1.7675605,\n 1.105413,\n 0.0,\n 1.8518283,\n 2.202024,\n 1.3576642,\n 0.08179265,\n 0.0,\n 2.372063,\n 3.8342755,\n 1.9420121,\n 1.982248,\n 0.41789836,\n 1.1626135,\n 2.6921706,\n 0.0,\n 0.0,\n 0.0,\n 0.0,\n 3.0507338,\n 0.0,\n 1.5564166,\n 0.0,\n 0.07573122,\n 0.0,\n 0.120610505,\n 0.0,\n 0.7894026,\n 1.9201214,\n 1.3311923,\n 0.0,\n 1.1553763,\n 0.0,\n 0.0,\n 0.0,\n 0.0,\n 0.0,\n 4.5898333,\n 0.73854136,\n 1.6760218,\n 0.0,\n 0.2729068,\n 0.65241635,\n 2.3733084,\n 0.0,\n 4.4407396,\n 1.2613018,\n 1.8476267,\n 2.030747,\n 0.0,\n 0.0,\n 5.16408,\n 1.1230252,\n 1.1589073,\n 1.2022011,\n 1.0618943,\n 0.0,\n 1.8534496,\n 0.0,\n 0.18434672,\n 0.0,\n 0.011305422,\n 0.0,\n 0.0,\n 1.827559,\n 4.427589,\n 0.0,\n 2.1125915,\n 5.118906,\n 0.14965668,\n 2.4859147,\n 0.08179265,\n 0.0,\n 0.0,\n 2.6867177,\n 0.24279657,\n 0.18328242,\n 2.9305146,\n 0.0,\n 0.0,\n 0.19643715,\n 2.512522,\n 0.0,\n 0.33785567,\n 0.0,\n 0.0,\n 0.08950904,\n 0.0,\n 1.6793009,\n 0.0,\n 0.0,\n 2.2865808,\n 0.0,\n 3.13579,\n 4.7461023,\n 0.0,\n 0.0,\n 4.9914727,\n 1.5166019,\n 0.0,\n 0.11690989,\n 2.633653,\n 0.0,\n 0.46004638,\n 5.3934236,\n 2.315206,\n 0.0,\n 0.0,\n 3.0917401,\n 1.9355404,\n 0.0,\n 0.16976993,\n 1.8183984,\n 0.0,\n 0.6158018,\n 1.8210104,\n 0.0,\n 0.6083331,\n 0.9608996,\n 0.0,\n 0.0,\n 0.0,\n 0.0,\n 0.80903304,\n 1.2396114,\n 3.6976888,\n 1.3156817,\n 0.0,\n 0.122430384,\n 2.5057771,\n 0.1546621,\n 0.0,\n 0.08901036,\n 1.9495515,\n 0.0,\n 0.44327983,\n 3.8342755,\n 0.0,\n 0.0,\n 2.5446298,\n 1.9101667,\n 0.0,\n 1.8088987,\n 0.0,\n 0.0,\n 0.0,\n 0.41789812,\n 4.1162415,\n 0.72189474,\n 0.0,\n 0.0,\n 0.0,\n 0.0,\n 0.0,\n 1.8124886,\n 0.44364563,\n 2.1157277,\n 0.6230582,\n 0.0,\n 2.217984,\n 2.3375142,\n 0.6386938,\n 3.4897368,\n 1.8663914,\n 0.15579093,\n 0.8472638,\n 0.11721954,\n 0.0,\n 1.9970686,\n 0.0,\n 1.5166019,\n 0.0,\n 0.0,\n 0.052064747,\n 2.2252808,\n 0.0,\n 1.1537969,\n 3.3606677,\n 0.0,\n 1.6243836,\n 2.6228123,\n 1.3429103,\n 4.717567,\n 1.9758284,\n 0.0,\n 7.202303,\n 0.41082558,\n 3.2196913,\n 0.0,\n 5.186604,\n 0.8779075,\n 2.865843,\n 1.7039146,\n 0.0,\n 0.0,\n 4.7461023,\n 0.18982074,\n 2.005202,\n 0.0,\n 0.85033107,\n 0.0,\n 0.0,\n 0.0,\n 2.0334709,\n 0.23998144,\n 0.0,\n 0.41627017,\n 0.0,\n 4.2680116,\n 0.0,\n 1.4755127,\n 4.964853,\n 0.0,\n 0.3404431,\n 2.827309,\n 0.8387228,\n 0.0,\n 0.60594475,\n 0.18328242,\n 1.8663914,\n 0.6024568,\n 1.8535614,\n 0.2022883,\n 0.13477683,\n 3.8342755,\n 0.90599525,\n 1.6885321,\n 0.0,\n 0.0,\n 0.7689475,\n 0.7215444,\n 0.0,\n 0.0,\n 0.3404431,\n 0.0,\n 1.2736378,\n 4.3112974,\n 0.0,\n 1.2216209,\n 3.625078,\n 0.0,\n 0.16456422,\n 2.184123,\n 0.06560215,\n 0.0,\n 0.0,\n 0.0,\n 0.0,\n 0.0,\n 3.8342755,\n 0.0,\n 0.7677052,\n 8.323246,\n 0.0,\n 0.07950291,\n 0.0,\n 1.3546097,\n 0.14965668,\n 0.0,\n 2.7013733,\n 0.0,\n 0.0,\n 0.0,\n 0.0,\n 1.2657386,\n 1.0494994,\n 0.0,\n 0.44262788,\n 1.6360837,\n 0.0,\n 0.0,\n 1.7913795,\n 3.1696436,\n 1.7149491,\n 2.5334482,\n 1.2475846,\n 0.0,\n 0.0,\n 0.0,\n 0.0,\n 2.1157277,\n 1.9005754,\n 0.09535912,\n 0.0,\n 0.7967441,\n 1.002217,\n 1.8494031,\n 0.0,\n 1.1085465,\n 0.14449283,\n 0.0,\n 0.74008644,\n 0.0,\n 0.8069633,\n 8.323246,\n 0.0,\n 0.0,\n 1.1244619,\n 2.2672765,\n 2.200133,\n 0.17043063,\n 0.0,\n 0.9689032,\n 2.4822726,\n 0.97714615,\n 0.04616916,\n 0.0,\n 1.3357363,\n 2.865843,\n 0.0,\n 2.1232245,\n 0.25042358,\n 2.2515426,\n 0.0,\n 0.0,\n 0.0,\n 0.93797004,\n 0.0,\n 0.0,\n 0.0,\n 0.0,\n 0.5628071,\n 0.0,\n 0.0,\n 2.1584418,\n 0.9624659,\n 0.0,\n 0.0,\n 2.6500268,\n 0.0,\n 0.0,\n 1.2442503,\n 0.8742564,\n 0.0,\n 0.83905125,\n 0.0,\n 0.41789836,\n 0.0,\n 2.2633533,\n 1.5686612,\n 2.4079673,\n 1.6814573,\n 1.2545073,\n 2.1999362,\n 0.79793453,\n 2.831392,\n 0.094733626,\n 2.2915385,\n 1.9829298,\n 0.43095848,\n 0.032137305,\n 1.1211114,\n 0.28349712,\n 0.0,\n 0.3622782,\n 1.9928317,\n 0.0,\n 0.0,\n 0.0,\n 1.8663914,\n 5.2572637,\n 1.322931,\n 0.0,\n 1.3524653,\n 1.0921001,\n 0.0,\n 0.0,\n 0.89816225,\n 0.094858915,\n 2.0840795,\n 1.750099,\n 0.0,\n 0.15115407,\n 6.3044004,\n 0.0,\n 0.0,\n 1.7771063,\n 0.0,\n 0.0,\n 0.0,\n 2.2536275,\n 1.546931,\n 3.014006,\n 0.26717243,\n 0.0,\n 0.16135612,\n 1.0265174,\n 0.7307521,\n 5.1235423,\n 1.7203717,\n 1.2657386,\n 0.0,\n 2.2135737,\n 0.25408867,\n 1.0939212,\n 0.9107796,\n 0.0,\n 2.1250036,\n 1.211782,\n 0.7369242,\n 0.0,\n 0.0,\n 0.0,\n 1.419364,\n 1.0143535,\n 1.873769,\n 0.09093872,\n 1.021727,\n 0.0,\n 0.0,\n 0.0,\n 0.0,\n 1.2543969,\n 1.994135,\n 3.2099338,\n 0.6842872,\n 0.0,\n 0.0,\n 5.2801213,\n 0.0,\n 0.0,\n 0.0,\n 0.0,\n 0.0,\n 0.0,\n 0.35724995,\n 0.39567658,\n 0.0,\n 0.0,\n 2.2369359,\n 0.52203107,\n 0.6881926,\n 0.0,\n 0.06560221,\n 0.0,\n 0.0,\n 0.059809476,\n 0.0,\n 0.757938,\n 0.031543493,\n 0.0,\n 0.0,\n 0.91572547,\n 1.0436577,\n 2.0733445,\n 0.0,\n 0.4746423,\n 0.18328242,\n 1.7787497,\n 2.292236,\n 0.22105768,\n 0.0,\n 1.7290913,\n 0.10956845,\n 0.0,\n 0.41789836,\n 1.1111417,\n 0.0,\n 2.0322363,\n 0.40604207,\n 0.0,\n 0.0,\n 2.5577705,\n 1.3396482,\n 0.45897648,\n 5.118906,\n 0.0,\n 1.0737218,\n 0.0,\n 0.0,\n 0.38759282,\n 5.2801213,\n 0.0,\n 0.0,\n 2.4546108,\n 0.16976993,\n 0.5089281,\n 0.9655818,\n 1.305223,\n 0.24279657,\n 0.15579093,\n 0.7259401,\n 0.9059142,\n 0.0,\n 1.7039146,\n 0.55986834,\n 0.0,\n 0.0,\n 0.0,\n 1.0567137,\n 0.0,\n 1.7325277,\n 0.0,\n 0.0,\n 0.93177974,\n 0.0,\n 0.0,\n 0.41627017,\n 2.4387598,\n 0.0,\n 0.0,\n 0.08179265,\n 0.0,\n 0.0,\n 0.6912972,\n 0.0,\n 0.0,\n 2.3218684,\n 0.7946458,\n 1.0618943,\n 0.0,\n 0.9336871,\n 0.0,\n 2.4718165,\n 2.2060406,\n 0.6929605,\n 2.0733445,\n 0.0,\n 0.0,\n 0.0,\n 0.7052007,\n 2.1022296,\n 3.4143775,\n 0.0,\n 0.6161823,\n 0.0,\n 1.5805085,\n 0.0,\n 0.0,\n 0.06266387,\n 0.0,\n 0.0,\n 2.10752,\n 0.0,\n 1.2467372,\n 0.0,\n 0.15579093,\n 2.0496068,\n 0.0,\n 3.472593,\n 0.7964926,\n 0.0,\n 0.6634233,\n 1.9458568,\n 0.0,\n 0.26675162,\n 2.6372044,\n 0.0,\n 2.0496068,\n 0.8193141,\n 0.0,\n 2.0367904,\n 2.8444602,\n 0.07950291,\n 1.2364912,\n 0.0,\n 0.0,\n 0.0,\n 0.105944246,\n 0.08179265,\n 0.0,\n 0.22690225,\n 1.3868773,\n 0.0,\n 0.0,\n 3.378582,\n 0.0,\n 3.4260993,\n 0.0,\n 1.4720902,\n 0.0,\n 1.9970686,\n 1.0056618,\n 0.0,\n 0.0,\n 0.5135548,\n 2.184002,\n 4.7481413,\n 0.0,\n 1.4878293,\n 0.0,\n 0.0,\n 0.0,\n 2.7031307,\n 0.0,\n 3.4386005,\n 0.0,\n 0.84077036,\n 0.0,\n 4.669954,\n 1.4820671,\n 3.3393946,\n 1.1230252,\n 1.7876372,\n 0.0,\n 0.7583666,\n 3.4419746,\n 0.86661375,\n 3.2579763,\n 0.0,\n 1.6421885,\n 1.0604436,\n 0.84666026,\n 0.0,\n 2.5574105,\n 0.0,\n 4.2386775,\n 0.0,\n 0.0,\n 0.0,\n 2.865843,\n 0.0,\n 1.9321419,\n 0.0,\n 0.54262334,\n 0.0,\n 0.0,\n 0.0,\n 0.0081450045,\n 1.0659941,\n 0.0,\n 0.7440907,\n 0.06603524,\n 1.1577799,\n 0.0,\n 0.0,\n 0.0,\n 0.89816284,\n 0.058321446,\n 5.118906,\n 1.817316,\n 0.0,\n 4.6788044,\n 0.0,\n 0.0,\n 1.827559,\n 0.90677786,\n 3.472593,\n 4.9195356,\n 1.1474332,\n 1.8017893,\n 1.8155913,\n 0.40292627,\n 0.0,\n 0.0,\n 1.1812222,\n 2.2739832,\n 2.0089586,\n 0.0,\n 1.5210638,\n 0.58508635,\n 0.0,\n 0.0,\n 1.8364648,\n 4.2370486,\n 0.0,\n 3.3731096,\n 0.0,\n 0.0,\n 2.7173994,\n 0.18328242,\n 0.6376177,\n 0.0,\n 1.0038399,\n 0.7676414,\n 1.420051,\n 0.09783682,\n 2.9127843,\n 4.646773,\n 0.0,\n 0.37487265,\n 0.08179265,\n 0.0,\n 0.8091774,\n 0.16456422,\n 1.5940757,\n 1.4720902,\n 0.0,\n 0.0,\n 2.8147888,\n 1.3311808,\n 0.8893517,\n 0.0,\n 0.0,\n 0.41789836,\n 0.0,\n 7.6522174,\n 0.0,\n 0.0,\n 0.0,\n 4.7175674,\n 0.0,\n 3.5017362,\n 0.0,\n 0.0,\n 3.8342755,\n 3.523909,\n 1.2144601,\n 5.1866045,\n 2.1033988]"
     },
     "execution_count": 82,
     "metadata": {},
     "output_type": "execute_result"
    }
   ],
   "source": [
    "list(Ptest)"
   ],
   "metadata": {
    "collapsed": false,
    "pycharm": {
     "name": "#%%\n"
    }
   }
  },
  {
   "cell_type": "code",
   "execution_count": 83,
   "outputs": [],
   "source": [
    "Ptest_rounded = [1 if i>0 else 0 for i in list(np.round(Ptest))]"
   ],
   "metadata": {
    "collapsed": false,
    "pycharm": {
     "name": "#%%\n"
    }
   }
  },
  {
   "cell_type": "code",
   "execution_count": 84,
   "outputs": [],
   "source": [
    "Ytest_rounded = [1 if i>0 else 0 for i in Ytest]"
   ],
   "metadata": {
    "collapsed": false,
    "pycharm": {
     "name": "#%%\n"
    }
   }
  },
  {
   "cell_type": "code",
   "execution_count": 85,
   "outputs": [
    {
     "data": {
      "text/plain": "[0,\n 1,\n 1,\n 0,\n 0,\n 1,\n 1,\n 1,\n 1,\n 1,\n 0,\n 1,\n 0,\n 1,\n 1,\n 0,\n 0,\n 0,\n 1,\n 1,\n 1,\n 1,\n 1,\n 1,\n 0,\n 0,\n 0,\n 1,\n 0,\n 1,\n 1,\n 1,\n 0,\n 1,\n 1,\n 1,\n 0,\n 0,\n 0,\n 0,\n 1,\n 0,\n 1,\n 0,\n 0,\n 1,\n 1,\n 0,\n 0,\n 0,\n 0,\n 0,\n 1,\n 1,\n 0,\n 1,\n 1,\n 1,\n 1,\n 0,\n 1,\n 0,\n 1,\n 0,\n 0,\n 0,\n 0,\n 1,\n 0,\n 1,\n 0,\n 1,\n 1,\n 0,\n 1,\n 0,\n 0,\n 1,\n 0,\n 0,\n 1,\n 1,\n 0,\n 0,\n 0,\n 0,\n 0,\n 1,\n 0,\n 0,\n 0,\n 1,\n 0,\n 0,\n 0,\n 0,\n 1,\n 1,\n 0,\n 1,\n 0,\n 0,\n 1,\n 1,\n 0,\n 0,\n 1,\n 0,\n 1,\n 0,\n 0,\n 1,\n 0,\n 1,\n 1,\n 1,\n 1,\n 1,\n 0,\n 1,\n 0,\n 0,\n 1,\n 1,\n 0,\n 1,\n 1,\n 0,\n 0,\n 1,\n 1,\n 1,\n 0,\n 0,\n 0,\n 1,\n 1,\n 1,\n 0,\n 0,\n 1,\n 0,\n 1,\n 0,\n 0,\n 1,\n 1,\n 1,\n 1,\n 1,\n 0,\n 0,\n 1,\n 0,\n 0,\n 1,\n 0,\n 0,\n 0,\n 0,\n 0,\n 1,\n 0,\n 1,\n 0,\n 0,\n 0,\n 1,\n 1,\n 0,\n 0,\n 0,\n 1,\n 1,\n 0,\n 1,\n 1,\n 0,\n 1,\n 0,\n 0,\n 1,\n 1,\n 1,\n 1,\n 0,\n 0,\n 1,\n 1,\n 1,\n 0,\n 0,\n 1,\n 1,\n 0,\n 0,\n 1,\n 0,\n 1,\n 1,\n 1,\n 1,\n 1,\n 1,\n 1,\n 1,\n 0,\n 0,\n 1,\n 0,\n 1,\n 0,\n 1,\n 0,\n 0,\n 1,\n 0,\n 1,\n 1,\n 0,\n 0,\n 0,\n 0,\n 1,\n 0,\n 0,\n 0,\n 0,\n 1,\n 1,\n 0,\n 0,\n 1,\n 0,\n 0,\n 0,\n 1,\n 1,\n 0,\n 0,\n 0,\n 1,\n 0,\n 0,\n 1,\n 1,\n 1,\n 1,\n 0,\n 0,\n 0,\n 1,\n 0,\n 1,\n 0,\n 0,\n 1,\n 0,\n 0,\n 1,\n 1,\n 1,\n 0,\n 1,\n 0,\n 1,\n 0,\n 1,\n 1,\n 0,\n 1,\n 1,\n 0,\n 0,\n 0,\n 0,\n 0,\n 0,\n 1,\n 0,\n 1,\n 1,\n 1,\n 1,\n 1,\n 0,\n 0,\n 1,\n 1,\n 0,\n 1,\n 0,\n 1,\n 1,\n 0,\n 0,\n 0,\n 0,\n 0,\n 0,\n 1,\n 1,\n 0,\n 1,\n 1,\n 1,\n 0,\n 0,\n 1,\n 1,\n 1,\n 1,\n 0,\n 1,\n 1,\n 0,\n 0,\n 0,\n 0,\n 1,\n 0,\n 1,\n 0,\n 0,\n 0,\n 0,\n 0,\n 1,\n 1,\n 1,\n 0,\n 1,\n 0,\n 0,\n 0,\n 0,\n 0,\n 1,\n 1,\n 1,\n 0,\n 0,\n 1,\n 1,\n 0,\n 1,\n 1,\n 1,\n 1,\n 0,\n 0,\n 1,\n 1,\n 1,\n 1,\n 1,\n 0,\n 1,\n 0,\n 0,\n 0,\n 0,\n 0,\n 0,\n 1,\n 1,\n 0,\n 1,\n 1,\n 0,\n 1,\n 0,\n 0,\n 0,\n 1,\n 0,\n 0,\n 1,\n 0,\n 0,\n 0,\n 1,\n 0,\n 0,\n 0,\n 0,\n 0,\n 0,\n 1,\n 0,\n 0,\n 1,\n 0,\n 1,\n 1,\n 0,\n 0,\n 1,\n 1,\n 0,\n 0,\n 1,\n 0,\n 0,\n 1,\n 1,\n 0,\n 0,\n 1,\n 1,\n 0,\n 0,\n 1,\n 0,\n 1,\n 1,\n 0,\n 1,\n 1,\n 0,\n 0,\n 0,\n 0,\n 1,\n 1,\n 1,\n 1,\n 0,\n 0,\n 1,\n 0,\n 0,\n 0,\n 1,\n 0,\n 0,\n 1,\n 0,\n 0,\n 1,\n 1,\n 0,\n 1,\n 0,\n 0,\n 0,\n 0,\n 1,\n 1,\n 0,\n 0,\n 0,\n 0,\n 0,\n 1,\n 0,\n 1,\n 1,\n 0,\n 1,\n 1,\n 1,\n 1,\n 1,\n 0,\n 1,\n 0,\n 0,\n 1,\n 0,\n 1,\n 0,\n 0,\n 0,\n 1,\n 0,\n 1,\n 1,\n 0,\n 1,\n 1,\n 1,\n 1,\n 1,\n 0,\n 1,\n 0,\n 1,\n 0,\n 1,\n 1,\n 1,\n 1,\n 0,\n 0,\n 1,\n 0,\n 1,\n 0,\n 1,\n 0,\n 0,\n 0,\n 1,\n 0,\n 0,\n 0,\n 0,\n 1,\n 0,\n 1,\n 1,\n 0,\n 0,\n 1,\n 1,\n 0,\n 1,\n 0,\n 1,\n 1,\n 1,\n 0,\n 0,\n 1,\n 1,\n 1,\n 0,\n 0,\n 1,\n 1,\n 0,\n 0,\n 0,\n 0,\n 1,\n 1,\n 0,\n 1,\n 1,\n 0,\n 0,\n 1,\n 0,\n 0,\n 0,\n 0,\n 0,\n 0,\n 1,\n 0,\n 1,\n 1,\n 0,\n 0,\n 0,\n 1,\n 0,\n 0,\n 1,\n 0,\n 0,\n 0,\n 0,\n 1,\n 1,\n 0,\n 0,\n 1,\n 0,\n 0,\n 1,\n 1,\n 1,\n 1,\n 1,\n 0,\n 0,\n 0,\n 0,\n 1,\n 1,\n 0,\n 0,\n 1,\n 1,\n 1,\n 0,\n 1,\n 0,\n 0,\n 1,\n 0,\n 1,\n 1,\n 0,\n 0,\n 1,\n 1,\n 1,\n 0,\n 0,\n 1,\n 1,\n 1,\n 0,\n 0,\n 1,\n 1,\n 0,\n 1,\n 0,\n 1,\n 0,\n 0,\n 0,\n 1,\n 0,\n 0,\n 0,\n 0,\n 1,\n 0,\n 0,\n 1,\n 1,\n 0,\n 0,\n 1,\n 0,\n 0,\n 1,\n 1,\n 0,\n 1,\n 0,\n 0,\n 0,\n 1,\n 1,\n 1,\n 1,\n 1,\n 1,\n 1,\n 1,\n 0,\n 1,\n 1,\n 0,\n 0,\n 1,\n 0,\n 0,\n 0,\n 1,\n 0,\n 0,\n 0,\n 1,\n 1,\n 1,\n 0,\n 1,\n 1,\n 0,\n 0,\n 1,\n 0,\n 1,\n 1,\n 0,\n 0,\n 1,\n 0,\n 0,\n 1,\n 0,\n 0,\n 0,\n 1,\n 1,\n 1,\n 0,\n 0,\n 0,\n 1,\n 1,\n 1,\n 1,\n 1,\n 0,\n 1,\n 0,\n 1,\n 1,\n 0,\n 1,\n 1,\n 1,\n 0,\n 0,\n 0,\n 1,\n 1,\n 1,\n 0,\n 1,\n 0,\n 0,\n 0,\n 0,\n 1,\n 1,\n 1,\n 1,\n 0,\n 0,\n 1,\n 0,\n 0,\n 0,\n 0,\n 0,\n 0,\n 0,\n 0,\n 0,\n 0,\n 1,\n 1,\n 1,\n 0,\n 0,\n 0,\n 0,\n 0,\n 0,\n 1,\n 0,\n 0,\n 0,\n 1,\n 1,\n 1,\n 0,\n 0,\n 0,\n 1,\n 1,\n 0,\n 0,\n 1,\n 0,\n 0,\n 0,\n 1,\n 0,\n 1,\n 0,\n 0,\n 0,\n 1,\n 1,\n 0,\n 1,\n 0,\n 1,\n 0,\n 0,\n 0,\n 1,\n 0,\n 0,\n 1,\n 0,\n 1,\n 1,\n 1,\n 0,\n 0,\n 1,\n 1,\n 0,\n 1,\n 1,\n 0,\n 0,\n 0,\n 1,\n 0,\n 1,\n 0,\n 0,\n 1,\n 0,\n 0,\n 0,\n 1,\n 0,\n 0,\n 0,\n 0,\n 0,\n 1,\n 0,\n 0,\n 1,\n 1,\n 1,\n 0,\n 1,\n 0,\n 1,\n 1,\n 1,\n 1,\n 0,\n 0,\n 0,\n 1,\n 1,\n 1,\n 0,\n 1,\n 0,\n 1,\n 0,\n 0,\n 0,\n 0,\n 0,\n 1,\n 0,\n 1,\n 0,\n 0,\n 1,\n 0,\n 1,\n 1,\n 0,\n 1,\n 1,\n 0,\n 0,\n 1,\n 0,\n 1,\n 1,\n 0,\n 1,\n 1,\n 0,\n 1,\n 0,\n 0,\n 0,\n 0,\n 0,\n 0,\n 0,\n 1,\n 0,\n 0,\n 1,\n 0,\n 1,\n 0,\n 1,\n 0,\n 1,\n 1,\n 0,\n 0,\n 1,\n 1,\n 1,\n 0,\n 1,\n 0,\n 0,\n 0,\n 1,\n 0,\n 1,\n 0,\n 1,\n 0,\n 1,\n 1,\n 1,\n 1,\n 1,\n 0,\n 1,\n 1,\n 1,\n 1,\n 0,\n 1,\n 1,\n 1,\n 0,\n 1,\n 0,\n 1,\n 0,\n 0,\n 0,\n 1,\n 0,\n 1,\n 0,\n 1,\n 0,\n 0,\n 0,\n 0,\n 1,\n 0,\n 1,\n 0,\n 1,\n 0,\n 0,\n 0,\n 1,\n 0,\n 1,\n 1,\n 0,\n 1,\n 0,\n 0,\n 1,\n 1,\n 1,\n 1,\n 1,\n 1,\n 1,\n 0,\n 0,\n 0,\n 1,\n 1,\n 1,\n 0,\n 1,\n 1,\n 0,\n 0,\n 1,\n 1,\n 0,\n 1,\n 0,\n 0,\n 1,\n 0,\n 1,\n 0,\n 1,\n 1,\n 1,\n 0,\n 1,\n 1,\n 0,\n 0,\n 0,\n 0,\n 1,\n 0,\n 1,\n 1,\n 0,\n 0,\n 1,\n 1,\n 1,\n 0,\n 0,\n 0,\n 0,\n 1,\n 0,\n 0,\n 0,\n 1,\n 0,\n 1,\n 0,\n 0,\n 1,\n 1,\n 1,\n 1,\n 1]"
     },
     "execution_count": 85,
     "metadata": {},
     "output_type": "execute_result"
    }
   ],
   "source": [
    "Ptest_rounded"
   ],
   "metadata": {
    "collapsed": false,
    "pycharm": {
     "name": "#%%\n"
    }
   }
  },
  {
   "cell_type": "code",
   "execution_count": 87,
   "outputs": [],
   "source": [
    "df_results = pd.DataFrame({'Y': Ytest_rounded, 'Ypred': Ptest_rounded})"
   ],
   "metadata": {
    "collapsed": false,
    "pycharm": {
     "name": "#%%\n"
    }
   }
  },
  {
   "cell_type": "code",
   "execution_count": 90,
   "outputs": [
    {
     "data": {
      "text/plain": "     Y  Ypred\n0    0      0\n1    0      1\n2    1      1\n3    0      0\n4    0      0\n..  ..    ...\n995  1      1\n996  1      1\n997  1      1\n998  1      1\n999  0      1\n\n[1000 rows x 2 columns]",
      "text/html": "<div>\n<style scoped>\n    .dataframe tbody tr th:only-of-type {\n        vertical-align: middle;\n    }\n\n    .dataframe tbody tr th {\n        vertical-align: top;\n    }\n\n    .dataframe thead th {\n        text-align: right;\n    }\n</style>\n<table border=\"1\" class=\"dataframe\">\n  <thead>\n    <tr style=\"text-align: right;\">\n      <th></th>\n      <th>Y</th>\n      <th>Ypred</th>\n    </tr>\n  </thead>\n  <tbody>\n    <tr>\n      <th>0</th>\n      <td>0</td>\n      <td>0</td>\n    </tr>\n    <tr>\n      <th>1</th>\n      <td>0</td>\n      <td>1</td>\n    </tr>\n    <tr>\n      <th>2</th>\n      <td>1</td>\n      <td>1</td>\n    </tr>\n    <tr>\n      <th>3</th>\n      <td>0</td>\n      <td>0</td>\n    </tr>\n    <tr>\n      <th>4</th>\n      <td>0</td>\n      <td>0</td>\n    </tr>\n    <tr>\n      <th>...</th>\n      <td>...</td>\n      <td>...</td>\n    </tr>\n    <tr>\n      <th>995</th>\n      <td>1</td>\n      <td>1</td>\n    </tr>\n    <tr>\n      <th>996</th>\n      <td>1</td>\n      <td>1</td>\n    </tr>\n    <tr>\n      <th>997</th>\n      <td>1</td>\n      <td>1</td>\n    </tr>\n    <tr>\n      <th>998</th>\n      <td>1</td>\n      <td>1</td>\n    </tr>\n    <tr>\n      <th>999</th>\n      <td>0</td>\n      <td>1</td>\n    </tr>\n  </tbody>\n</table>\n<p>1000 rows × 2 columns</p>\n</div>"
     },
     "execution_count": 90,
     "metadata": {},
     "output_type": "execute_result"
    }
   ],
   "source": [
    "df_results"
   ],
   "metadata": {
    "collapsed": false,
    "pycharm": {
     "name": "#%%\n"
    }
   }
  },
  {
   "cell_type": "code",
   "execution_count": 93,
   "outputs": [
    {
     "name": "stdout",
     "output_type": "stream",
     "text": [
      "Accuracy: 0.86\n",
      "Confusion Matrix\n",
      "[[470  85]\n",
      " [ 55 390]]\n",
      "Classification Report\n",
      "              precision    recall  f1-score   support\n",
      "\n",
      "           0       0.90      0.85      0.87       555\n",
      "           1       0.82      0.88      0.85       445\n",
      "\n",
      "    accuracy                           0.86      1000\n",
      "   macro avg       0.86      0.86      0.86      1000\n",
      "weighted avg       0.86      0.86      0.86      1000\n",
      "\n"
     ]
    }
   ],
   "source": [
    "# Print results:\n",
    "from sklearn.metrics import classification_report, confusion_matrix, accuracy_score\n",
    "print(f'Accuracy: {accuracy_score(Ytest_rounded, Ptest_rounded)}')\n",
    "print('Confusion Matrix')\n",
    "print(confusion_matrix(Ytest_rounded, Ptest_rounded))\n",
    "print('Classification Report')\n",
    "print(classification_report(Ytest_rounded, Ptest_rounded))"
   ],
   "metadata": {
    "collapsed": false,
    "pycharm": {
     "name": "#%%\n"
    }
   }
  },
  {
   "cell_type": "code",
   "execution_count": 96,
   "outputs": [],
   "source": [
    "# sequences for evaluation (from the third not 0 element)\n",
    "eval_sequences = []\n",
    "eval_labels = []\n",
    "for sequence in initlal_sequences:\n",
    "    number_of_accesses = sum(sequence)\n",
    "    # skip not popular datasets\n",
    "    if number_of_accesses > 30:\n",
    "        try:\n",
    "            new_index = [index for index,item in enumerate(sequence) if item > 0][1]\n",
    "            if len(sequence[new_index:]) > N+1:\n",
    "                new_sequence = sequence[new_index:new_index+N]\n",
    "                eval_sequences.append(new_sequence)\n",
    "                eval_labels.append(1 if sequence[new_index+N]>0 else 0)\n",
    "        except:\n",
    "            continue"
   ],
   "metadata": {
    "collapsed": false,
    "pycharm": {
     "name": "#%%\n"
    }
   }
  },
  {
   "cell_type": "code",
   "execution_count": 97,
   "outputs": [],
   "source": [
    "eval_sequences = np.array(eval_sequences)\n",
    "eval_sequences = eval_sequences.reshape((eval_sequences.shape[0], eval_sequences.shape[1], 1))"
   ],
   "metadata": {
    "collapsed": false,
    "pycharm": {
     "name": "#%%\n"
    }
   }
  },
  {
   "cell_type": "code",
   "execution_count": 98,
   "outputs": [
    {
     "data": {
      "text/plain": "array([[[4],\n        [1],\n        [0],\n        ...,\n        [1],\n        [1],\n        [0]],\n\n       [[2],\n        [2],\n        [0],\n        ...,\n        [0],\n        [0],\n        [0]],\n\n       [[1],\n        [8],\n        [0],\n        ...,\n        [0],\n        [0],\n        [0]],\n\n       ...,\n\n       [[5],\n        [4],\n        [1],\n        ...,\n        [4],\n        [0],\n        [2]],\n\n       [[2],\n        [1],\n        [0],\n        ...,\n        [4],\n        [0],\n        [4]],\n\n       [[1],\n        [0],\n        [0],\n        ...,\n        [0],\n        [1],\n        [0]]])"
     },
     "execution_count": 98,
     "metadata": {},
     "output_type": "execute_result"
    }
   ],
   "source": [
    "eval_sequences"
   ],
   "metadata": {
    "collapsed": false,
    "pycharm": {
     "name": "#%%\n"
    }
   }
  },
  {
   "cell_type": "code",
   "execution_count": 103,
   "outputs": [],
   "source": [
    "eval_labels = np.array(eval_labels)\n",
    "eval_labels = [1 if i>0 else 0 for i in eval_labels]"
   ],
   "metadata": {
    "collapsed": false,
    "pycharm": {
     "name": "#%%\n"
    }
   }
  },
  {
   "cell_type": "code",
   "execution_count": 99,
   "outputs": [
    {
     "name": "stdout",
     "output_type": "stream",
     "text": [
      "309/309 [==============================] - 1s 3ms/step\n"
     ]
    }
   ],
   "source": [
    "pred_y_eval = model.predict(eval_sequences).flatten()"
   ],
   "metadata": {
    "collapsed": false,
    "pycharm": {
     "name": "#%%\n"
    }
   }
  },
  {
   "cell_type": "code",
   "execution_count": 101,
   "outputs": [],
   "source": [
    "# evaluate\n",
    "pred_rounded = [1 if i>0 else 0 for i in list(np.round(pred_y_eval))]"
   ],
   "metadata": {
    "collapsed": false,
    "pycharm": {
     "name": "#%%\n"
    }
   }
  },
  {
   "cell_type": "code",
   "execution_count": 104,
   "outputs": [
    {
     "name": "stdout",
     "output_type": "stream",
     "text": [
      "Accuracy: 0.7241169922072664\n",
      "Confusion Matrix\n",
      "[[4023 1573]\n",
      " [1153 3132]]\n",
      "Classification Report\n",
      "              precision    recall  f1-score   support\n",
      "\n",
      "           0       0.78      0.72      0.75      5596\n",
      "           1       0.67      0.73      0.70      4285\n",
      "\n",
      "    accuracy                           0.72      9881\n",
      "   macro avg       0.72      0.72      0.72      9881\n",
      "weighted avg       0.73      0.72      0.73      9881\n",
      "\n"
     ]
    }
   ],
   "source": [
    "from sklearn.metrics import classification_report, confusion_matrix, accuracy_score\n",
    "print(f'Accuracy: {accuracy_score(eval_labels, pred_rounded)}')\n",
    "print('Confusion Matrix')\n",
    "print(confusion_matrix(eval_labels, pred_rounded))\n",
    "print('Classification Report')\n",
    "print(classification_report(eval_labels, pred_rounded))"
   ],
   "metadata": {
    "collapsed": false,
    "pycharm": {
     "name": "#%%\n"
    }
   }
  },
  {
   "cell_type": "code",
   "execution_count": null,
   "outputs": [],
   "source": [],
   "metadata": {
    "collapsed": false,
    "pycharm": {
     "name": "#%%\n"
    }
   }
  }
 ],
 "metadata": {
  "kernelspec": {
   "display_name": "Python 3",
   "language": "python",
   "name": "python3"
  },
  "language_info": {
   "codemirror_mode": {
    "name": "ipython",
    "version": 2
   },
   "file_extension": ".py",
   "mimetype": "text/x-python",
   "name": "python",
   "nbconvert_exporter": "python",
   "pygments_lexer": "ipython2",
   "version": "2.7.6"
  }
 },
 "nbformat": 4,
 "nbformat_minor": 0
}