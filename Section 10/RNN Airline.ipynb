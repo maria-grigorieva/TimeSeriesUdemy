{
 "cells": [
  {
   "cell_type": "code",
   "execution_count": 25,
   "outputs": [],
   "source": [
    "import pandas as pd\n",
    "import numpy as np\n",
    "import matplotlib.pyplot as plt\n",
    "\n",
    "import tensorflow as tf\n",
    "from tensorflow.keras.layers import Dense, Input, GlobalMaxPooling1D, LSTM, GRU\n",
    "from tensorflow.keras.models import Model\n",
    "from tensorflow.keras.callbacks import ModelCheckpoint\n",
    "\n",
    "np.random.seed(0)\n",
    "tf.random.set_seed(0)"
   ],
   "metadata": {
    "collapsed": false,
    "pycharm": {
     "name": "#%%\n"
    }
   }
  },
  {
   "cell_type": "code",
   "execution_count": 26,
   "outputs": [],
   "source": [
    "df = pd.read_csv('../DataSamples/airline_passengers.csv',\n",
    "                 index_col='Month',\n",
    "                 parse_dates=True)"
   ],
   "metadata": {
    "collapsed": false,
    "pycharm": {
     "name": "#%%\n"
    }
   }
  },
  {
   "cell_type": "code",
   "execution_count": 27,
   "outputs": [],
   "source": [
    "df['LogPassengers'] = np.log(df['Passengers'])"
   ],
   "metadata": {
    "collapsed": false,
    "pycharm": {
     "name": "#%%\n"
    }
   }
  },
  {
   "cell_type": "code",
   "execution_count": 28,
   "outputs": [],
   "source": [
    "Ntest = 12\n",
    "train = df.iloc[:-Ntest]\n",
    "test = df.iloc[-Ntest:]"
   ],
   "metadata": {
    "collapsed": false,
    "pycharm": {
     "name": "#%%\n"
    }
   }
  },
  {
   "cell_type": "code",
   "execution_count": 29,
   "outputs": [],
   "source": [
    "# boolean series to index df rows\n",
    "train_idx = df.index <= train.index[-1]\n",
    "test_idx = df.index > train.index[-1]"
   ],
   "metadata": {
    "collapsed": false,
    "pycharm": {
     "name": "#%%\n"
    }
   }
  },
  {
   "cell_type": "code",
   "execution_count": 30,
   "outputs": [],
   "source": [
    "df['DiffLogPassengers'] = df['LogPassengers'].diff()"
   ],
   "metadata": {
    "collapsed": false,
    "pycharm": {
     "name": "#%%\n"
    }
   }
  },
  {
   "cell_type": "code",
   "execution_count": 31,
   "outputs": [],
   "source": [
    "# Make supervised datasets\n",
    "\n",
    "series = df['DiffLogPassengers'].dropna().to_numpy()\n",
    "\n",
    "T = 10\n",
    "X = []\n",
    "Y = []\n",
    "for t in range(len(series) - T):\n",
    "    x = series[t:t+T]\n",
    "    X.append(x)\n",
    "    y = series[t+T]\n",
    "    Y.append(y)"
   ],
   "metadata": {
    "collapsed": false,
    "pycharm": {
     "name": "#%%\n"
    }
   }
  },
  {
   "cell_type": "code",
   "execution_count": 32,
   "outputs": [
    {
     "data": {
      "text/plain": "array([[[ 0.05218575],\n        [ 0.1121173 ],\n        [-0.02298952],\n        ...,\n        [-0.08455739],\n        [-0.13353139],\n        [-0.13473259]],\n\n       [[ 0.1121173 ],\n        [-0.02298952],\n        [-0.06402186],\n        ...,\n        [-0.13353139],\n        [-0.13473259],\n        [ 0.12629373]],\n\n       [[-0.02298952],\n        [-0.06402186],\n        [ 0.10948423],\n        ...,\n        [-0.13473259],\n        [ 0.12629373],\n        [-0.0257525 ]],\n\n       ...,\n\n       [[ 0.11224286],\n        [ 0.02919915],\n        [-0.06437866],\n        ...,\n        [ 0.15067335],\n        [-0.02606011],\n        [-0.17639854]],\n\n       [[ 0.02919915],\n        [-0.06437866],\n        [ 0.06916336],\n        ...,\n        [-0.02606011],\n        [-0.17639854],\n        [-0.0970834 ]],\n\n       [[-0.06437866],\n        [ 0.06916336],\n        [ 0.09552712],\n        ...,\n        [-0.17639854],\n        [-0.0970834 ],\n        [-0.1672513 ]]])"
     },
     "execution_count": 32,
     "metadata": {},
     "output_type": "execute_result"
    }
   ],
   "source": [
    "np.array(X).reshape(-1, T, 1)"
   ],
   "metadata": {
    "collapsed": false,
    "pycharm": {
     "name": "#%%\n"
    }
   }
  },
  {
   "cell_type": "code",
   "execution_count": 33,
   "outputs": [],
   "source": [
    "X = np.array(X).reshape(-1, T, 1)\n",
    "Y = np.array(Y)\n",
    "N = len(X)"
   ],
   "metadata": {
    "collapsed": false,
    "pycharm": {
     "name": "#%%\n"
    }
   }
  },
  {
   "cell_type": "code",
   "execution_count": 34,
   "outputs": [
    {
     "data": {
      "text/plain": "(133, 10, 1)"
     },
     "execution_count": 34,
     "metadata": {},
     "output_type": "execute_result"
    }
   ],
   "source": [
    "X.shape"
   ],
   "metadata": {
    "collapsed": false,
    "pycharm": {
     "name": "#%%\n"
    }
   }
  },
  {
   "cell_type": "code",
   "execution_count": 35,
   "outputs": [
    {
     "data": {
      "text/plain": "(133,)"
     },
     "execution_count": 35,
     "metadata": {},
     "output_type": "execute_result"
    }
   ],
   "source": [
    "Y.shape"
   ],
   "metadata": {
    "collapsed": false,
    "pycharm": {
     "name": "#%%\n"
    }
   }
  },
  {
   "cell_type": "code",
   "execution_count": 36,
   "outputs": [],
   "source": [
    "Xtrain, Ytrain = X[:-Ntest], Y[:-Ntest]\n",
    "Xtest, Ytest = X[-Ntest:], Y[-Ntest:]"
   ],
   "metadata": {
    "collapsed": false,
    "pycharm": {
     "name": "#%%\n"
    }
   }
  },
  {
   "cell_type": "code",
   "execution_count": 37,
   "outputs": [],
   "source": [
    "# RNN\n",
    "i = Input(shape=(T,1))\n",
    "x = LSTM(24)(i)\n",
    "x = Dense(1)(x)\n",
    "model = Model(i, x)"
   ],
   "metadata": {
    "collapsed": false,
    "pycharm": {
     "name": "#%%\n"
    }
   }
  },
  {
   "cell_type": "code",
   "execution_count": 38,
   "outputs": [
    {
     "name": "stdout",
     "output_type": "stream",
     "text": [
      "Model: \"model_1\"\n",
      "_________________________________________________________________\n",
      " Layer (type)                Output Shape              Param #   \n",
      "=================================================================\n",
      " input_2 (InputLayer)        [(None, 10, 1)]           0         \n",
      "                                                                 \n",
      " lstm_1 (LSTM)               (None, 24)                2496      \n",
      "                                                                 \n",
      " dense_1 (Dense)             (None, 1)                 25        \n",
      "                                                                 \n",
      "=================================================================\n",
      "Total params: 2,521\n",
      "Trainable params: 2,521\n",
      "Non-trainable params: 0\n",
      "_________________________________________________________________\n"
     ]
    }
   ],
   "source": [
    "model.summary()"
   ],
   "metadata": {
    "collapsed": false,
    "pycharm": {
     "name": "#%%\n"
    }
   }
  },
  {
   "cell_type": "code",
   "execution_count": 39,
   "outputs": [],
   "source": [
    "model.compile(\n",
    "    loss='mse',\n",
    "    optimizer='adam'\n",
    ")"
   ],
   "metadata": {
    "collapsed": false,
    "pycharm": {
     "name": "#%%\n"
    }
   }
  },
  {
   "cell_type": "code",
   "execution_count": 40,
   "outputs": [
    {
     "name": "stdout",
     "output_type": "stream",
     "text": [
      "Epoch 1/100\n",
      "WARNING:tensorflow:AutoGraph could not transform <function Model.make_train_function.<locals>.train_function at 0x7fcf2655b4d0> and will run it as-is.\n",
      "Please report this to the TensorFlow team. When filing the bug, set the verbosity to 10 (on Linux, `export AUTOGRAPH_VERBOSITY=10`) and attach the full output.\n",
      "Cause: 'arguments' object has no attribute 'posonlyargs'\n",
      "To silence this warning, decorate the function with @tf.autograph.experimental.do_not_convert\n",
      "WARNING: AutoGraph could not transform <function Model.make_train_function.<locals>.train_function at 0x7fcf2655b4d0> and will run it as-is.\n",
      "Please report this to the TensorFlow team. When filing the bug, set the verbosity to 10 (on Linux, `export AUTOGRAPH_VERBOSITY=10`) and attach the full output.\n",
      "Cause: 'arguments' object has no attribute 'posonlyargs'\n",
      "To silence this warning, decorate the function with @tf.autograph.experimental.do_not_convert\n",
      "1/4 [======>.......................] - ETA: 6s - loss: 0.0111WARNING:tensorflow:AutoGraph could not transform <function Model.make_test_function.<locals>.test_function at 0x7fcf068da170> and will run it as-is.\n",
      "Please report this to the TensorFlow team. When filing the bug, set the verbosity to 10 (on Linux, `export AUTOGRAPH_VERBOSITY=10`) and attach the full output.\n",
      "Cause: 'arguments' object has no attribute 'posonlyargs'\n",
      "To silence this warning, decorate the function with @tf.autograph.experimental.do_not_convert\n",
      "WARNING: AutoGraph could not transform <function Model.make_test_function.<locals>.test_function at 0x7fcf068da170> and will run it as-is.\n",
      "Please report this to the TensorFlow team. When filing the bug, set the verbosity to 10 (on Linux, `export AUTOGRAPH_VERBOSITY=10`) and attach the full output.\n",
      "Cause: 'arguments' object has no attribute 'posonlyargs'\n",
      "To silence this warning, decorate the function with @tf.autograph.experimental.do_not_convert\n",
      "4/4 [==============================] - 3s 147ms/step - loss: 0.0110 - val_loss: 0.0106\n",
      "Epoch 2/100\n",
      "4/4 [==============================] - 0s 11ms/step - loss: 0.0105 - val_loss: 0.0103\n",
      "Epoch 3/100\n",
      "4/4 [==============================] - 0s 11ms/step - loss: 0.0102 - val_loss: 0.0099\n",
      "Epoch 4/100\n",
      "4/4 [==============================] - 0s 11ms/step - loss: 0.0100 - val_loss: 0.0095\n",
      "Epoch 5/100\n",
      "4/4 [==============================] - 0s 11ms/step - loss: 0.0096 - val_loss: 0.0092\n",
      "Epoch 6/100\n",
      "4/4 [==============================] - 0s 11ms/step - loss: 0.0092 - val_loss: 0.0087\n",
      "Epoch 7/100\n",
      "4/4 [==============================] - 0s 11ms/step - loss: 0.0089 - val_loss: 0.0081\n",
      "Epoch 8/100\n",
      "4/4 [==============================] - 0s 12ms/step - loss: 0.0083 - val_loss: 0.0075\n",
      "Epoch 9/100\n",
      "4/4 [==============================] - 0s 12ms/step - loss: 0.0079 - val_loss: 0.0070\n",
      "Epoch 10/100\n",
      "4/4 [==============================] - 0s 12ms/step - loss: 0.0073 - val_loss: 0.0062\n",
      "Epoch 11/100\n",
      "4/4 [==============================] - 0s 12ms/step - loss: 0.0069 - val_loss: 0.0057\n",
      "Epoch 12/100\n",
      "4/4 [==============================] - 0s 12ms/step - loss: 0.0066 - val_loss: 0.0055\n",
      "Epoch 13/100\n",
      "4/4 [==============================] - 0s 11ms/step - loss: 0.0064 - val_loss: 0.0053\n",
      "Epoch 14/100\n",
      "4/4 [==============================] - 0s 12ms/step - loss: 0.0062 - val_loss: 0.0054\n",
      "Epoch 15/100\n",
      "4/4 [==============================] - 0s 12ms/step - loss: 0.0061 - val_loss: 0.0052\n",
      "Epoch 16/100\n",
      "4/4 [==============================] - 0s 12ms/step - loss: 0.0060 - val_loss: 0.0049\n",
      "Epoch 17/100\n",
      "4/4 [==============================] - 0s 12ms/step - loss: 0.0059 - val_loss: 0.0046\n",
      "Epoch 18/100\n",
      "4/4 [==============================] - 0s 12ms/step - loss: 0.0057 - val_loss: 0.0047\n",
      "Epoch 19/100\n",
      "4/4 [==============================] - 0s 12ms/step - loss: 0.0057 - val_loss: 0.0047\n",
      "Epoch 20/100\n",
      "4/4 [==============================] - 0s 12ms/step - loss: 0.0057 - val_loss: 0.0044\n",
      "Epoch 21/100\n",
      "4/4 [==============================] - 0s 12ms/step - loss: 0.0056 - val_loss: 0.0045\n",
      "Epoch 22/100\n",
      "4/4 [==============================] - 0s 12ms/step - loss: 0.0055 - val_loss: 0.0042\n",
      "Epoch 23/100\n",
      "4/4 [==============================] - 0s 12ms/step - loss: 0.0055 - val_loss: 0.0042\n",
      "Epoch 24/100\n",
      "4/4 [==============================] - 0s 12ms/step - loss: 0.0054 - val_loss: 0.0043\n",
      "Epoch 25/100\n",
      "4/4 [==============================] - 0s 12ms/step - loss: 0.0054 - val_loss: 0.0042\n",
      "Epoch 26/100\n",
      "4/4 [==============================] - 0s 11ms/step - loss: 0.0055 - val_loss: 0.0040\n",
      "Epoch 27/100\n",
      "4/4 [==============================] - 0s 11ms/step - loss: 0.0054 - val_loss: 0.0043\n",
      "Epoch 28/100\n",
      "4/4 [==============================] - 0s 12ms/step - loss: 0.0053 - val_loss: 0.0041\n",
      "Epoch 29/100\n",
      "4/4 [==============================] - 0s 12ms/step - loss: 0.0054 - val_loss: 0.0040\n",
      "Epoch 30/100\n",
      "4/4 [==============================] - 0s 11ms/step - loss: 0.0051 - val_loss: 0.0043\n",
      "Epoch 31/100\n",
      "4/4 [==============================] - 0s 11ms/step - loss: 0.0053 - val_loss: 0.0042\n",
      "Epoch 32/100\n",
      "4/4 [==============================] - 0s 11ms/step - loss: 0.0052 - val_loss: 0.0039\n",
      "Epoch 33/100\n",
      "4/4 [==============================] - 0s 11ms/step - loss: 0.0052 - val_loss: 0.0039\n",
      "Epoch 34/100\n",
      "4/4 [==============================] - 0s 11ms/step - loss: 0.0051 - val_loss: 0.0040\n",
      "Epoch 35/100\n",
      "4/4 [==============================] - 0s 12ms/step - loss: 0.0051 - val_loss: 0.0041\n",
      "Epoch 36/100\n",
      "4/4 [==============================] - 0s 13ms/step - loss: 0.0051 - val_loss: 0.0040\n",
      "Epoch 37/100\n",
      "4/4 [==============================] - 0s 11ms/step - loss: 0.0051 - val_loss: 0.0038\n",
      "Epoch 38/100\n",
      "4/4 [==============================] - 0s 11ms/step - loss: 0.0051 - val_loss: 0.0039\n",
      "Epoch 39/100\n",
      "4/4 [==============================] - 0s 12ms/step - loss: 0.0050 - val_loss: 0.0040\n",
      "Epoch 40/100\n",
      "4/4 [==============================] - 0s 12ms/step - loss: 0.0051 - val_loss: 0.0040\n",
      "Epoch 41/100\n",
      "4/4 [==============================] - 0s 12ms/step - loss: 0.0051 - val_loss: 0.0038\n",
      "Epoch 42/100\n",
      "4/4 [==============================] - 0s 12ms/step - loss: 0.0051 - val_loss: 0.0040\n",
      "Epoch 43/100\n",
      "4/4 [==============================] - 0s 12ms/step - loss: 0.0050 - val_loss: 0.0040\n",
      "Epoch 44/100\n",
      "4/4 [==============================] - 0s 12ms/step - loss: 0.0051 - val_loss: 0.0038\n",
      "Epoch 45/100\n",
      "4/4 [==============================] - 0s 11ms/step - loss: 0.0050 - val_loss: 0.0038\n",
      "Epoch 46/100\n",
      "4/4 [==============================] - 0s 12ms/step - loss: 0.0050 - val_loss: 0.0040\n",
      "Epoch 47/100\n",
      "4/4 [==============================] - 0s 12ms/step - loss: 0.0050 - val_loss: 0.0038\n",
      "Epoch 48/100\n",
      "4/4 [==============================] - 0s 11ms/step - loss: 0.0050 - val_loss: 0.0037\n",
      "Epoch 49/100\n",
      "4/4 [==============================] - 0s 12ms/step - loss: 0.0050 - val_loss: 0.0039\n",
      "Epoch 50/100\n",
      "4/4 [==============================] - 0s 12ms/step - loss: 0.0050 - val_loss: 0.0040\n",
      "Epoch 51/100\n",
      "4/4 [==============================] - 0s 12ms/step - loss: 0.0050 - val_loss: 0.0038\n",
      "Epoch 52/100\n",
      "4/4 [==============================] - 0s 12ms/step - loss: 0.0050 - val_loss: 0.0038\n",
      "Epoch 53/100\n",
      "4/4 [==============================] - 0s 13ms/step - loss: 0.0049 - val_loss: 0.0040\n",
      "Epoch 54/100\n",
      "4/4 [==============================] - 0s 11ms/step - loss: 0.0050 - val_loss: 0.0038\n",
      "Epoch 55/100\n",
      "4/4 [==============================] - 0s 11ms/step - loss: 0.0049 - val_loss: 0.0038\n",
      "Epoch 56/100\n",
      "4/4 [==============================] - 0s 11ms/step - loss: 0.0050 - val_loss: 0.0038\n",
      "Epoch 57/100\n",
      "4/4 [==============================] - 0s 11ms/step - loss: 0.0049 - val_loss: 0.0040\n",
      "Epoch 58/100\n",
      "4/4 [==============================] - 0s 11ms/step - loss: 0.0051 - val_loss: 0.0039\n",
      "Epoch 59/100\n",
      "4/4 [==============================] - 0s 19ms/step - loss: 0.0049 - val_loss: 0.0036\n",
      "Epoch 60/100\n",
      "4/4 [==============================] - 0s 11ms/step - loss: 0.0050 - val_loss: 0.0037\n",
      "Epoch 61/100\n",
      "4/4 [==============================] - 0s 11ms/step - loss: 0.0050 - val_loss: 0.0042\n",
      "Epoch 62/100\n",
      "4/4 [==============================] - 0s 12ms/step - loss: 0.0049 - val_loss: 0.0037\n",
      "Epoch 63/100\n",
      "4/4 [==============================] - 0s 12ms/step - loss: 0.0050 - val_loss: 0.0036\n",
      "Epoch 64/100\n",
      "4/4 [==============================] - 0s 12ms/step - loss: 0.0049 - val_loss: 0.0039\n",
      "Epoch 65/100\n",
      "4/4 [==============================] - 0s 12ms/step - loss: 0.0050 - val_loss: 0.0044\n",
      "Epoch 66/100\n",
      "4/4 [==============================] - 0s 12ms/step - loss: 0.0049 - val_loss: 0.0037\n",
      "Epoch 67/100\n",
      "4/4 [==============================] - 0s 12ms/step - loss: 0.0049 - val_loss: 0.0037\n",
      "Epoch 68/100\n",
      "4/4 [==============================] - 0s 12ms/step - loss: 0.0049 - val_loss: 0.0039\n",
      "Epoch 69/100\n",
      "4/4 [==============================] - 0s 11ms/step - loss: 0.0049 - val_loss: 0.0038\n",
      "Epoch 70/100\n",
      "4/4 [==============================] - 0s 11ms/step - loss: 0.0048 - val_loss: 0.0037\n",
      "Epoch 71/100\n",
      "4/4 [==============================] - 0s 11ms/step - loss: 0.0048 - val_loss: 0.0037\n",
      "Epoch 72/100\n",
      "4/4 [==============================] - 0s 11ms/step - loss: 0.0049 - val_loss: 0.0038\n",
      "Epoch 73/100\n",
      "4/4 [==============================] - 0s 11ms/step - loss: 0.0048 - val_loss: 0.0037\n",
      "Epoch 74/100\n",
      "4/4 [==============================] - 0s 12ms/step - loss: 0.0048 - val_loss: 0.0036\n",
      "Epoch 75/100\n",
      "4/4 [==============================] - 0s 11ms/step - loss: 0.0049 - val_loss: 0.0036\n",
      "Epoch 76/100\n",
      "4/4 [==============================] - 0s 12ms/step - loss: 0.0048 - val_loss: 0.0039\n",
      "Epoch 77/100\n",
      "4/4 [==============================] - 0s 12ms/step - loss: 0.0048 - val_loss: 0.0038\n",
      "Epoch 78/100\n",
      "4/4 [==============================] - 0s 11ms/step - loss: 0.0048 - val_loss: 0.0036\n",
      "Epoch 79/100\n",
      "4/4 [==============================] - 0s 12ms/step - loss: 0.0048 - val_loss: 0.0038\n",
      "Epoch 80/100\n",
      "4/4 [==============================] - 0s 12ms/step - loss: 0.0049 - val_loss: 0.0039\n",
      "Epoch 81/100\n",
      "4/4 [==============================] - 0s 12ms/step - loss: 0.0048 - val_loss: 0.0036\n",
      "Epoch 82/100\n",
      "4/4 [==============================] - 0s 12ms/step - loss: 0.0048 - val_loss: 0.0037\n",
      "Epoch 83/100\n",
      "4/4 [==============================] - 0s 11ms/step - loss: 0.0048 - val_loss: 0.0038\n",
      "Epoch 84/100\n",
      "4/4 [==============================] - 0s 11ms/step - loss: 0.0047 - val_loss: 0.0036\n",
      "Epoch 85/100\n",
      "4/4 [==============================] - 0s 10ms/step - loss: 0.0048 - val_loss: 0.0035\n",
      "Epoch 86/100\n",
      "4/4 [==============================] - 0s 11ms/step - loss: 0.0051 - val_loss: 0.0041\n",
      "Epoch 87/100\n",
      "4/4 [==============================] - 0s 11ms/step - loss: 0.0047 - val_loss: 0.0035\n",
      "Epoch 88/100\n",
      "4/4 [==============================] - 0s 12ms/step - loss: 0.0048 - val_loss: 0.0035\n",
      "Epoch 89/100\n",
      "4/4 [==============================] - 0s 12ms/step - loss: 0.0048 - val_loss: 0.0038\n",
      "Epoch 90/100\n",
      "4/4 [==============================] - 0s 12ms/step - loss: 0.0048 - val_loss: 0.0037\n",
      "Epoch 91/100\n",
      "4/4 [==============================] - 0s 12ms/step - loss: 0.0047 - val_loss: 0.0035\n",
      "Epoch 92/100\n",
      "4/4 [==============================] - 0s 11ms/step - loss: 0.0047 - val_loss: 0.0037\n",
      "Epoch 93/100\n",
      "4/4 [==============================] - 0s 11ms/step - loss: 0.0047 - val_loss: 0.0038\n",
      "Epoch 94/100\n",
      "4/4 [==============================] - 0s 11ms/step - loss: 0.0047 - val_loss: 0.0034\n",
      "Epoch 95/100\n",
      "4/4 [==============================] - 0s 12ms/step - loss: 0.0047 - val_loss: 0.0036\n",
      "Epoch 96/100\n",
      "4/4 [==============================] - 0s 12ms/step - loss: 0.0047 - val_loss: 0.0036\n",
      "Epoch 97/100\n",
      "4/4 [==============================] - 0s 11ms/step - loss: 0.0046 - val_loss: 0.0034\n",
      "Epoch 98/100\n",
      "4/4 [==============================] - 0s 11ms/step - loss: 0.0047 - val_loss: 0.0035\n",
      "Epoch 99/100\n",
      "4/4 [==============================] - 0s 10ms/step - loss: 0.0046 - val_loss: 0.0036\n",
      "Epoch 100/100\n",
      "4/4 [==============================] - 0s 12ms/step - loss: 0.0046 - val_loss: 0.0036\n"
     ]
    }
   ],
   "source": [
    "r = model.fit(\n",
    "    Xtrain,\n",
    "    Ytrain,\n",
    "    epochs=100,\n",
    "    validation_data=(Xtest, Ytest)\n",
    ")"
   ],
   "metadata": {
    "collapsed": false,
    "pycharm": {
     "name": "#%%\n"
    }
   }
  },
  {
   "cell_type": "code",
   "execution_count": 41,
   "outputs": [
    {
     "data": {
      "text/plain": "<Figure size 432x288 with 1 Axes>",
      "image/png": "[encoded data removed]"
     },
     "metadata": {
      "needs_background": "light"
     },
     "output_type": "display_data"
    }
   ],
   "source": [
    "plt.plot(r.history['loss'], label='train loss')\n",
    "plt.plot(r.history['val_loss'], label='test loss')\n",
    "plt.legend();"
   ],
   "metadata": {
    "collapsed": false,
    "pycharm": {
     "name": "#%%\n"
    }
   }
  },
  {
   "cell_type": "code",
   "execution_count": 42,
   "outputs": [],
   "source": [
    "train_idx[:T+1] = False # first T+1 values are not predictable"
   ],
   "metadata": {
    "collapsed": false,
    "pycharm": {
     "name": "#%%\n"
    }
   }
  },
  {
   "cell_type": "code",
   "execution_count": 43,
   "outputs": [
    {
     "name": "stdout",
     "output_type": "stream",
     "text": [
      "WARNING:tensorflow:AutoGraph could not transform <function Model.make_predict_function.<locals>.predict_function at 0x7fcf06e3ae60> and will run it as-is.\n",
      "Please report this to the TensorFlow team. When filing the bug, set the verbosity to 10 (on Linux, `export AUTOGRAPH_VERBOSITY=10`) and attach the full output.\n",
      "Cause: 'arguments' object has no attribute 'posonlyargs'\n",
      "To silence this warning, decorate the function with @tf.autograph.experimental.do_not_convert\n",
      "WARNING: AutoGraph could not transform <function Model.make_predict_function.<locals>.predict_function at 0x7fcf06e3ae60> and will run it as-is.\n",
      "Please report this to the TensorFlow team. When filing the bug, set the verbosity to 10 (on Linux, `export AUTOGRAPH_VERBOSITY=10`) and attach the full output.\n",
      "Cause: 'arguments' object has no attribute 'posonlyargs'\n",
      "To silence this warning, decorate the function with @tf.autograph.experimental.do_not_convert\n",
      "4/4 [==============================] - 0s 2ms/step\n",
      "1/1 [==============================] - 0s 19ms/step\n"
     ]
    }
   ],
   "source": [
    "Ptrain = model.predict(Xtrain).flatten()\n",
    "Ptest = model.predict(Xtest).flatten()"
   ],
   "metadata": {
    "collapsed": false,
    "pycharm": {
     "name": "#%%\n"
    }
   }
  },
  {
   "cell_type": "code",
   "execution_count": 44,
   "outputs": [],
   "source": [
    "# Needed to compute un-differenced predictions\n",
    "df['ShiftLogPassengers'] = df['LogPassengers'].shift(1)\n",
    "prev = df['ShiftLogPassengers']"
   ],
   "metadata": {
    "collapsed": false,
    "pycharm": {
     "name": "#%%\n"
    }
   }
  },
  {
   "cell_type": "code",
   "execution_count": 45,
   "outputs": [],
   "source": [
    "# Last-known train value\n",
    "last_train = train.iloc[-1]['LogPassengers']"
   ],
   "metadata": {
    "collapsed": false,
    "pycharm": {
     "name": "#%%\n"
    }
   }
  },
  {
   "cell_type": "code",
   "execution_count": 46,
   "outputs": [],
   "source": [
    "# 1-step forecast\n",
    "df.loc[train_idx, '1step_train'] = prev[train_idx] + Ptrain\n",
    "df.loc[test_idx, '1step_test'] = prev[test_idx] + Ptest"
   ],
   "metadata": {
    "collapsed": false,
    "pycharm": {
     "name": "#%%\n"
    }
   }
  },
  {
   "cell_type": "code",
   "execution_count": 47,
   "outputs": [
    {
     "data": {
      "text/plain": "<Figure size 1080x360 with 1 Axes>",
      "image/png": "[encoded data removed]"
     },
     "metadata": {
      "needs_background": "light"
     },
     "output_type": "display_data"
    }
   ],
   "source": [
    "# plot 1-step forecast\n",
    "df[['LogPassengers', '1step_train', '1step_test']].plot(figsize=(15,5));"
   ],
   "metadata": {
    "collapsed": false,
    "pycharm": {
     "name": "#%%\n"
    }
   }
  },
  {
   "cell_type": "code",
   "execution_count": null,
   "outputs": [],
   "source": [
    "# multi-step forecast\n",
    "multistep_predictions = []\n",
    "\n",
    "# first test input\n",
    "last_x = Xtest[0]"
   ],
   "metadata": {
    "collapsed": false,
    "pycharm": {
     "name": "#%%\n"
    }
   }
  },
  {
   "cell_type": "code",
   "execution_count": 95,
   "outputs": [],
   "source": [
    "while len(multistep_predictions) < Ntest:\n",
    "    p = model.predict(last_x.reshape(1, -1, 1))[0]\n",
    "\n",
    "    # update the predictions list\n",
    "    multistep_predictions.append(p)\n",
    "\n",
    "    # make the new input\n",
    "    last_x = np.roll(last_x, -1)\n",
    "    last_x[-1] = p"
   ],
   "metadata": {
    "collapsed": false,
    "pycharm": {
     "name": "#%%\n"
    }
   }
  },
  {
   "cell_type": "code",
   "execution_count": 58,
   "outputs": [],
   "source": [
    "# save multistep forecast to dataframe\n",
    "df.loc[test_idx, 'multistep'] = last_train + np.cumsum(multistep_predictions)"
   ],
   "metadata": {
    "collapsed": false,
    "pycharm": {
     "name": "#%%\n"
    }
   }
  },
  {
   "cell_type": "code",
   "execution_count": 59,
   "outputs": [
    {
     "data": {
      "text/plain": "<Figure size 1080x360 with 1 Axes>",
      "image/png": "[encoded data removed]"
     },
     "metadata": {
      "needs_background": "light"
     },
     "output_type": "display_data"
    }
   ],
   "source": [
    "cols = ['LogPassengers', 'multistep', '1step_test']\n",
    "df[cols].plot(figsize=(15, 5));"
   ],
   "metadata": {
    "collapsed": false,
    "pycharm": {
     "name": "#%%\n"
    }
   }
  },
  {
   "cell_type": "code",
   "execution_count": 64,
   "outputs": [
    {
     "name": "stdout",
     "output_type": "stream",
     "text": [
      "X.shape (122, 10, 1) Y.shape (122, 12)\n"
     ]
    }
   ],
   "source": [
    "# make multi-output supervised dataset\n",
    "Tx = T # number of step in the input\n",
    "Ty = Ntest # number of steps in the output\n",
    "X = []\n",
    "Y = []\n",
    "for t in range(len(series) - Tx - Ty + 1):\n",
    "    x = series[t:t+Tx]\n",
    "    X.append(x)\n",
    "    y = series[t+Tx:t+Tx+Ty]\n",
    "    Y.append(y)\n",
    "\n",
    "X = np.array(X).reshape(-1, Tx, 1)\n",
    "Y = np.array(Y).reshape(-1, Ty)\n",
    "N = len(X)\n",
    "print(\"X.shape\", X.shape, \"Y.shape\", Y.shape)"
   ],
   "metadata": {
    "collapsed": false,
    "pycharm": {
     "name": "#%%\n"
    }
   }
  },
  {
   "cell_type": "code",
   "execution_count": 69,
   "outputs": [],
   "source": [
    "Xtrain_m, Ytrain_m = X[:-1], Y[:-1]\n",
    "Xtest_m, Ytest_m = X[-1:], Y[-1:]"
   ],
   "metadata": {
    "collapsed": false,
    "pycharm": {
     "name": "#%%\n"
    }
   }
  },
  {
   "cell_type": "code",
   "execution_count": 70,
   "outputs": [],
   "source": [
    "# RNN\n",
    "i = Input(shape=(Tx, 1))\n",
    "x = LSTM(24, return_sequences=True)(i)\n",
    "x = GlobalMaxPooling1D()(x)\n",
    "x = Dense(Ty)(x)\n",
    "model = Model(i,x)"
   ],
   "metadata": {
    "collapsed": false,
    "pycharm": {
     "name": "#%%\n"
    }
   }
  },
  {
   "cell_type": "code",
   "execution_count": 71,
   "outputs": [],
   "source": [
    "check_point = ModelCheckpoint(\n",
    "    'best_model.h5',\n",
    "    monitor='val_loss',\n",
    "    save_best_only=True\n",
    ")"
   ],
   "metadata": {
    "collapsed": false,
    "pycharm": {
     "name": "#%%\n"
    }
   }
  },
  {
   "cell_type": "code",
   "execution_count": 72,
   "outputs": [],
   "source": [
    "model.compile(\n",
    "    loss='mse',\n",
    "    optimizer='adam'\n",
    ")"
   ],
   "metadata": {
    "collapsed": false,
    "pycharm": {
     "name": "#%%\n"
    }
   }
  },
  {
   "cell_type": "code",
   "execution_count": 73,
   "outputs": [
    {
     "name": "stdout",
     "output_type": "stream",
     "text": [
      "Epoch 1/300\n",
      "WARNING:tensorflow:AutoGraph could not transform <function Model.make_train_function.<locals>.train_function at 0x7fcf08f00a70> and will run it as-is.\n",
      "Please report this to the TensorFlow team. When filing the bug, set the verbosity to 10 (on Linux, `export AUTOGRAPH_VERBOSITY=10`) and attach the full output.\n",
      "Cause: 'arguments' object has no attribute 'posonlyargs'\n",
      "To silence this warning, decorate the function with @tf.autograph.experimental.do_not_convert\n",
      "WARNING: AutoGraph could not transform <function Model.make_train_function.<locals>.train_function at 0x7fcf08f00a70> and will run it as-is.\n",
      "Please report this to the TensorFlow team. When filing the bug, set the verbosity to 10 (on Linux, `export AUTOGRAPH_VERBOSITY=10`) and attach the full output.\n",
      "Cause: 'arguments' object has no attribute 'posonlyargs'\n",
      "To silence this warning, decorate the function with @tf.autograph.experimental.do_not_convert\n",
      "1/4 [======>.......................] - ETA: 4s - loss: 0.0119WARNING:tensorflow:AutoGraph could not transform <function Model.make_test_function.<locals>.test_function at 0x7fcf0a899ef0> and will run it as-is.\n",
      "Please report this to the TensorFlow team. When filing the bug, set the verbosity to 10 (on Linux, `export AUTOGRAPH_VERBOSITY=10`) and attach the full output.\n",
      "Cause: 'arguments' object has no attribute 'posonlyargs'\n",
      "To silence this warning, decorate the function with @tf.autograph.experimental.do_not_convert\n",
      "WARNING: AutoGraph could not transform <function Model.make_test_function.<locals>.test_function at 0x7fcf0a899ef0> and will run it as-is.\n",
      "Please report this to the TensorFlow team. When filing the bug, set the verbosity to 10 (on Linux, `export AUTOGRAPH_VERBOSITY=10`) and attach the full output.\n",
      "Cause: 'arguments' object has no attribute 'posonlyargs'\n",
      "To silence this warning, decorate the function with @tf.autograph.experimental.do_not_convert\n",
      "4/4 [==============================] - 2s 175ms/step - loss: 0.0115 - val_loss: 0.0113\n",
      "Epoch 2/300\n",
      "4/4 [==============================] - 0s 16ms/step - loss: 0.0113 - val_loss: 0.0111\n",
      "Epoch 3/300\n",
      "4/4 [==============================] - 0s 15ms/step - loss: 0.0113 - val_loss: 0.0110\n",
      "Epoch 4/300\n",
      "4/4 [==============================] - 0s 15ms/step - loss: 0.0112 - val_loss: 0.0110\n",
      "Epoch 5/300\n",
      "4/4 [==============================] - 0s 11ms/step - loss: 0.0112 - val_loss: 0.0110\n",
      "Epoch 6/300\n",
      "4/4 [==============================] - 0s 11ms/step - loss: 0.0111 - val_loss: 0.0111\n",
      "Epoch 7/300\n",
      "4/4 [==============================] - 0s 11ms/step - loss: 0.0111 - val_loss: 0.0111\n",
      "Epoch 8/300\n",
      "4/4 [==============================] - 0s 11ms/step - loss: 0.0110 - val_loss: 0.0111\n",
      "Epoch 9/300\n",
      "4/4 [==============================] - 0s 11ms/step - loss: 0.0110 - val_loss: 0.0112\n",
      "Epoch 10/300\n",
      "4/4 [==============================] - 0s 11ms/step - loss: 0.0109 - val_loss: 0.0112\n",
      "Epoch 11/300\n",
      "4/4 [==============================] - 0s 11ms/step - loss: 0.0109 - val_loss: 0.0112\n",
      "Epoch 12/300\n",
      "4/4 [==============================] - 0s 11ms/step - loss: 0.0109 - val_loss: 0.0111\n",
      "Epoch 13/300\n",
      "4/4 [==============================] - 0s 11ms/step - loss: 0.0108 - val_loss: 0.0111\n",
      "Epoch 14/300\n",
      "4/4 [==============================] - 0s 11ms/step - loss: 0.0107 - val_loss: 0.0111\n",
      "Epoch 15/300\n",
      "4/4 [==============================] - 0s 15ms/step - loss: 0.0107 - val_loss: 0.0110\n",
      "Epoch 16/300\n",
      "4/4 [==============================] - 0s 15ms/step - loss: 0.0106 - val_loss: 0.0109\n",
      "Epoch 17/300\n",
      "4/4 [==============================] - 0s 16ms/step - loss: 0.0105 - val_loss: 0.0109\n",
      "Epoch 18/300\n",
      "4/4 [==============================] - 0s 16ms/step - loss: 0.0105 - val_loss: 0.0108\n",
      "Epoch 19/300\n",
      "4/4 [==============================] - 0s 16ms/step - loss: 0.0104 - val_loss: 0.0108\n",
      "Epoch 20/300\n",
      "4/4 [==============================] - 0s 15ms/step - loss: 0.0103 - val_loss: 0.0107\n",
      "Epoch 21/300\n",
      "4/4 [==============================] - 0s 16ms/step - loss: 0.0102 - val_loss: 0.0106\n",
      "Epoch 22/300\n",
      "4/4 [==============================] - 0s 11ms/step - loss: 0.0102 - val_loss: 0.0106\n",
      "Epoch 23/300\n",
      "4/4 [==============================] - 0s 11ms/step - loss: 0.0101 - val_loss: 0.0107\n",
      "Epoch 24/300\n",
      "4/4 [==============================] - 0s 16ms/step - loss: 0.0100 - val_loss: 0.0105\n",
      "Epoch 25/300\n",
      "4/4 [==============================] - 0s 15ms/step - loss: 0.0099 - val_loss: 0.0104\n",
      "Epoch 26/300\n",
      "4/4 [==============================] - 0s 11ms/step - loss: 0.0098 - val_loss: 0.0104\n",
      "Epoch 27/300\n",
      "4/4 [==============================] - 0s 15ms/step - loss: 0.0097 - val_loss: 0.0104\n",
      "Epoch 28/300\n",
      "4/4 [==============================] - 0s 15ms/step - loss: 0.0096 - val_loss: 0.0101\n",
      "Epoch 29/300\n",
      "4/4 [==============================] - 0s 11ms/step - loss: 0.0094 - val_loss: 0.0102\n",
      "Epoch 30/300\n",
      "4/4 [==============================] - 0s 16ms/step - loss: 0.0093 - val_loss: 0.0101\n",
      "Epoch 31/300\n",
      "4/4 [==============================] - 0s 11ms/step - loss: 0.0092 - val_loss: 0.0101\n",
      "Epoch 32/300\n",
      "4/4 [==============================] - 0s 17ms/step - loss: 0.0091 - val_loss: 0.0098\n",
      "Epoch 33/300\n",
      "4/4 [==============================] - 0s 18ms/step - loss: 0.0090 - val_loss: 0.0095\n",
      "Epoch 34/300\n",
      "4/4 [==============================] - 0s 16ms/step - loss: 0.0089 - val_loss: 0.0093\n",
      "Epoch 35/300\n",
      "4/4 [==============================] - 0s 16ms/step - loss: 0.0088 - val_loss: 0.0093\n",
      "Epoch 36/300\n",
      "4/4 [==============================] - 0s 16ms/step - loss: 0.0087 - val_loss: 0.0091\n",
      "Epoch 37/300\n",
      "4/4 [==============================] - 0s 11ms/step - loss: 0.0086 - val_loss: 0.0092\n",
      "Epoch 38/300\n",
      "4/4 [==============================] - 0s 16ms/step - loss: 0.0085 - val_loss: 0.0089\n",
      "Epoch 39/300\n",
      "4/4 [==============================] - 0s 15ms/step - loss: 0.0084 - val_loss: 0.0087\n",
      "Epoch 40/300\n",
      "4/4 [==============================] - 0s 15ms/step - loss: 0.0084 - val_loss: 0.0085\n",
      "Epoch 41/300\n",
      "4/4 [==============================] - 0s 15ms/step - loss: 0.0083 - val_loss: 0.0084\n",
      "Epoch 42/300\n",
      "4/4 [==============================] - 0s 16ms/step - loss: 0.0082 - val_loss: 0.0082\n",
      "Epoch 43/300\n",
      "4/4 [==============================] - 0s 11ms/step - loss: 0.0081 - val_loss: 0.0085\n",
      "Epoch 44/300\n",
      "4/4 [==============================] - 0s 16ms/step - loss: 0.0080 - val_loss: 0.0082\n",
      "Epoch 45/300\n",
      "4/4 [==============================] - 0s 11ms/step - loss: 0.0080 - val_loss: 0.0084\n",
      "Epoch 46/300\n",
      "4/4 [==============================] - 0s 22ms/step - loss: 0.0079 - val_loss: 0.0080\n",
      "Epoch 47/300\n",
      "4/4 [==============================] - 0s 16ms/step - loss: 0.0078 - val_loss: 0.0080\n",
      "Epoch 48/300\n",
      "4/4 [==============================] - 0s 15ms/step - loss: 0.0078 - val_loss: 0.0080\n",
      "Epoch 49/300\n",
      "4/4 [==============================] - 0s 11ms/step - loss: 0.0077 - val_loss: 0.0081\n",
      "Epoch 50/300\n",
      "4/4 [==============================] - 0s 15ms/step - loss: 0.0076 - val_loss: 0.0080\n",
      "Epoch 51/300\n",
      "4/4 [==============================] - 0s 15ms/step - loss: 0.0076 - val_loss: 0.0076\n",
      "Epoch 52/300\n",
      "4/4 [==============================] - 0s 11ms/step - loss: 0.0075 - val_loss: 0.0077\n",
      "Epoch 53/300\n",
      "4/4 [==============================] - 0s 16ms/step - loss: 0.0074 - val_loss: 0.0075\n",
      "Epoch 54/300\n",
      "4/4 [==============================] - 0s 16ms/step - loss: 0.0074 - val_loss: 0.0074\n",
      "Epoch 55/300\n",
      "4/4 [==============================] - 0s 15ms/step - loss: 0.0073 - val_loss: 0.0074\n",
      "Epoch 56/300\n",
      "4/4 [==============================] - 0s 15ms/step - loss: 0.0072 - val_loss: 0.0073\n",
      "Epoch 57/300\n",
      "4/4 [==============================] - 0s 11ms/step - loss: 0.0072 - val_loss: 0.0073\n",
      "Epoch 58/300\n",
      "4/4 [==============================] - 0s 15ms/step - loss: 0.0071 - val_loss: 0.0069\n",
      "Epoch 59/300\n",
      "4/4 [==============================] - 0s 11ms/step - loss: 0.0070 - val_loss: 0.0071\n",
      "Epoch 60/300\n",
      "4/4 [==============================] - 0s 15ms/step - loss: 0.0070 - val_loss: 0.0067\n",
      "Epoch 61/300\n",
      "4/4 [==============================] - 0s 15ms/step - loss: 0.0069 - val_loss: 0.0067\n",
      "Epoch 62/300\n",
      "4/4 [==============================] - 0s 11ms/step - loss: 0.0069 - val_loss: 0.0068\n",
      "Epoch 63/300\n",
      "4/4 [==============================] - 0s 15ms/step - loss: 0.0068 - val_loss: 0.0065\n",
      "Epoch 64/300\n",
      "4/4 [==============================] - 0s 11ms/step - loss: 0.0067 - val_loss: 0.0066\n",
      "Epoch 65/300\n",
      "4/4 [==============================] - 0s 16ms/step - loss: 0.0066 - val_loss: 0.0064\n",
      "Epoch 66/300\n",
      "4/4 [==============================] - 0s 16ms/step - loss: 0.0066 - val_loss: 0.0062\n",
      "Epoch 67/300\n",
      "4/4 [==============================] - 0s 11ms/step - loss: 0.0065 - val_loss: 0.0064\n",
      "Epoch 68/300\n",
      "4/4 [==============================] - 0s 16ms/step - loss: 0.0064 - val_loss: 0.0060\n",
      "Epoch 69/300\n",
      "4/4 [==============================] - 0s 11ms/step - loss: 0.0064 - val_loss: 0.0063\n",
      "Epoch 70/300\n",
      "4/4 [==============================] - 0s 11ms/step - loss: 0.0063 - val_loss: 0.0061\n",
      "Epoch 71/300\n",
      "4/4 [==============================] - 0s 15ms/step - loss: 0.0062 - val_loss: 0.0058\n",
      "Epoch 72/300\n",
      "4/4 [==============================] - 0s 11ms/step - loss: 0.0062 - val_loss: 0.0059\n",
      "Epoch 73/300\n",
      "4/4 [==============================] - 0s 16ms/step - loss: 0.0061 - val_loss: 0.0055\n",
      "Epoch 74/300\n",
      "4/4 [==============================] - 0s 12ms/step - loss: 0.0060 - val_loss: 0.0059\n",
      "Epoch 75/300\n",
      "4/4 [==============================] - 0s 12ms/step - loss: 0.0060 - val_loss: 0.0056\n",
      "Epoch 76/300\n",
      "4/4 [==============================] - 0s 15ms/step - loss: 0.0059 - val_loss: 0.0050\n",
      "Epoch 77/300\n",
      "4/4 [==============================] - 0s 11ms/step - loss: 0.0058 - val_loss: 0.0054\n",
      "Epoch 78/300\n",
      "4/4 [==============================] - 0s 16ms/step - loss: 0.0058 - val_loss: 0.0049\n",
      "Epoch 79/300\n",
      "4/4 [==============================] - 0s 15ms/step - loss: 0.0057 - val_loss: 0.0049\n",
      "Epoch 80/300\n",
      "4/4 [==============================] - 0s 15ms/step - loss: 0.0056 - val_loss: 0.0049\n",
      "Epoch 81/300\n",
      "4/4 [==============================] - 0s 16ms/step - loss: 0.0056 - val_loss: 0.0047\n",
      "Epoch 82/300\n",
      "4/4 [==============================] - 0s 11ms/step - loss: 0.0055 - val_loss: 0.0048\n",
      "Epoch 83/300\n",
      "4/4 [==============================] - 0s 15ms/step - loss: 0.0054 - val_loss: 0.0043\n",
      "Epoch 84/300\n",
      "4/4 [==============================] - 0s 11ms/step - loss: 0.0053 - val_loss: 0.0045\n",
      "Epoch 85/300\n",
      "4/4 [==============================] - 0s 15ms/step - loss: 0.0053 - val_loss: 0.0041\n",
      "Epoch 86/300\n",
      "4/4 [==============================] - 0s 11ms/step - loss: 0.0053 - val_loss: 0.0043\n",
      "Epoch 87/300\n",
      "4/4 [==============================] - 0s 15ms/step - loss: 0.0052 - val_loss: 0.0039\n",
      "Epoch 88/300\n",
      "4/4 [==============================] - 0s 16ms/step - loss: 0.0051 - val_loss: 0.0037\n",
      "Epoch 89/300\n",
      "4/4 [==============================] - 0s 11ms/step - loss: 0.0050 - val_loss: 0.0040\n",
      "Epoch 90/300\n",
      "4/4 [==============================] - 0s 15ms/step - loss: 0.0050 - val_loss: 0.0035\n",
      "Epoch 91/300\n",
      "4/4 [==============================] - 0s 11ms/step - loss: 0.0049 - val_loss: 0.0038\n",
      "Epoch 92/300\n",
      "4/4 [==============================] - 0s 15ms/step - loss: 0.0049 - val_loss: 0.0034\n",
      "Epoch 93/300\n",
      "4/4 [==============================] - 0s 11ms/step - loss: 0.0049 - val_loss: 0.0035\n",
      "Epoch 94/300\n",
      "4/4 [==============================] - 0s 11ms/step - loss: 0.0048 - val_loss: 0.0035\n",
      "Epoch 95/300\n",
      "4/4 [==============================] - 0s 16ms/step - loss: 0.0047 - val_loss: 0.0034\n",
      "Epoch 96/300\n",
      "4/4 [==============================] - 0s 16ms/step - loss: 0.0048 - val_loss: 0.0033\n",
      "Epoch 97/300\n",
      "4/4 [==============================] - 0s 15ms/step - loss: 0.0047 - val_loss: 0.0032\n",
      "Epoch 98/300\n",
      "4/4 [==============================] - 0s 11ms/step - loss: 0.0046 - val_loss: 0.0035\n",
      "Epoch 99/300\n",
      "4/4 [==============================] - 0s 15ms/step - loss: 0.0046 - val_loss: 0.0030\n",
      "Epoch 100/300\n",
      "4/4 [==============================] - 0s 11ms/step - loss: 0.0045 - val_loss: 0.0032\n",
      "Epoch 101/300\n",
      "4/4 [==============================] - 0s 15ms/step - loss: 0.0045 - val_loss: 0.0029\n",
      "Epoch 102/300\n",
      "4/4 [==============================] - 0s 15ms/step - loss: 0.0045 - val_loss: 0.0028\n",
      "Epoch 103/300\n",
      "4/4 [==============================] - 0s 15ms/step - loss: 0.0044 - val_loss: 0.0028\n",
      "Epoch 104/300\n",
      "4/4 [==============================] - 0s 11ms/step - loss: 0.0043 - val_loss: 0.0028\n",
      "Epoch 105/300\n",
      "4/4 [==============================] - 0s 11ms/step - loss: 0.0043 - val_loss: 0.0028\n",
      "Epoch 106/300\n",
      "4/4 [==============================] - 0s 15ms/step - loss: 0.0043 - val_loss: 0.0027\n",
      "Epoch 107/300\n",
      "4/4 [==============================] - 0s 12ms/step - loss: 0.0043 - val_loss: 0.0027\n",
      "Epoch 108/300\n",
      "4/4 [==============================] - 0s 15ms/step - loss: 0.0042 - val_loss: 0.0026\n",
      "Epoch 109/300\n",
      "4/4 [==============================] - 0s 11ms/step - loss: 0.0043 - val_loss: 0.0027\n",
      "Epoch 110/300\n",
      "4/4 [==============================] - 0s 11ms/step - loss: 0.0042 - val_loss: 0.0031\n",
      "Epoch 111/300\n",
      "4/4 [==============================] - 0s 15ms/step - loss: 0.0042 - val_loss: 0.0025\n",
      "Epoch 112/300\n",
      "4/4 [==============================] - 0s 15ms/step - loss: 0.0042 - val_loss: 0.0023\n",
      "Epoch 113/300\n",
      "4/4 [==============================] - 0s 11ms/step - loss: 0.0041 - val_loss: 0.0025\n",
      "Epoch 114/300\n",
      "4/4 [==============================] - 0s 11ms/step - loss: 0.0041 - val_loss: 0.0027\n",
      "Epoch 115/300\n",
      "4/4 [==============================] - 0s 11ms/step - loss: 0.0040 - val_loss: 0.0025\n",
      "Epoch 116/300\n",
      "4/4 [==============================] - 0s 11ms/step - loss: 0.0040 - val_loss: 0.0024\n",
      "Epoch 117/300\n",
      "4/4 [==============================] - 0s 11ms/step - loss: 0.0040 - val_loss: 0.0025\n",
      "Epoch 118/300\n",
      "4/4 [==============================] - 0s 11ms/step - loss: 0.0040 - val_loss: 0.0024\n",
      "Epoch 119/300\n",
      "4/4 [==============================] - 0s 16ms/step - loss: 0.0040 - val_loss: 0.0020\n",
      "Epoch 120/300\n",
      "4/4 [==============================] - 0s 11ms/step - loss: 0.0040 - val_loss: 0.0024\n",
      "Epoch 121/300\n",
      "4/4 [==============================] - 0s 13ms/step - loss: 0.0039 - val_loss: 0.0024\n",
      "Epoch 122/300\n",
      "4/4 [==============================] - 0s 11ms/step - loss: 0.0039 - val_loss: 0.0022\n",
      "Epoch 123/300\n",
      "4/4 [==============================] - 0s 11ms/step - loss: 0.0039 - val_loss: 0.0021\n",
      "Epoch 124/300\n",
      "4/4 [==============================] - 0s 11ms/step - loss: 0.0039 - val_loss: 0.0023\n",
      "Epoch 125/300\n",
      "4/4 [==============================] - 0s 16ms/step - loss: 0.0038 - val_loss: 0.0020\n",
      "Epoch 126/300\n",
      "4/4 [==============================] - 0s 17ms/step - loss: 0.0038 - val_loss: 0.0024\n",
      "Epoch 127/300\n",
      "4/4 [==============================] - 0s 14ms/step - loss: 0.0038 - val_loss: 0.0020\n",
      "Epoch 128/300\n",
      "4/4 [==============================] - 0s 16ms/step - loss: 0.0038 - val_loss: 0.0020\n",
      "Epoch 129/300\n",
      "4/4 [==============================] - 0s 15ms/step - loss: 0.0038 - val_loss: 0.0019\n",
      "Epoch 130/300\n",
      "4/4 [==============================] - 0s 11ms/step - loss: 0.0038 - val_loss: 0.0020\n",
      "Epoch 131/300\n",
      "4/4 [==============================] - 0s 11ms/step - loss: 0.0037 - val_loss: 0.0020\n",
      "Epoch 132/300\n",
      "4/4 [==============================] - 0s 12ms/step - loss: 0.0037 - val_loss: 0.0021\n",
      "Epoch 133/300\n",
      "4/4 [==============================] - 0s 10ms/step - loss: 0.0037 - val_loss: 0.0020\n",
      "Epoch 134/300\n",
      "4/4 [==============================] - 0s 11ms/step - loss: 0.0037 - val_loss: 0.0020\n",
      "Epoch 135/300\n",
      "4/4 [==============================] - 0s 15ms/step - loss: 0.0037 - val_loss: 0.0019\n",
      "Epoch 136/300\n",
      "4/4 [==============================] - 0s 15ms/step - loss: 0.0037 - val_loss: 0.0018\n",
      "Epoch 137/300\n",
      "4/4 [==============================] - 0s 11ms/step - loss: 0.0037 - val_loss: 0.0021\n",
      "Epoch 138/300\n",
      "4/4 [==============================] - 0s 16ms/step - loss: 0.0036 - val_loss: 0.0017\n",
      "Epoch 139/300\n",
      "4/4 [==============================] - 0s 11ms/step - loss: 0.0036 - val_loss: 0.0020\n",
      "Epoch 140/300\n",
      "4/4 [==============================] - 0s 11ms/step - loss: 0.0036 - val_loss: 0.0019\n",
      "Epoch 141/300\n",
      "4/4 [==============================] - 0s 12ms/step - loss: 0.0036 - val_loss: 0.0017\n",
      "Epoch 142/300\n",
      "4/4 [==============================] - 0s 11ms/step - loss: 0.0036 - val_loss: 0.0019\n",
      "Epoch 143/300\n",
      "4/4 [==============================] - 0s 11ms/step - loss: 0.0036 - val_loss: 0.0017\n",
      "Epoch 144/300\n",
      "4/4 [==============================] - 0s 11ms/step - loss: 0.0036 - val_loss: 0.0020\n",
      "Epoch 145/300\n",
      "4/4 [==============================] - 0s 11ms/step - loss: 0.0036 - val_loss: 0.0018\n",
      "Epoch 146/300\n",
      "4/4 [==============================] - 0s 11ms/step - loss: 0.0035 - val_loss: 0.0018\n",
      "Epoch 147/300\n",
      "4/4 [==============================] - 0s 11ms/step - loss: 0.0035 - val_loss: 0.0019\n",
      "Epoch 148/300\n",
      "4/4 [==============================] - 0s 15ms/step - loss: 0.0035 - val_loss: 0.0017\n",
      "Epoch 149/300\n",
      "4/4 [==============================] - 0s 11ms/step - loss: 0.0035 - val_loss: 0.0020\n",
      "Epoch 150/300\n",
      "4/4 [==============================] - 0s 11ms/step - loss: 0.0035 - val_loss: 0.0017\n",
      "Epoch 151/300\n",
      "4/4 [==============================] - 0s 15ms/step - loss: 0.0034 - val_loss: 0.0017\n",
      "Epoch 152/300\n",
      "4/4 [==============================] - 0s 11ms/step - loss: 0.0034 - val_loss: 0.0019\n",
      "Epoch 153/300\n",
      "4/4 [==============================] - 0s 11ms/step - loss: 0.0034 - val_loss: 0.0017\n",
      "Epoch 154/300\n",
      "4/4 [==============================] - 0s 15ms/step - loss: 0.0034 - val_loss: 0.0016\n",
      "Epoch 155/300\n",
      "4/4 [==============================] - 0s 11ms/step - loss: 0.0034 - val_loss: 0.0019\n",
      "Epoch 156/300\n",
      "4/4 [==============================] - 0s 11ms/step - loss: 0.0034 - val_loss: 0.0016\n",
      "Epoch 157/300\n",
      "4/4 [==============================] - 0s 11ms/step - loss: 0.0034 - val_loss: 0.0016\n",
      "Epoch 158/300\n",
      "4/4 [==============================] - 0s 11ms/step - loss: 0.0034 - val_loss: 0.0022\n",
      "Epoch 159/300\n",
      "4/4 [==============================] - 0s 15ms/step - loss: 0.0034 - val_loss: 0.0015\n",
      "Epoch 160/300\n",
      "4/4 [==============================] - 0s 11ms/step - loss: 0.0034 - val_loss: 0.0015\n",
      "Epoch 161/300\n",
      "4/4 [==============================] - 0s 11ms/step - loss: 0.0033 - val_loss: 0.0019\n",
      "Epoch 162/300\n",
      "4/4 [==============================] - 0s 11ms/step - loss: 0.0033 - val_loss: 0.0017\n",
      "Epoch 163/300\n",
      "4/4 [==============================] - 0s 11ms/step - loss: 0.0033 - val_loss: 0.0016\n",
      "Epoch 164/300\n",
      "4/4 [==============================] - 0s 11ms/step - loss: 0.0033 - val_loss: 0.0016\n",
      "Epoch 165/300\n",
      "4/4 [==============================] - 0s 11ms/step - loss: 0.0032 - val_loss: 0.0016\n",
      "Epoch 166/300\n",
      "4/4 [==============================] - 0s 12ms/step - loss: 0.0032 - val_loss: 0.0018\n",
      "Epoch 167/300\n",
      "4/4 [==============================] - 0s 11ms/step - loss: 0.0032 - val_loss: 0.0015\n",
      "Epoch 168/300\n",
      "4/4 [==============================] - 0s 10ms/step - loss: 0.0032 - val_loss: 0.0018\n",
      "Epoch 169/300\n",
      "4/4 [==============================] - 0s 11ms/step - loss: 0.0032 - val_loss: 0.0017\n",
      "Epoch 170/300\n",
      "4/4 [==============================] - 0s 10ms/step - loss: 0.0032 - val_loss: 0.0019\n",
      "Epoch 171/300\n",
      "4/4 [==============================] - 0s 15ms/step - loss: 0.0032 - val_loss: 0.0015\n",
      "Epoch 172/300\n",
      "4/4 [==============================] - 0s 11ms/step - loss: 0.0032 - val_loss: 0.0018\n",
      "Epoch 173/300\n",
      "4/4 [==============================] - 0s 11ms/step - loss: 0.0032 - val_loss: 0.0017\n",
      "Epoch 174/300\n",
      "4/4 [==============================] - 0s 11ms/step - loss: 0.0031 - val_loss: 0.0019\n",
      "Epoch 175/300\n",
      "4/4 [==============================] - 0s 11ms/step - loss: 0.0031 - val_loss: 0.0016\n",
      "Epoch 176/300\n",
      "4/4 [==============================] - 0s 10ms/step - loss: 0.0031 - val_loss: 0.0016\n",
      "Epoch 177/300\n",
      "4/4 [==============================] - 0s 11ms/step - loss: 0.0031 - val_loss: 0.0018\n",
      "Epoch 178/300\n",
      "4/4 [==============================] - 0s 11ms/step - loss: 0.0031 - val_loss: 0.0016\n",
      "Epoch 179/300\n",
      "4/4 [==============================] - 0s 11ms/step - loss: 0.0031 - val_loss: 0.0019\n",
      "Epoch 180/300\n",
      "4/4 [==============================] - 0s 16ms/step - loss: 0.0030 - val_loss: 0.0015\n",
      "Epoch 181/300\n",
      "4/4 [==============================] - 0s 11ms/step - loss: 0.0031 - val_loss: 0.0016\n",
      "Epoch 182/300\n",
      "4/4 [==============================] - 0s 11ms/step - loss: 0.0031 - val_loss: 0.0018\n",
      "Epoch 183/300\n",
      "4/4 [==============================] - 0s 11ms/step - loss: 0.0031 - val_loss: 0.0018\n",
      "Epoch 184/300\n",
      "4/4 [==============================] - 0s 11ms/step - loss: 0.0031 - val_loss: 0.0015\n",
      "Epoch 185/300\n",
      "4/4 [==============================] - 0s 11ms/step - loss: 0.0030 - val_loss: 0.0017\n",
      "Epoch 186/300\n",
      "4/4 [==============================] - 0s 11ms/step - loss: 0.0030 - val_loss: 0.0018\n",
      "Epoch 187/300\n",
      "4/4 [==============================] - 0s 11ms/step - loss: 0.0030 - val_loss: 0.0016\n",
      "Epoch 188/300\n",
      "4/4 [==============================] - 0s 11ms/step - loss: 0.0029 - val_loss: 0.0016\n",
      "Epoch 189/300\n",
      "4/4 [==============================] - 0s 12ms/step - loss: 0.0029 - val_loss: 0.0017\n",
      "Epoch 190/300\n",
      "4/4 [==============================] - 0s 11ms/step - loss: 0.0029 - val_loss: 0.0017\n",
      "Epoch 191/300\n",
      "4/4 [==============================] - 0s 11ms/step - loss: 0.0029 - val_loss: 0.0016\n",
      "Epoch 192/300\n",
      "4/4 [==============================] - 0s 11ms/step - loss: 0.0029 - val_loss: 0.0017\n",
      "Epoch 193/300\n",
      "4/4 [==============================] - 0s 11ms/step - loss: 0.0029 - val_loss: 0.0016\n",
      "Epoch 194/300\n",
      "4/4 [==============================] - 0s 11ms/step - loss: 0.0029 - val_loss: 0.0017\n",
      "Epoch 195/300\n",
      "4/4 [==============================] - 0s 11ms/step - loss: 0.0029 - val_loss: 0.0017\n",
      "Epoch 196/300\n",
      "4/4 [==============================] - 0s 10ms/step - loss: 0.0029 - val_loss: 0.0020\n",
      "Epoch 197/300\n",
      "4/4 [==============================] - 0s 11ms/step - loss: 0.0028 - val_loss: 0.0015\n",
      "Epoch 198/300\n",
      "4/4 [==============================] - 0s 11ms/step - loss: 0.0028 - val_loss: 0.0017\n",
      "Epoch 199/300\n",
      "4/4 [==============================] - 0s 11ms/step - loss: 0.0028 - val_loss: 0.0018\n",
      "Epoch 200/300\n",
      "4/4 [==============================] - 0s 11ms/step - loss: 0.0029 - val_loss: 0.0017\n",
      "Epoch 201/300\n",
      "4/4 [==============================] - 0s 11ms/step - loss: 0.0028 - val_loss: 0.0016\n",
      "Epoch 202/300\n",
      "4/4 [==============================] - 0s 11ms/step - loss: 0.0028 - val_loss: 0.0021\n",
      "Epoch 203/300\n",
      "4/4 [==============================] - 0s 11ms/step - loss: 0.0028 - val_loss: 0.0016\n",
      "Epoch 204/300\n",
      "4/4 [==============================] - 0s 11ms/step - loss: 0.0028 - val_loss: 0.0017\n",
      "Epoch 205/300\n",
      "4/4 [==============================] - 0s 10ms/step - loss: 0.0027 - val_loss: 0.0018\n",
      "Epoch 206/300\n",
      "4/4 [==============================] - 0s 11ms/step - loss: 0.0028 - val_loss: 0.0017\n",
      "Epoch 207/300\n",
      "4/4 [==============================] - 0s 10ms/step - loss: 0.0028 - val_loss: 0.0016\n",
      "Epoch 208/300\n",
      "4/4 [==============================] - 0s 11ms/step - loss: 0.0028 - val_loss: 0.0020\n",
      "Epoch 209/300\n",
      "4/4 [==============================] - 0s 11ms/step - loss: 0.0028 - val_loss: 0.0016\n",
      "Epoch 210/300\n",
      "4/4 [==============================] - 0s 13ms/step - loss: 0.0027 - val_loss: 0.0018\n",
      "Epoch 211/300\n",
      "4/4 [==============================] - 0s 14ms/step - loss: 0.0027 - val_loss: 0.0017\n",
      "Epoch 212/300\n",
      "4/4 [==============================] - 0s 19ms/step - loss: 0.0027 - val_loss: 0.0016\n",
      "Epoch 213/300\n",
      "4/4 [==============================] - 0s 14ms/step - loss: 0.0027 - val_loss: 0.0017\n",
      "Epoch 214/300\n",
      "4/4 [==============================] - 0s 13ms/step - loss: 0.0027 - val_loss: 0.0015\n",
      "Epoch 215/300\n",
      "4/4 [==============================] - 0s 13ms/step - loss: 0.0027 - val_loss: 0.0017\n",
      "Epoch 216/300\n",
      "4/4 [==============================] - 0s 19ms/step - loss: 0.0027 - val_loss: 0.0016\n",
      "Epoch 217/300\n",
      "4/4 [==============================] - 0s 12ms/step - loss: 0.0026 - val_loss: 0.0020\n",
      "Epoch 218/300\n",
      "4/4 [==============================] - 0s 12ms/step - loss: 0.0026 - val_loss: 0.0018\n",
      "Epoch 219/300\n",
      "4/4 [==============================] - 0s 11ms/step - loss: 0.0026 - val_loss: 0.0016\n",
      "Epoch 220/300\n",
      "4/4 [==============================] - 0s 11ms/step - loss: 0.0026 - val_loss: 0.0015\n",
      "Epoch 221/300\n",
      "4/4 [==============================] - 0s 37ms/step - loss: 0.0026 - val_loss: 0.0018\n",
      "Epoch 222/300\n",
      "4/4 [==============================] - 0s 12ms/step - loss: 0.0026 - val_loss: 0.0017\n",
      "Epoch 223/300\n",
      "4/4 [==============================] - 0s 11ms/step - loss: 0.0026 - val_loss: 0.0017\n",
      "Epoch 224/300\n",
      "4/4 [==============================] - 0s 11ms/step - loss: 0.0026 - val_loss: 0.0017\n",
      "Epoch 225/300\n",
      "4/4 [==============================] - 0s 11ms/step - loss: 0.0026 - val_loss: 0.0017\n",
      "Epoch 226/300\n",
      "4/4 [==============================] - 0s 14ms/step - loss: 0.0026 - val_loss: 0.0017\n",
      "Epoch 227/300\n",
      "4/4 [==============================] - 0s 52ms/step - loss: 0.0026 - val_loss: 0.0018\n",
      "Epoch 228/300\n",
      "4/4 [==============================] - 0s 23ms/step - loss: 0.0026 - val_loss: 0.0018\n",
      "Epoch 229/300\n",
      "4/4 [==============================] - 0s 21ms/step - loss: 0.0026 - val_loss: 0.0017\n",
      "Epoch 230/300\n",
      "4/4 [==============================] - 0s 16ms/step - loss: 0.0025 - val_loss: 0.0017\n",
      "Epoch 231/300\n",
      "4/4 [==============================] - 0s 14ms/step - loss: 0.0025 - val_loss: 0.0018\n",
      "Epoch 232/300\n",
      "4/4 [==============================] - 0s 13ms/step - loss: 0.0025 - val_loss: 0.0016\n",
      "Epoch 233/300\n",
      "4/4 [==============================] - 0s 12ms/step - loss: 0.0025 - val_loss: 0.0016\n",
      "Epoch 234/300\n",
      "4/4 [==============================] - 0s 13ms/step - loss: 0.0025 - val_loss: 0.0018\n",
      "Epoch 235/300\n",
      "4/4 [==============================] - 0s 13ms/step - loss: 0.0025 - val_loss: 0.0018\n",
      "Epoch 236/300\n",
      "4/4 [==============================] - 0s 32ms/step - loss: 0.0025 - val_loss: 0.0016\n",
      "Epoch 237/300\n",
      "4/4 [==============================] - 0s 12ms/step - loss: 0.0025 - val_loss: 0.0017\n",
      "Epoch 238/300\n",
      "4/4 [==============================] - 0s 16ms/step - loss: 0.0024 - val_loss: 0.0017\n",
      "Epoch 239/300\n",
      "4/4 [==============================] - 0s 15ms/step - loss: 0.0025 - val_loss: 0.0018\n",
      "Epoch 240/300\n",
      "4/4 [==============================] - 0s 20ms/step - loss: 0.0025 - val_loss: 0.0017\n",
      "Epoch 241/300\n",
      "4/4 [==============================] - 0s 16ms/step - loss: 0.0025 - val_loss: 0.0017\n",
      "Epoch 242/300\n",
      "4/4 [==============================] - 0s 15ms/step - loss: 0.0025 - val_loss: 0.0017\n",
      "Epoch 243/300\n",
      "4/4 [==============================] - 0s 15ms/step - loss: 0.0024 - val_loss: 0.0016\n",
      "Epoch 244/300\n",
      "4/4 [==============================] - 0s 13ms/step - loss: 0.0024 - val_loss: 0.0017\n",
      "Epoch 245/300\n",
      "4/4 [==============================] - 0s 13ms/step - loss: 0.0024 - val_loss: 0.0017\n",
      "Epoch 246/300\n",
      "4/4 [==============================] - 0s 14ms/step - loss: 0.0024 - val_loss: 0.0017\n",
      "Epoch 247/300\n",
      "4/4 [==============================] - 0s 13ms/step - loss: 0.0024 - val_loss: 0.0016\n",
      "Epoch 248/300\n",
      "4/4 [==============================] - 0s 12ms/step - loss: 0.0024 - val_loss: 0.0019\n",
      "Epoch 249/300\n",
      "4/4 [==============================] - 0s 14ms/step - loss: 0.0024 - val_loss: 0.0018\n",
      "Epoch 250/300\n",
      "4/4 [==============================] - 0s 13ms/step - loss: 0.0024 - val_loss: 0.0017\n",
      "Epoch 251/300\n",
      "4/4 [==============================] - 0s 13ms/step - loss: 0.0024 - val_loss: 0.0017\n",
      "Epoch 252/300\n",
      "4/4 [==============================] - 0s 12ms/step - loss: 0.0024 - val_loss: 0.0020\n",
      "Epoch 253/300\n",
      "4/4 [==============================] - 0s 12ms/step - loss: 0.0024 - val_loss: 0.0017\n",
      "Epoch 254/300\n",
      "4/4 [==============================] - 0s 11ms/step - loss: 0.0023 - val_loss: 0.0017\n",
      "Epoch 255/300\n",
      "4/4 [==============================] - 0s 13ms/step - loss: 0.0023 - val_loss: 0.0018\n",
      "Epoch 256/300\n",
      "4/4 [==============================] - 0s 14ms/step - loss: 0.0023 - val_loss: 0.0019\n",
      "Epoch 257/300\n",
      "4/4 [==============================] - 0s 12ms/step - loss: 0.0023 - val_loss: 0.0018\n",
      "Epoch 258/300\n",
      "4/4 [==============================] - 0s 11ms/step - loss: 0.0023 - val_loss: 0.0017\n",
      "Epoch 259/300\n",
      "4/4 [==============================] - 0s 13ms/step - loss: 0.0023 - val_loss: 0.0018\n",
      "Epoch 260/300\n",
      "4/4 [==============================] - 0s 16ms/step - loss: 0.0023 - val_loss: 0.0018\n",
      "Epoch 261/300\n",
      "4/4 [==============================] - 0s 20ms/step - loss: 0.0023 - val_loss: 0.0017\n",
      "Epoch 262/300\n",
      "4/4 [==============================] - 0s 14ms/step - loss: 0.0023 - val_loss: 0.0016\n",
      "Epoch 263/300\n",
      "4/4 [==============================] - 0s 12ms/step - loss: 0.0023 - val_loss: 0.0018\n",
      "Epoch 264/300\n",
      "4/4 [==============================] - 0s 12ms/step - loss: 0.0023 - val_loss: 0.0018\n",
      "Epoch 265/300\n",
      "4/4 [==============================] - 0s 11ms/step - loss: 0.0023 - val_loss: 0.0017\n",
      "Epoch 266/300\n",
      "4/4 [==============================] - 0s 12ms/step - loss: 0.0022 - val_loss: 0.0017\n",
      "Epoch 267/300\n",
      "4/4 [==============================] - 0s 11ms/step - loss: 0.0023 - val_loss: 0.0019\n",
      "Epoch 268/300\n",
      "4/4 [==============================] - 0s 13ms/step - loss: 0.0023 - val_loss: 0.0018\n",
      "Epoch 269/300\n",
      "4/4 [==============================] - 0s 12ms/step - loss: 0.0022 - val_loss: 0.0018\n",
      "Epoch 270/300\n",
      "4/4 [==============================] - 0s 14ms/step - loss: 0.0023 - val_loss: 0.0019\n",
      "Epoch 271/300\n",
      "4/4 [==============================] - 0s 14ms/step - loss: 0.0023 - val_loss: 0.0018\n",
      "Epoch 272/300\n",
      "4/4 [==============================] - 0s 13ms/step - loss: 0.0023 - val_loss: 0.0019\n",
      "Epoch 273/300\n",
      "4/4 [==============================] - 0s 12ms/step - loss: 0.0023 - val_loss: 0.0017\n",
      "Epoch 274/300\n",
      "4/4 [==============================] - 0s 12ms/step - loss: 0.0022 - val_loss: 0.0017\n",
      "Epoch 275/300\n",
      "4/4 [==============================] - 0s 11ms/step - loss: 0.0023 - val_loss: 0.0019\n",
      "Epoch 276/300\n",
      "4/4 [==============================] - 0s 12ms/step - loss: 0.0022 - val_loss: 0.0017\n",
      "Epoch 277/300\n",
      "4/4 [==============================] - 0s 13ms/step - loss: 0.0022 - val_loss: 0.0016\n",
      "Epoch 278/300\n",
      "4/4 [==============================] - 0s 12ms/step - loss: 0.0022 - val_loss: 0.0019\n",
      "Epoch 279/300\n",
      "4/4 [==============================] - 0s 12ms/step - loss: 0.0022 - val_loss: 0.0019\n",
      "Epoch 280/300\n",
      "4/4 [==============================] - 0s 13ms/step - loss: 0.0022 - val_loss: 0.0019\n",
      "Epoch 281/300\n",
      "4/4 [==============================] - 0s 13ms/step - loss: 0.0022 - val_loss: 0.0017\n",
      "Epoch 282/300\n",
      "4/4 [==============================] - 0s 12ms/step - loss: 0.0022 - val_loss: 0.0019\n",
      "Epoch 283/300\n",
      "4/4 [==============================] - 0s 11ms/step - loss: 0.0022 - val_loss: 0.0019\n",
      "Epoch 284/300\n",
      "4/4 [==============================] - 0s 11ms/step - loss: 0.0021 - val_loss: 0.0018\n",
      "Epoch 285/300\n",
      "4/4 [==============================] - 0s 11ms/step - loss: 0.0022 - val_loss: 0.0018\n",
      "Epoch 286/300\n",
      "4/4 [==============================] - 0s 12ms/step - loss: 0.0021 - val_loss: 0.0017\n",
      "Epoch 287/300\n",
      "4/4 [==============================] - 0s 11ms/step - loss: 0.0021 - val_loss: 0.0019\n",
      "Epoch 288/300\n",
      "4/4 [==============================] - 0s 13ms/step - loss: 0.0021 - val_loss: 0.0019\n",
      "Epoch 289/300\n",
      "4/4 [==============================] - 0s 28ms/step - loss: 0.0021 - val_loss: 0.0020\n",
      "Epoch 290/300\n",
      "4/4 [==============================] - 0s 14ms/step - loss: 0.0021 - val_loss: 0.0017\n",
      "Epoch 291/300\n",
      "4/4 [==============================] - 0s 23ms/step - loss: 0.0021 - val_loss: 0.0018\n",
      "Epoch 292/300\n",
      "4/4 [==============================] - 0s 13ms/step - loss: 0.0021 - val_loss: 0.0019\n",
      "Epoch 293/300\n",
      "4/4 [==============================] - 0s 12ms/step - loss: 0.0021 - val_loss: 0.0020\n",
      "Epoch 294/300\n",
      "4/4 [==============================] - 0s 12ms/step - loss: 0.0021 - val_loss: 0.0017\n",
      "Epoch 295/300\n",
      "4/4 [==============================] - 0s 12ms/step - loss: 0.0022 - val_loss: 0.0018\n",
      "Epoch 296/300\n",
      "4/4 [==============================] - 0s 12ms/step - loss: 0.0022 - val_loss: 0.0023\n",
      "Epoch 297/300\n",
      "4/4 [==============================] - 0s 12ms/step - loss: 0.0021 - val_loss: 0.0019\n",
      "Epoch 298/300\n",
      "4/4 [==============================] - 0s 14ms/step - loss: 0.0021 - val_loss: 0.0018\n",
      "Epoch 299/300\n",
      "4/4 [==============================] - 0s 15ms/step - loss: 0.0021 - val_loss: 0.0019\n",
      "Epoch 300/300\n",
      "4/4 [==============================] - 0s 13ms/step - loss: 0.0021 - val_loss: 0.0018\n"
     ]
    }
   ],
   "source": [
    "r = model.fit(\n",
    "    Xtrain_m,\n",
    "    Ytrain_m,\n",
    "    epochs=300,\n",
    "    validation_data=(Xtest_m, Ytest_m),\n",
    "    callbacks=[check_point],\n",
    ")"
   ],
   "metadata": {
    "collapsed": false,
    "pycharm": {
     "name": "#%%\n"
    }
   }
  },
  {
   "cell_type": "code",
   "execution_count": 74,
   "outputs": [
    {
     "data": {
      "text/plain": "<Figure size 432x288 with 1 Axes>",
      "image/png": "[encoded data removed]"
     },
     "metadata": {
      "needs_background": "light"
     },
     "output_type": "display_data"
    }
   ],
   "source": [
    "plt.plot(r.history['loss'], label='train loss')\n",
    "plt.plot(r.history['val_loss'], label='test loss')\n",
    "plt.legend();"
   ],
   "metadata": {
    "collapsed": false,
    "pycharm": {
     "name": "#%%\n"
    }
   }
  },
  {
   "cell_type": "code",
   "execution_count": 75,
   "outputs": [],
   "source": [
    "# load best model\n",
    "best_model = tf.keras.models.load_model('best_model.h5')"
   ],
   "metadata": {
    "collapsed": false,
    "pycharm": {
     "name": "#%%\n"
    }
   }
  },
  {
   "cell_type": "code",
   "execution_count": 76,
   "outputs": [
    {
     "name": "stdout",
     "output_type": "stream",
     "text": [
      "WARNING:tensorflow:AutoGraph could not transform <function Model.make_predict_function.<locals>.predict_function at 0x7fcf0ae97c20> and will run it as-is.\n",
      "Please report this to the TensorFlow team. When filing the bug, set the verbosity to 10 (on Linux, `export AUTOGRAPH_VERBOSITY=10`) and attach the full output.\n",
      "Cause: 'arguments' object has no attribute 'posonlyargs'\n",
      "To silence this warning, decorate the function with @tf.autograph.experimental.do_not_convert\n",
      "WARNING: AutoGraph could not transform <function Model.make_predict_function.<locals>.predict_function at 0x7fcf0ae97c20> and will run it as-is.\n",
      "Please report this to the TensorFlow team. When filing the bug, set the verbosity to 10 (on Linux, `export AUTOGRAPH_VERBOSITY=10`) and attach the full output.\n",
      "Cause: 'arguments' object has no attribute 'posonlyargs'\n",
      "To silence this warning, decorate the function with @tf.autograph.experimental.do_not_convert\n",
      "4/4 [==============================] - 1s 2ms/step\n",
      "1/1 [==============================] - 0s 19ms/step\n"
     ]
    }
   ],
   "source": [
    "Ptrain = model.predict(Xtrain_m)\n",
    "Ptest = model.predict(Xtest_m)"
   ],
   "metadata": {
    "collapsed": false,
    "pycharm": {
     "name": "#%%\n"
    }
   }
  },
  {
   "cell_type": "code",
   "execution_count": 77,
   "outputs": [
    {
     "data": {
      "text/plain": "((121, 12), (1, 12))"
     },
     "execution_count": 77,
     "metadata": {},
     "output_type": "execute_result"
    }
   ],
   "source": [
    "Ptrain.shape, Ptest.shape"
   ],
   "metadata": {
    "collapsed": false,
    "pycharm": {
     "name": "#%%\n"
    }
   }
  },
  {
   "cell_type": "code",
   "execution_count": 78,
   "outputs": [],
   "source": [
    "Ptrain = Ptrain[:,0]\n",
    "Ptest = Ptest[0]"
   ],
   "metadata": {
    "collapsed": false,
    "pycharm": {
     "name": "#%%\n"
    }
   }
  },
  {
   "cell_type": "code",
   "execution_count": 79,
   "outputs": [],
   "source": [
    "# save multi-output forecast to dataframe\n",
    "df.loc[test_idx, 'multioutput'] = last_train + \\\n",
    "    np.cumsum(Ptest)"
   ],
   "metadata": {
    "collapsed": false,
    "pycharm": {
     "name": "#%%\n"
    }
   }
  },
  {
   "cell_type": "code",
   "execution_count": 80,
   "outputs": [
    {
     "data": {
      "text/plain": "<Figure size 1080x360 with 1 Axes>",
      "image/png": "[encoded data removed]"
     },
     "metadata": {
      "needs_background": "light"
     },
     "output_type": "display_data"
    }
   ],
   "source": [
    "# plot all forecasts\n",
    "cols = ['LogPassengers', 'multistep', '1step_test', 'multioutput']\n",
    "df[cols].plot(figsize=(15,5));"
   ],
   "metadata": {
    "collapsed": false,
    "pycharm": {
     "name": "#%%\n"
    }
   }
  },
  {
   "cell_type": "code",
   "execution_count": 81,
   "outputs": [],
   "source": [
    "# RNN with multiple LSTM layers\n",
    "i = Input(shape=(Tx, 1))\n",
    "x = LSTM(16, return_sequences=True)(i)\n",
    "x = LSTM(16, return_sequences=True)(x)\n",
    "x = GlobalMaxPooling1D()(x)\n",
    "x = Dense(Ty)(x)\n",
    "model = Model(i, x)"
   ],
   "metadata": {
    "collapsed": false,
    "pycharm": {
     "name": "#%%\n"
    }
   }
  },
  {
   "cell_type": "code",
   "execution_count": 83,
   "outputs": [],
   "source": [
    "check_point = ModelCheckpoint(\n",
    "    'best_model.h5',\n",
    "    monitor='val_loss',\n",
    "    save_best_only=True\n",
    ")"
   ],
   "metadata": {
    "collapsed": false,
    "pycharm": {
     "name": "#%%\n"
    }
   }
  },
  {
   "cell_type": "code",
   "execution_count": 84,
   "outputs": [],
   "source": [
    "model.compile(\n",
    "    loss='mse',\n",
    "    optimizer='adam'\n",
    ")"
   ],
   "metadata": {
    "collapsed": false,
    "pycharm": {
     "name": "#%%\n"
    }
   }
  },
  {
   "cell_type": "code",
   "execution_count": 85,
   "outputs": [
    {
     "name": "stdout",
     "output_type": "stream",
     "text": [
      "Epoch 1/300\n",
      "WARNING:tensorflow:AutoGraph could not transform <function Model.make_train_function.<locals>.train_function at 0x7fcf0d4f8290> and will run it as-is.\n",
      "Please report this to the TensorFlow team. When filing the bug, set the verbosity to 10 (on Linux, `export AUTOGRAPH_VERBOSITY=10`) and attach the full output.\n",
      "Cause: 'arguments' object has no attribute 'posonlyargs'\n",
      "To silence this warning, decorate the function with @tf.autograph.experimental.do_not_convert\n",
      "WARNING: AutoGraph could not transform <function Model.make_train_function.<locals>.train_function at 0x7fcf0d4f8290> and will run it as-is.\n",
      "Please report this to the TensorFlow team. When filing the bug, set the verbosity to 10 (on Linux, `export AUTOGRAPH_VERBOSITY=10`) and attach the full output.\n",
      "Cause: 'arguments' object has no attribute 'posonlyargs'\n",
      "To silence this warning, decorate the function with @tf.autograph.experimental.do_not_convert\n",
      "1/4 [======>.......................] - ETA: 9s - loss: 0.0118WARNING:tensorflow:AutoGraph could not transform <function Model.make_test_function.<locals>.test_function at 0x7fcf0cbb0320> and will run it as-is.\n",
      "Please report this to the TensorFlow team. When filing the bug, set the verbosity to 10 (on Linux, `export AUTOGRAPH_VERBOSITY=10`) and attach the full output.\n",
      "Cause: 'arguments' object has no attribute 'posonlyargs'\n",
      "To silence this warning, decorate the function with @tf.autograph.experimental.do_not_convert\n",
      "WARNING: AutoGraph could not transform <function Model.make_test_function.<locals>.test_function at 0x7fcf0cbb0320> and will run it as-is.\n",
      "Please report this to the TensorFlow team. When filing the bug, set the verbosity to 10 (on Linux, `export AUTOGRAPH_VERBOSITY=10`) and attach the full output.\n",
      "Cause: 'arguments' object has no attribute 'posonlyargs'\n",
      "To silence this warning, decorate the function with @tf.autograph.experimental.do_not_convert\n",
      "4/4 [==============================] - 4s 289ms/step - loss: 0.0115 - val_loss: 0.0113\n",
      "Epoch 2/300\n",
      "4/4 [==============================] - 0s 22ms/step - loss: 0.0114 - val_loss: 0.0111\n",
      "Epoch 3/300\n",
      "4/4 [==============================] - 0s 15ms/step - loss: 0.0113 - val_loss: 0.0111\n",
      "Epoch 4/300\n",
      "4/4 [==============================] - 0s 14ms/step - loss: 0.0113 - val_loss: 0.0111\n",
      "Epoch 5/300\n",
      "4/4 [==============================] - 0s 14ms/step - loss: 0.0112 - val_loss: 0.0111\n",
      "Epoch 6/300\n",
      "4/4 [==============================] - 0s 21ms/step - loss: 0.0112 - val_loss: 0.0111\n",
      "Epoch 7/300\n",
      "4/4 [==============================] - 0s 14ms/step - loss: 0.0111 - val_loss: 0.0111\n",
      "Epoch 8/300\n",
      "4/4 [==============================] - 0s 14ms/step - loss: 0.0111 - val_loss: 0.0111\n",
      "Epoch 9/300\n",
      "4/4 [==============================] - 0s 15ms/step - loss: 0.0110 - val_loss: 0.0112\n",
      "Epoch 10/300\n",
      "4/4 [==============================] - 0s 14ms/step - loss: 0.0110 - val_loss: 0.0112\n",
      "Epoch 11/300\n",
      "4/4 [==============================] - 0s 14ms/step - loss: 0.0109 - val_loss: 0.0111\n",
      "Epoch 12/300\n",
      "4/4 [==============================] - 0s 19ms/step - loss: 0.0108 - val_loss: 0.0111\n",
      "Epoch 13/300\n",
      "4/4 [==============================] - 0s 13ms/step - loss: 0.0107 - val_loss: 0.0112\n",
      "Epoch 14/300\n",
      "4/4 [==============================] - 0s 13ms/step - loss: 0.0106 - val_loss: 0.0111\n",
      "Epoch 15/300\n",
      "4/4 [==============================] - 0s 13ms/step - loss: 0.0105 - val_loss: 0.0111\n",
      "Epoch 16/300\n",
      "4/4 [==============================] - 0s 13ms/step - loss: 0.0104 - val_loss: 0.0112\n",
      "Epoch 17/300\n",
      "4/4 [==============================] - 0s 15ms/step - loss: 0.0102 - val_loss: 0.0112\n",
      "Epoch 18/300\n",
      "4/4 [==============================] - 0s 23ms/step - loss: 0.0101 - val_loss: 0.0110\n",
      "Epoch 19/300\n",
      "4/4 [==============================] - 0s 17ms/step - loss: 0.0100 - val_loss: 0.0113\n",
      "Epoch 20/300\n",
      "4/4 [==============================] - 0s 20ms/step - loss: 0.0098 - val_loss: 0.0108\n",
      "Epoch 21/300\n",
      "4/4 [==============================] - 0s 20ms/step - loss: 0.0097 - val_loss: 0.0105\n",
      "Epoch 22/300\n",
      "4/4 [==============================] - 0s 14ms/step - loss: 0.0096 - val_loss: 0.0109\n",
      "Epoch 23/300\n",
      "4/4 [==============================] - 0s 21ms/step - loss: 0.0094 - val_loss: 0.0100\n",
      "Epoch 24/300\n",
      "4/4 [==============================] - 0s 23ms/step - loss: 0.0094 - val_loss: 0.0099\n",
      "Epoch 25/300\n",
      "4/4 [==============================] - 0s 15ms/step - loss: 0.0092 - val_loss: 0.0101\n",
      "Epoch 26/300\n",
      "4/4 [==============================] - 0s 20ms/step - loss: 0.0091 - val_loss: 0.0094\n",
      "Epoch 27/300\n",
      "4/4 [==============================] - 0s 13ms/step - loss: 0.0091 - val_loss: 0.0097\n",
      "Epoch 28/300\n",
      "4/4 [==============================] - 0s 15ms/step - loss: 0.0089 - val_loss: 0.0099\n",
      "Epoch 29/300\n",
      "4/4 [==============================] - 0s 15ms/step - loss: 0.0089 - val_loss: 0.0096\n",
      "Epoch 30/300\n",
      "4/4 [==============================] - 0s 26ms/step - loss: 0.0088 - val_loss: 0.0095\n",
      "Epoch 31/300\n",
      "4/4 [==============================] - 0s 14ms/step - loss: 0.0087 - val_loss: 0.0102\n",
      "Epoch 32/300\n",
      "4/4 [==============================] - 0s 14ms/step - loss: 0.0087 - val_loss: 0.0096\n",
      "Epoch 33/300\n",
      "4/4 [==============================] - 0s 21ms/step - loss: 0.0086 - val_loss: 0.0091\n",
      "Epoch 34/300\n",
      "4/4 [==============================] - 0s 14ms/step - loss: 0.0085 - val_loss: 0.0100\n",
      "Epoch 35/300\n",
      "4/4 [==============================] - 0s 16ms/step - loss: 0.0085 - val_loss: 0.0091\n",
      "Epoch 36/300\n",
      "4/4 [==============================] - 0s 16ms/step - loss: 0.0084 - val_loss: 0.0096\n",
      "Epoch 37/300\n",
      "4/4 [==============================] - 0s 16ms/step - loss: 0.0084 - val_loss: 0.0103\n",
      "Epoch 38/300\n",
      "4/4 [==============================] - 0s 15ms/step - loss: 0.0083 - val_loss: 0.0092\n",
      "Epoch 39/300\n",
      "4/4 [==============================] - 0s 15ms/step - loss: 0.0082 - val_loss: 0.0099\n",
      "Epoch 40/300\n",
      "4/4 [==============================] - 0s 13ms/step - loss: 0.0082 - val_loss: 0.0099\n",
      "Epoch 41/300\n",
      "4/4 [==============================] - 0s 14ms/step - loss: 0.0081 - val_loss: 0.0097\n",
      "Epoch 42/300\n",
      "4/4 [==============================] - 0s 15ms/step - loss: 0.0081 - val_loss: 0.0099\n",
      "Epoch 43/300\n",
      "4/4 [==============================] - 0s 15ms/step - loss: 0.0080 - val_loss: 0.0102\n",
      "Epoch 44/300\n",
      "4/4 [==============================] - 0s 23ms/step - loss: 0.0080 - val_loss: 0.0097\n",
      "Epoch 45/300\n",
      "4/4 [==============================] - 0s 18ms/step - loss: 0.0079 - val_loss: 0.0101\n",
      "Epoch 46/300\n",
      "4/4 [==============================] - 0s 15ms/step - loss: 0.0079 - val_loss: 0.0101\n",
      "Epoch 47/300\n",
      "4/4 [==============================] - 0s 15ms/step - loss: 0.0078 - val_loss: 0.0103\n",
      "Epoch 48/300\n",
      "4/4 [==============================] - 0s 15ms/step - loss: 0.0078 - val_loss: 0.0103\n",
      "Epoch 49/300\n",
      "4/4 [==============================] - 0s 15ms/step - loss: 0.0078 - val_loss: 0.0103\n",
      "Epoch 50/300\n",
      "4/4 [==============================] - 0s 15ms/step - loss: 0.0077 - val_loss: 0.0109\n",
      "Epoch 51/300\n",
      "4/4 [==============================] - 0s 16ms/step - loss: 0.0077 - val_loss: 0.0098\n",
      "Epoch 52/300\n",
      "4/4 [==============================] - 0s 15ms/step - loss: 0.0076 - val_loss: 0.0102\n",
      "Epoch 53/300\n",
      "4/4 [==============================] - 0s 14ms/step - loss: 0.0076 - val_loss: 0.0105\n",
      "Epoch 54/300\n",
      "4/4 [==============================] - 0s 15ms/step - loss: 0.0076 - val_loss: 0.0101\n",
      "Epoch 55/300\n",
      "4/4 [==============================] - 0s 15ms/step - loss: 0.0075 - val_loss: 0.0100\n",
      "Epoch 56/300\n",
      "4/4 [==============================] - 0s 18ms/step - loss: 0.0075 - val_loss: 0.0104\n",
      "Epoch 57/300\n",
      "4/4 [==============================] - 0s 16ms/step - loss: 0.0075 - val_loss: 0.0104\n",
      "Epoch 58/300\n",
      "4/4 [==============================] - 0s 16ms/step - loss: 0.0074 - val_loss: 0.0101\n",
      "Epoch 59/300\n",
      "4/4 [==============================] - 0s 33ms/step - loss: 0.0074 - val_loss: 0.0105\n",
      "Epoch 60/300\n",
      "4/4 [==============================] - 0s 16ms/step - loss: 0.0073 - val_loss: 0.0101\n",
      "Epoch 61/300\n",
      "4/4 [==============================] - 0s 14ms/step - loss: 0.0073 - val_loss: 0.0097\n",
      "Epoch 62/300\n",
      "4/4 [==============================] - 0s 25ms/step - loss: 0.0073 - val_loss: 0.0102\n",
      "Epoch 63/300\n",
      "4/4 [==============================] - 0s 17ms/step - loss: 0.0072 - val_loss: 0.0108\n",
      "Epoch 64/300\n",
      "4/4 [==============================] - 0s 14ms/step - loss: 0.0072 - val_loss: 0.0098\n",
      "Epoch 65/300\n",
      "4/4 [==============================] - 0s 13ms/step - loss: 0.0072 - val_loss: 0.0101\n",
      "Epoch 66/300\n",
      "4/4 [==============================] - 0s 14ms/step - loss: 0.0071 - val_loss: 0.0103\n",
      "Epoch 67/300\n",
      "4/4 [==============================] - 0s 15ms/step - loss: 0.0071 - val_loss: 0.0103\n",
      "Epoch 68/300\n",
      "4/4 [==============================] - 0s 14ms/step - loss: 0.0071 - val_loss: 0.0102\n",
      "Epoch 69/300\n",
      "4/4 [==============================] - 0s 14ms/step - loss: 0.0071 - val_loss: 0.0101\n",
      "Epoch 70/300\n",
      "4/4 [==============================] - 0s 14ms/step - loss: 0.0070 - val_loss: 0.0103\n",
      "Epoch 71/300\n",
      "4/4 [==============================] - 0s 15ms/step - loss: 0.0070 - val_loss: 0.0100\n",
      "Epoch 72/300\n",
      "4/4 [==============================] - 0s 14ms/step - loss: 0.0070 - val_loss: 0.0100\n",
      "Epoch 73/300\n",
      "4/4 [==============================] - 0s 14ms/step - loss: 0.0069 - val_loss: 0.0102\n",
      "Epoch 74/300\n",
      "4/4 [==============================] - 0s 14ms/step - loss: 0.0069 - val_loss: 0.0100\n",
      "Epoch 75/300\n",
      "4/4 [==============================] - 0s 14ms/step - loss: 0.0069 - val_loss: 0.0100\n",
      "Epoch 76/300\n",
      "4/4 [==============================] - 0s 14ms/step - loss: 0.0069 - val_loss: 0.0099\n",
      "Epoch 77/300\n",
      "4/4 [==============================] - 0s 13ms/step - loss: 0.0068 - val_loss: 0.0099\n",
      "Epoch 78/300\n",
      "4/4 [==============================] - 0s 14ms/step - loss: 0.0068 - val_loss: 0.0100\n",
      "Epoch 79/300\n",
      "4/4 [==============================] - 0s 14ms/step - loss: 0.0068 - val_loss: 0.0098\n",
      "Epoch 80/300\n",
      "4/4 [==============================] - 0s 13ms/step - loss: 0.0067 - val_loss: 0.0097\n",
      "Epoch 81/300\n",
      "4/4 [==============================] - 0s 13ms/step - loss: 0.0067 - val_loss: 0.0098\n",
      "Epoch 82/300\n",
      "4/4 [==============================] - 0s 14ms/step - loss: 0.0067 - val_loss: 0.0097\n",
      "Epoch 83/300\n",
      "4/4 [==============================] - 0s 14ms/step - loss: 0.0067 - val_loss: 0.0096\n",
      "Epoch 84/300\n",
      "4/4 [==============================] - 0s 14ms/step - loss: 0.0066 - val_loss: 0.0094\n",
      "Epoch 85/300\n",
      "4/4 [==============================] - 0s 14ms/step - loss: 0.0066 - val_loss: 0.0093\n",
      "Epoch 86/300\n",
      "4/4 [==============================] - 0s 14ms/step - loss: 0.0066 - val_loss: 0.0091\n",
      "Epoch 87/300\n",
      "4/4 [==============================] - 0s 14ms/step - loss: 0.0066 - val_loss: 0.0095\n",
      "Epoch 88/300\n",
      "4/4 [==============================] - 0s 23ms/step - loss: 0.0065 - val_loss: 0.0090\n",
      "Epoch 89/300\n",
      "4/4 [==============================] - 0s 20ms/step - loss: 0.0065 - val_loss: 0.0089\n",
      "Epoch 90/300\n",
      "4/4 [==============================] - 0s 13ms/step - loss: 0.0065 - val_loss: 0.0092\n",
      "Epoch 91/300\n",
      "4/4 [==============================] - 0s 13ms/step - loss: 0.0065 - val_loss: 0.0090\n",
      "Epoch 92/300\n",
      "4/4 [==============================] - 0s 14ms/step - loss: 0.0064 - val_loss: 0.0093\n",
      "Epoch 93/300\n",
      "4/4 [==============================] - 0s 15ms/step - loss: 0.0064 - val_loss: 0.0090\n",
      "Epoch 94/300\n",
      "4/4 [==============================] - 0s 14ms/step - loss: 0.0064 - val_loss: 0.0091\n",
      "Epoch 95/300\n",
      "4/4 [==============================] - 0s 14ms/step - loss: 0.0064 - val_loss: 0.0089\n",
      "Epoch 96/300\n",
      "4/4 [==============================] - 0s 13ms/step - loss: 0.0063 - val_loss: 0.0090\n",
      "Epoch 97/300\n",
      "4/4 [==============================] - 0s 21ms/step - loss: 0.0063 - val_loss: 0.0089\n",
      "Epoch 98/300\n",
      "4/4 [==============================] - 0s 21ms/step - loss: 0.0063 - val_loss: 0.0087\n",
      "Epoch 99/300\n",
      "4/4 [==============================] - 0s 14ms/step - loss: 0.0063 - val_loss: 0.0091\n",
      "Epoch 100/300\n",
      "4/4 [==============================] - 0s 24ms/step - loss: 0.0062 - val_loss: 0.0087\n",
      "Epoch 101/300\n",
      "4/4 [==============================] - 0s 14ms/step - loss: 0.0062 - val_loss: 0.0087\n",
      "Epoch 102/300\n",
      "4/4 [==============================] - 0s 21ms/step - loss: 0.0062 - val_loss: 0.0086\n",
      "Epoch 103/300\n",
      "4/4 [==============================] - 0s 22ms/step - loss: 0.0062 - val_loss: 0.0086\n",
      "Epoch 104/300\n",
      "4/4 [==============================] - 0s 15ms/step - loss: 0.0061 - val_loss: 0.0087\n",
      "Epoch 105/300\n",
      "4/4 [==============================] - 0s 22ms/step - loss: 0.0061 - val_loss: 0.0085\n",
      "Epoch 106/300\n",
      "4/4 [==============================] - 0s 16ms/step - loss: 0.0061 - val_loss: 0.0086\n",
      "Epoch 107/300\n",
      "4/4 [==============================] - 0s 22ms/step - loss: 0.0061 - val_loss: 0.0084\n",
      "Epoch 108/300\n",
      "4/4 [==============================] - 0s 15ms/step - loss: 0.0061 - val_loss: 0.0087\n",
      "Epoch 109/300\n",
      "4/4 [==============================] - 0s 21ms/step - loss: 0.0060 - val_loss: 0.0083\n",
      "Epoch 110/300\n",
      "4/4 [==============================] - 0s 19ms/step - loss: 0.0060 - val_loss: 0.0079\n",
      "Epoch 111/300\n",
      "4/4 [==============================] - 0s 21ms/step - loss: 0.0060 - val_loss: 0.0083\n",
      "Epoch 112/300\n",
      "4/4 [==============================] - 0s 18ms/step - loss: 0.0060 - val_loss: 0.0083\n",
      "Epoch 113/300\n",
      "4/4 [==============================] - 0s 17ms/step - loss: 0.0059 - val_loss: 0.0082\n",
      "Epoch 114/300\n",
      "4/4 [==============================] - 0s 16ms/step - loss: 0.0059 - val_loss: 0.0083\n",
      "Epoch 115/300\n",
      "4/4 [==============================] - 0s 20ms/step - loss: 0.0059 - val_loss: 0.0079\n",
      "Epoch 116/300\n",
      "4/4 [==============================] - 0s 14ms/step - loss: 0.0059 - val_loss: 0.0081\n",
      "Epoch 117/300\n",
      "4/4 [==============================] - 0s 13ms/step - loss: 0.0058 - val_loss: 0.0080\n",
      "Epoch 118/300\n",
      "4/4 [==============================] - 0s 13ms/step - loss: 0.0058 - val_loss: 0.0079\n",
      "Epoch 119/300\n",
      "4/4 [==============================] - 0s 13ms/step - loss: 0.0058 - val_loss: 0.0081\n",
      "Epoch 120/300\n",
      "4/4 [==============================] - 0s 19ms/step - loss: 0.0058 - val_loss: 0.0079\n",
      "Epoch 121/300\n",
      "4/4 [==============================] - 0s 13ms/step - loss: 0.0058 - val_loss: 0.0080\n",
      "Epoch 122/300\n",
      "4/4 [==============================] - 0s 13ms/step - loss: 0.0057 - val_loss: 0.0082\n",
      "Epoch 123/300\n",
      "4/4 [==============================] - 0s 19ms/step - loss: 0.0057 - val_loss: 0.0077\n",
      "Epoch 124/300\n",
      "4/4 [==============================] - 0s 13ms/step - loss: 0.0057 - val_loss: 0.0080\n",
      "Epoch 125/300\n",
      "4/4 [==============================] - 0s 13ms/step - loss: 0.0056 - val_loss: 0.0078\n",
      "Epoch 126/300\n",
      "4/4 [==============================] - 0s 19ms/step - loss: 0.0056 - val_loss: 0.0076\n",
      "Epoch 127/300\n",
      "4/4 [==============================] - 0s 19ms/step - loss: 0.0056 - val_loss: 0.0076\n",
      "Epoch 128/300\n",
      "4/4 [==============================] - 0s 16ms/step - loss: 0.0056 - val_loss: 0.0079\n",
      "Epoch 129/300\n",
      "4/4 [==============================] - 0s 15ms/step - loss: 0.0055 - val_loss: 0.0077\n",
      "Epoch 130/300\n",
      "4/4 [==============================] - 0s 16ms/step - loss: 0.0055 - val_loss: 0.0078\n",
      "Epoch 131/300\n",
      "4/4 [==============================] - 0s 14ms/step - loss: 0.0055 - val_loss: 0.0077\n",
      "Epoch 132/300\n",
      "4/4 [==============================] - 0s 21ms/step - loss: 0.0054 - val_loss: 0.0075\n",
      "Epoch 133/300\n",
      "4/4 [==============================] - 0s 22ms/step - loss: 0.0054 - val_loss: 0.0075\n",
      "Epoch 134/300\n",
      "4/4 [==============================] - 0s 22ms/step - loss: 0.0054 - val_loss: 0.0075\n",
      "Epoch 135/300\n",
      "4/4 [==============================] - 0s 15ms/step - loss: 0.0053 - val_loss: 0.0075\n",
      "Epoch 136/300\n",
      "4/4 [==============================] - 0s 23ms/step - loss: 0.0053 - val_loss: 0.0074\n",
      "Epoch 137/300\n",
      "4/4 [==============================] - 0s 23ms/step - loss: 0.0053 - val_loss: 0.0073\n",
      "Epoch 138/300\n",
      "4/4 [==============================] - 0s 23ms/step - loss: 0.0052 - val_loss: 0.0073\n",
      "Epoch 139/300\n",
      "4/4 [==============================] - 0s 25ms/step - loss: 0.0052 - val_loss: 0.0073\n",
      "Epoch 140/300\n",
      "4/4 [==============================] - 0s 16ms/step - loss: 0.0052 - val_loss: 0.0077\n",
      "Epoch 141/300\n",
      "4/4 [==============================] - 0s 17ms/step - loss: 0.0051 - val_loss: 0.0075\n",
      "Epoch 142/300\n",
      "4/4 [==============================] - 0s 22ms/step - loss: 0.0051 - val_loss: 0.0072\n",
      "Epoch 143/300\n",
      "4/4 [==============================] - 0s 17ms/step - loss: 0.0051 - val_loss: 0.0073\n",
      "Epoch 144/300\n",
      "4/4 [==============================] - 0s 16ms/step - loss: 0.0051 - val_loss: 0.0078\n",
      "Epoch 145/300\n",
      "4/4 [==============================] - 0s 48ms/step - loss: 0.0050 - val_loss: 0.0076\n",
      "Epoch 146/300\n",
      "4/4 [==============================] - 0s 21ms/step - loss: 0.0050 - val_loss: 0.0076\n",
      "Epoch 147/300\n",
      "4/4 [==============================] - 0s 16ms/step - loss: 0.0050 - val_loss: 0.0074\n",
      "Epoch 148/300\n",
      "4/4 [==============================] - 0s 15ms/step - loss: 0.0049 - val_loss: 0.0075\n",
      "Epoch 149/300\n",
      "4/4 [==============================] - 0s 14ms/step - loss: 0.0049 - val_loss: 0.0074\n",
      "Epoch 150/300\n",
      "4/4 [==============================] - 0s 14ms/step - loss: 0.0049 - val_loss: 0.0075\n",
      "Epoch 151/300\n",
      "4/4 [==============================] - 0s 14ms/step - loss: 0.0049 - val_loss: 0.0074\n",
      "Epoch 152/300\n",
      "4/4 [==============================] - 0s 14ms/step - loss: 0.0048 - val_loss: 0.0073\n",
      "Epoch 153/300\n",
      "4/4 [==============================] - 0s 13ms/step - loss: 0.0048 - val_loss: 0.0074\n",
      "Epoch 154/300\n",
      "4/4 [==============================] - 0s 14ms/step - loss: 0.0048 - val_loss: 0.0072\n",
      "Epoch 155/300\n",
      "4/4 [==============================] - 0s 14ms/step - loss: 0.0047 - val_loss: 0.0075\n",
      "Epoch 156/300\n",
      "4/4 [==============================] - 0s 14ms/step - loss: 0.0047 - val_loss: 0.0074\n",
      "Epoch 157/300\n",
      "4/4 [==============================] - 0s 14ms/step - loss: 0.0047 - val_loss: 0.0075\n",
      "Epoch 158/300\n",
      "4/4 [==============================] - 0s 13ms/step - loss: 0.0046 - val_loss: 0.0073\n",
      "Epoch 159/300\n",
      "4/4 [==============================] - 0s 13ms/step - loss: 0.0046 - val_loss: 0.0075\n",
      "Epoch 160/300\n",
      "4/4 [==============================] - 0s 14ms/step - loss: 0.0046 - val_loss: 0.0075\n",
      "Epoch 161/300\n",
      "4/4 [==============================] - 0s 13ms/step - loss: 0.0046 - val_loss: 0.0075\n",
      "Epoch 162/300\n",
      "4/4 [==============================] - 0s 13ms/step - loss: 0.0045 - val_loss: 0.0073\n",
      "Epoch 163/300\n",
      "4/4 [==============================] - 0s 13ms/step - loss: 0.0045 - val_loss: 0.0072\n",
      "Epoch 164/300\n",
      "4/4 [==============================] - 0s 13ms/step - loss: 0.0045 - val_loss: 0.0073\n",
      "Epoch 165/300\n",
      "4/4 [==============================] - 0s 14ms/step - loss: 0.0045 - val_loss: 0.0072\n",
      "Epoch 166/300\n",
      "4/4 [==============================] - 0s 22ms/step - loss: 0.0044 - val_loss: 0.0071\n",
      "Epoch 167/300\n",
      "4/4 [==============================] - 0s 15ms/step - loss: 0.0044 - val_loss: 0.0074\n",
      "Epoch 168/300\n",
      "4/4 [==============================] - 0s 21ms/step - loss: 0.0044 - val_loss: 0.0072\n",
      "Epoch 169/300\n",
      "4/4 [==============================] - 0s 15ms/step - loss: 0.0044 - val_loss: 0.0073\n",
      "Epoch 170/300\n",
      "4/4 [==============================] - 0s 21ms/step - loss: 0.0044 - val_loss: 0.0073\n",
      "Epoch 171/300\n",
      "4/4 [==============================] - 0s 14ms/step - loss: 0.0043 - val_loss: 0.0072\n",
      "Epoch 172/300\n",
      "4/4 [==============================] - 0s 14ms/step - loss: 0.0043 - val_loss: 0.0072\n",
      "Epoch 173/300\n",
      "4/4 [==============================] - 0s 23ms/step - loss: 0.0043 - val_loss: 0.0071\n",
      "Epoch 174/300\n",
      "4/4 [==============================] - 0s 23ms/step - loss: 0.0043 - val_loss: 0.0071\n",
      "Epoch 175/300\n",
      "4/4 [==============================] - 0s 23ms/step - loss: 0.0043 - val_loss: 0.0072\n",
      "Epoch 176/300\n",
      "4/4 [==============================] - 0s 14ms/step - loss: 0.0042 - val_loss: 0.0074\n",
      "Epoch 177/300\n",
      "4/4 [==============================] - 0s 15ms/step - loss: 0.0042 - val_loss: 0.0072\n",
      "Epoch 178/300\n",
      "4/4 [==============================] - 0s 21ms/step - loss: 0.0042 - val_loss: 0.0069\n",
      "Epoch 179/300\n",
      "4/4 [==============================] - 0s 14ms/step - loss: 0.0042 - val_loss: 0.0072\n",
      "Epoch 180/300\n",
      "4/4 [==============================] - 0s 21ms/step - loss: 0.0041 - val_loss: 0.0069\n",
      "Epoch 181/300\n",
      "4/4 [==============================] - 0s 14ms/step - loss: 0.0041 - val_loss: 0.0070\n",
      "Epoch 182/300\n",
      "4/4 [==============================] - 0s 21ms/step - loss: 0.0041 - val_loss: 0.0067\n",
      "Epoch 183/300\n",
      "4/4 [==============================] - 0s 14ms/step - loss: 0.0041 - val_loss: 0.0070\n",
      "Epoch 184/300\n",
      "4/4 [==============================] - 0s 14ms/step - loss: 0.0041 - val_loss: 0.0070\n",
      "Epoch 185/300\n",
      "4/4 [==============================] - 0s 13ms/step - loss: 0.0041 - val_loss: 0.0067\n",
      "Epoch 186/300\n",
      "4/4 [==============================] - 0s 13ms/step - loss: 0.0040 - val_loss: 0.0071\n",
      "Epoch 187/300\n",
      "4/4 [==============================] - 0s 14ms/step - loss: 0.0040 - val_loss: 0.0068\n",
      "Epoch 188/300\n",
      "4/4 [==============================] - 0s 14ms/step - loss: 0.0040 - val_loss: 0.0069\n",
      "Epoch 189/300\n",
      "4/4 [==============================] - 0s 14ms/step - loss: 0.0040 - val_loss: 0.0067\n",
      "Epoch 190/300\n",
      "4/4 [==============================] - 0s 21ms/step - loss: 0.0040 - val_loss: 0.0067\n",
      "Epoch 191/300\n",
      "4/4 [==============================] - 0s 20ms/step - loss: 0.0040 - val_loss: 0.0066\n",
      "Epoch 192/300\n",
      "4/4 [==============================] - 0s 15ms/step - loss: 0.0040 - val_loss: 0.0069\n",
      "Epoch 193/300\n",
      "4/4 [==============================] - 0s 14ms/step - loss: 0.0039 - val_loss: 0.0069\n",
      "Epoch 194/300\n",
      "4/4 [==============================] - 0s 22ms/step - loss: 0.0039 - val_loss: 0.0066\n",
      "Epoch 195/300\n",
      "4/4 [==============================] - 0s 21ms/step - loss: 0.0039 - val_loss: 0.0063\n",
      "Epoch 196/300\n",
      "4/4 [==============================] - 0s 14ms/step - loss: 0.0039 - val_loss: 0.0066\n",
      "Epoch 197/300\n",
      "4/4 [==============================] - 0s 20ms/step - loss: 0.0038 - val_loss: 0.0063\n",
      "Epoch 198/300\n",
      "4/4 [==============================] - 0s 16ms/step - loss: 0.0038 - val_loss: 0.0064\n",
      "Epoch 199/300\n",
      "4/4 [==============================] - 0s 16ms/step - loss: 0.0038 - val_loss: 0.0070\n",
      "Epoch 200/300\n",
      "4/4 [==============================] - 0s 22ms/step - loss: 0.0039 - val_loss: 0.0061\n",
      "Epoch 201/300\n",
      "4/4 [==============================] - 0s 13ms/step - loss: 0.0038 - val_loss: 0.0063\n",
      "Epoch 202/300\n",
      "4/4 [==============================] - 0s 14ms/step - loss: 0.0038 - val_loss: 0.0066\n",
      "Epoch 203/300\n",
      "4/4 [==============================] - 0s 14ms/step - loss: 0.0038 - val_loss: 0.0061\n",
      "Epoch 204/300\n",
      "4/4 [==============================] - 0s 14ms/step - loss: 0.0038 - val_loss: 0.0065\n",
      "Epoch 205/300\n",
      "4/4 [==============================] - 0s 20ms/step - loss: 0.0037 - val_loss: 0.0059\n",
      "Epoch 206/300\n",
      "4/4 [==============================] - 0s 20ms/step - loss: 0.0037 - val_loss: 0.0059\n",
      "Epoch 207/300\n",
      "4/4 [==============================] - 0s 14ms/step - loss: 0.0037 - val_loss: 0.0062\n",
      "Epoch 208/300\n",
      "4/4 [==============================] - 0s 15ms/step - loss: 0.0037 - val_loss: 0.0061\n",
      "Epoch 209/300\n",
      "4/4 [==============================] - 0s 15ms/step - loss: 0.0036 - val_loss: 0.0061\n",
      "Epoch 210/300\n",
      "4/4 [==============================] - 0s 15ms/step - loss: 0.0036 - val_loss: 0.0063\n",
      "Epoch 211/300\n",
      "4/4 [==============================] - 0s 14ms/step - loss: 0.0036 - val_loss: 0.0062\n",
      "Epoch 212/300\n",
      "4/4 [==============================] - 0s 14ms/step - loss: 0.0036 - val_loss: 0.0063\n",
      "Epoch 213/300\n",
      "4/4 [==============================] - 0s 20ms/step - loss: 0.0036 - val_loss: 0.0057\n",
      "Epoch 214/300\n",
      "4/4 [==============================] - 0s 14ms/step - loss: 0.0036 - val_loss: 0.0060\n",
      "Epoch 215/300\n",
      "4/4 [==============================] - 0s 17ms/step - loss: 0.0036 - val_loss: 0.0061\n",
      "Epoch 216/300\n",
      "4/4 [==============================] - 0s 21ms/step - loss: 0.0036 - val_loss: 0.0057\n",
      "Epoch 217/300\n",
      "4/4 [==============================] - 0s 15ms/step - loss: 0.0035 - val_loss: 0.0063\n",
      "Epoch 218/300\n",
      "4/4 [==============================] - 0s 15ms/step - loss: 0.0035 - val_loss: 0.0058\n",
      "Epoch 219/300\n",
      "4/4 [==============================] - 0s 15ms/step - loss: 0.0035 - val_loss: 0.0060\n",
      "Epoch 220/300\n",
      "4/4 [==============================] - 0s 21ms/step - loss: 0.0035 - val_loss: 0.0057\n",
      "Epoch 221/300\n",
      "4/4 [==============================] - 0s 14ms/step - loss: 0.0035 - val_loss: 0.0060\n",
      "Epoch 222/300\n",
      "4/4 [==============================] - 0s 14ms/step - loss: 0.0035 - val_loss: 0.0062\n",
      "Epoch 223/300\n",
      "4/4 [==============================] - 0s 14ms/step - loss: 0.0035 - val_loss: 0.0060\n",
      "Epoch 224/300\n",
      "4/4 [==============================] - 0s 21ms/step - loss: 0.0035 - val_loss: 0.0056\n",
      "Epoch 225/300\n",
      "4/4 [==============================] - 0s 20ms/step - loss: 0.0034 - val_loss: 0.0054\n",
      "Epoch 226/300\n",
      "4/4 [==============================] - 0s 14ms/step - loss: 0.0034 - val_loss: 0.0057\n",
      "Epoch 227/300\n",
      "4/4 [==============================] - 0s 14ms/step - loss: 0.0034 - val_loss: 0.0058\n",
      "Epoch 228/300\n",
      "4/4 [==============================] - 0s 40ms/step - loss: 0.0034 - val_loss: 0.0057\n",
      "Epoch 229/300\n",
      "4/4 [==============================] - 0s 14ms/step - loss: 0.0034 - val_loss: 0.0058\n",
      "Epoch 230/300\n",
      "4/4 [==============================] - 0s 14ms/step - loss: 0.0034 - val_loss: 0.0056\n",
      "Epoch 231/300\n",
      "4/4 [==============================] - 0s 15ms/step - loss: 0.0033 - val_loss: 0.0056\n",
      "Epoch 232/300\n",
      "4/4 [==============================] - 0s 16ms/step - loss: 0.0033 - val_loss: 0.0056\n",
      "Epoch 233/300\n",
      "4/4 [==============================] - 0s 16ms/step - loss: 0.0033 - val_loss: 0.0056\n",
      "Epoch 234/300\n",
      "4/4 [==============================] - 0s 15ms/step - loss: 0.0033 - val_loss: 0.0055\n",
      "Epoch 235/300\n",
      "4/4 [==============================] - 0s 15ms/step - loss: 0.0033 - val_loss: 0.0055\n",
      "Epoch 236/300\n",
      "4/4 [==============================] - 0s 16ms/step - loss: 0.0033 - val_loss: 0.0055\n",
      "Epoch 237/300\n",
      "4/4 [==============================] - 0s 28ms/step - loss: 0.0033 - val_loss: 0.0053\n",
      "Epoch 238/300\n",
      "4/4 [==============================] - 0s 24ms/step - loss: 0.0033 - val_loss: 0.0053\n",
      "Epoch 239/300\n",
      "4/4 [==============================] - 0s 16ms/step - loss: 0.0033 - val_loss: 0.0055\n",
      "Epoch 240/300\n",
      "4/4 [==============================] - 0s 14ms/step - loss: 0.0033 - val_loss: 0.0056\n",
      "Epoch 241/300\n",
      "4/4 [==============================] - 0s 13ms/step - loss: 0.0033 - val_loss: 0.0053\n",
      "Epoch 242/300\n",
      "4/4 [==============================] - 0s 14ms/step - loss: 0.0032 - val_loss: 0.0055\n",
      "Epoch 243/300\n",
      "4/4 [==============================] - 0s 20ms/step - loss: 0.0032 - val_loss: 0.0051\n",
      "Epoch 244/300\n",
      "4/4 [==============================] - 0s 20ms/step - loss: 0.0032 - val_loss: 0.0050\n",
      "Epoch 245/300\n",
      "4/4 [==============================] - 0s 13ms/step - loss: 0.0032 - val_loss: 0.0053\n",
      "Epoch 246/300\n",
      "4/4 [==============================] - 0s 14ms/step - loss: 0.0032 - val_loss: 0.0053\n",
      "Epoch 247/300\n",
      "4/4 [==============================] - 0s 20ms/step - loss: 0.0032 - val_loss: 0.0050\n",
      "Epoch 248/300\n",
      "4/4 [==============================] - 0s 13ms/step - loss: 0.0032 - val_loss: 0.0053\n",
      "Epoch 249/300\n",
      "4/4 [==============================] - 0s 20ms/step - loss: 0.0031 - val_loss: 0.0049\n",
      "Epoch 250/300\n",
      "4/4 [==============================] - 0s 14ms/step - loss: 0.0031 - val_loss: 0.0053\n",
      "Epoch 251/300\n",
      "4/4 [==============================] - 0s 14ms/step - loss: 0.0031 - val_loss: 0.0054\n",
      "Epoch 252/300\n",
      "4/4 [==============================] - 0s 14ms/step - loss: 0.0031 - val_loss: 0.0051\n",
      "Epoch 253/300\n",
      "4/4 [==============================] - 0s 22ms/step - loss: 0.0031 - val_loss: 0.0047\n",
      "Epoch 254/300\n",
      "4/4 [==============================] - 0s 13ms/step - loss: 0.0031 - val_loss: 0.0052\n",
      "Epoch 255/300\n",
      "4/4 [==============================] - 0s 14ms/step - loss: 0.0031 - val_loss: 0.0049\n",
      "Epoch 256/300\n",
      "4/4 [==============================] - 0s 14ms/step - loss: 0.0031 - val_loss: 0.0048\n",
      "Epoch 257/300\n",
      "4/4 [==============================] - 0s 14ms/step - loss: 0.0031 - val_loss: 0.0053\n",
      "Epoch 258/300\n",
      "4/4 [==============================] - 0s 20ms/step - loss: 0.0030 - val_loss: 0.0045\n",
      "Epoch 259/300\n",
      "4/4 [==============================] - 0s 14ms/step - loss: 0.0031 - val_loss: 0.0050\n",
      "Epoch 260/300\n",
      "4/4 [==============================] - 0s 14ms/step - loss: 0.0030 - val_loss: 0.0050\n",
      "Epoch 261/300\n",
      "4/4 [==============================] - 0s 20ms/step - loss: 0.0031 - val_loss: 0.0044\n",
      "Epoch 262/300\n",
      "4/4 [==============================] - 0s 14ms/step - loss: 0.0030 - val_loss: 0.0051\n",
      "Epoch 263/300\n",
      "4/4 [==============================] - 0s 17ms/step - loss: 0.0030 - val_loss: 0.0049\n",
      "Epoch 264/300\n",
      "4/4 [==============================] - 0s 14ms/step - loss: 0.0030 - val_loss: 0.0045\n",
      "Epoch 265/300\n",
      "4/4 [==============================] - 0s 14ms/step - loss: 0.0030 - val_loss: 0.0048\n",
      "Epoch 266/300\n",
      "4/4 [==============================] - 0s 13ms/step - loss: 0.0030 - val_loss: 0.0045\n",
      "Epoch 267/300\n",
      "4/4 [==============================] - 0s 13ms/step - loss: 0.0029 - val_loss: 0.0045\n",
      "Epoch 268/300\n",
      "4/4 [==============================] - 0s 14ms/step - loss: 0.0029 - val_loss: 0.0046\n",
      "Epoch 269/300\n",
      "4/4 [==============================] - 0s 14ms/step - loss: 0.0029 - val_loss: 0.0049\n",
      "Epoch 270/300\n",
      "4/4 [==============================] - 0s 14ms/step - loss: 0.0029 - val_loss: 0.0047\n",
      "Epoch 271/300\n",
      "4/4 [==============================] - 0s 13ms/step - loss: 0.0029 - val_loss: 0.0048\n",
      "Epoch 272/300\n",
      "4/4 [==============================] - 0s 14ms/step - loss: 0.0029 - val_loss: 0.0047\n",
      "Epoch 273/300\n",
      "4/4 [==============================] - 0s 13ms/step - loss: 0.0029 - val_loss: 0.0046\n",
      "Epoch 274/300\n",
      "4/4 [==============================] - 0s 14ms/step - loss: 0.0030 - val_loss: 0.0046\n",
      "Epoch 275/300\n",
      "4/4 [==============================] - 0s 19ms/step - loss: 0.0029 - val_loss: 0.0044\n",
      "Epoch 276/300\n",
      "4/4 [==============================] - 0s 13ms/step - loss: 0.0029 - val_loss: 0.0045\n",
      "Epoch 277/300\n",
      "4/4 [==============================] - 0s 14ms/step - loss: 0.0029 - val_loss: 0.0047\n",
      "Epoch 278/300\n",
      "4/4 [==============================] - 0s 18ms/step - loss: 0.0029 - val_loss: 0.0045\n",
      "Epoch 279/300\n",
      "4/4 [==============================] - 0s 14ms/step - loss: 0.0028 - val_loss: 0.0045\n",
      "Epoch 280/300\n",
      "4/4 [==============================] - 0s 15ms/step - loss: 0.0029 - val_loss: 0.0046\n",
      "Epoch 281/300\n",
      "4/4 [==============================] - 0s 14ms/step - loss: 0.0028 - val_loss: 0.0044\n",
      "Epoch 282/300\n",
      "4/4 [==============================] - 0s 21ms/step - loss: 0.0028 - val_loss: 0.0043\n",
      "Epoch 283/300\n",
      "4/4 [==============================] - 0s 20ms/step - loss: 0.0028 - val_loss: 0.0040\n",
      "Epoch 284/300\n",
      "4/4 [==============================] - 0s 20ms/step - loss: 0.0028 - val_loss: 0.0039\n",
      "Epoch 285/300\n",
      "4/4 [==============================] - 0s 20ms/step - loss: 0.0028 - val_loss: 0.0036\n",
      "Epoch 286/300\n",
      "4/4 [==============================] - 0s 14ms/step - loss: 0.0028 - val_loss: 0.0041\n",
      "Epoch 287/300\n",
      "4/4 [==============================] - 0s 14ms/step - loss: 0.0028 - val_loss: 0.0038\n",
      "Epoch 288/300\n",
      "4/4 [==============================] - 0s 13ms/step - loss: 0.0028 - val_loss: 0.0039\n",
      "Epoch 289/300\n",
      "4/4 [==============================] - 0s 20ms/step - loss: 0.0027 - val_loss: 0.0033\n",
      "Epoch 290/300\n",
      "4/4 [==============================] - 0s 13ms/step - loss: 0.0027 - val_loss: 0.0038\n",
      "Epoch 291/300\n",
      "4/4 [==============================] - 0s 13ms/step - loss: 0.0028 - val_loss: 0.0036\n",
      "Epoch 292/300\n",
      "4/4 [==============================] - 0s 14ms/step - loss: 0.0028 - val_loss: 0.0037\n",
      "Epoch 293/300\n",
      "4/4 [==============================] - 0s 13ms/step - loss: 0.0028 - val_loss: 0.0037\n",
      "Epoch 294/300\n",
      "4/4 [==============================] - 0s 16ms/step - loss: 0.0027 - val_loss: 0.0037\n",
      "Epoch 295/300\n",
      "4/4 [==============================] - 0s 14ms/step - loss: 0.0027 - val_loss: 0.0036\n",
      "Epoch 296/300\n",
      "4/4 [==============================] - 0s 14ms/step - loss: 0.0027 - val_loss: 0.0035\n",
      "Epoch 297/300\n",
      "4/4 [==============================] - 0s 13ms/step - loss: 0.0027 - val_loss: 0.0037\n",
      "Epoch 298/300\n",
      "4/4 [==============================] - 0s 14ms/step - loss: 0.0027 - val_loss: 0.0036\n",
      "Epoch 299/300\n",
      "4/4 [==============================] - 0s 20ms/step - loss: 0.0027 - val_loss: 0.0033\n",
      "Epoch 300/300\n",
      "4/4 [==============================] - 0s 13ms/step - loss: 0.0026 - val_loss: 0.0037\n"
     ]
    }
   ],
   "source": [
    "r = model.fit(\n",
    "    Xtrain_m,\n",
    "    Ytrain_m,\n",
    "    epochs=300,\n",
    "    validation_data=(Xtest_m, Ytest_m),\n",
    "    callbacks=[check_point],\n",
    ")"
   ],
   "metadata": {
    "collapsed": false,
    "pycharm": {
     "name": "#%%\n"
    }
   }
  },
  {
   "cell_type": "code",
   "execution_count": 87,
   "outputs": [
    {
     "data": {
      "text/plain": "<Figure size 432x288 with 1 Axes>",
      "image/png": "[encoded data removed]"
     },
     "metadata": {
      "needs_background": "light"
     },
     "output_type": "display_data"
    }
   ],
   "source": [
    "plt.plot(r.history['loss'], label='train loss')\n",
    "plt.plot(r.history['val_loss'], label='test loss')\n",
    "plt.legend();"
   ],
   "metadata": {
    "collapsed": false,
    "pycharm": {
     "name": "#%%\n"
    }
   }
  },
  {
   "cell_type": "code",
   "execution_count": 88,
   "outputs": [],
   "source": [
    "best_model = tf.keras.models.load_model('best_model.h5')"
   ],
   "metadata": {
    "collapsed": false,
    "pycharm": {
     "name": "#%%\n"
    }
   }
  },
  {
   "cell_type": "code",
   "execution_count": 89,
   "outputs": [
    {
     "name": "stdout",
     "output_type": "stream",
     "text": [
      "WARNING:tensorflow:AutoGraph could not transform <function Model.make_predict_function.<locals>.predict_function at 0x7fcf0cc0a8c0> and will run it as-is.\n",
      "Please report this to the TensorFlow team. When filing the bug, set the verbosity to 10 (on Linux, `export AUTOGRAPH_VERBOSITY=10`) and attach the full output.\n",
      "Cause: 'arguments' object has no attribute 'posonlyargs'\n",
      "To silence this warning, decorate the function with @tf.autograph.experimental.do_not_convert\n",
      "WARNING: AutoGraph could not transform <function Model.make_predict_function.<locals>.predict_function at 0x7fcf0cc0a8c0> and will run it as-is.\n",
      "Please report this to the TensorFlow team. When filing the bug, set the verbosity to 10 (on Linux, `export AUTOGRAPH_VERBOSITY=10`) and attach the full output.\n",
      "Cause: 'arguments' object has no attribute 'posonlyargs'\n",
      "To silence this warning, decorate the function with @tf.autograph.experimental.do_not_convert\n",
      "4/4 [==============================] - 1s 3ms/step\n",
      "1/1 [==============================] - 0s 19ms/step\n"
     ]
    }
   ],
   "source": [
    "Ptrain = model.predict(Xtrain_m)\n",
    "Ptest = model.predict(Xtest_m)"
   ],
   "metadata": {
    "collapsed": false,
    "pycharm": {
     "name": "#%%\n"
    }
   }
  },
  {
   "cell_type": "code",
   "execution_count": 90,
   "outputs": [],
   "source": [
    "Ptrain = Ptrain[:,0]\n",
    "Ptest = Ptest[0]"
   ],
   "metadata": {
    "collapsed": false,
    "pycharm": {
     "name": "#%%\n"
    }
   }
  },
  {
   "cell_type": "code",
   "execution_count": 92,
   "outputs": [],
   "source": [
    "df.loc[test_idx, 'multioutput2'] = last_train + \\\n",
    "    np.cumsum(Ptest)"
   ],
   "metadata": {
    "collapsed": false,
    "pycharm": {
     "name": "#%%\n"
    }
   }
  },
  {
   "cell_type": "code",
   "execution_count": 93,
   "outputs": [
    {
     "data": {
      "text/plain": "<Figure size 1080x360 with 1 Axes>",
      "image/png": "[encoded data removed]"
     },
     "metadata": {
      "needs_background": "light"
     },
     "output_type": "display_data"
    }
   ],
   "source": [
    "cols = ['LogPassengers','multistep','multioutput2']\n",
    "df[cols].plot(figsize=(15,5));"
   ],
   "metadata": {
    "collapsed": false,
    "pycharm": {
     "name": "#%%\n"
    }
   }
  },
  {
   "cell_type": "code",
   "execution_count": 95,
   "outputs": [
    {
     "name": "stdout",
     "output_type": "stream",
     "text": [
      "multi-step MAPE: 0.007041970900320012\n",
      "multi-output MAPE: 0.003840486483209404\n",
      "multi-output2 MAPE: 0.007505303442728327\n"
     ]
    }
   ],
   "source": [
    "# MAPE\n",
    "from sklearn.metrics import mean_absolute_percentage_error\n",
    "\n",
    "test_log_pass = df.iloc[-Ntest:]['LogPassengers']\n",
    "mape1 = mean_absolute_percentage_error(\n",
    "    test_log_pass, df.loc[test_idx, 'multistep']\n",
    ")\n",
    "print(\"multi-step MAPE:\", mape1)\n",
    "mape2 = mean_absolute_percentage_error(\n",
    "    test_log_pass, df.loc[test_idx, 'multioutput']\n",
    ")\n",
    "print(\"multi-output MAPE:\", mape2)\n",
    "mape3 = mean_absolute_percentage_error(\n",
    "    test_log_pass, df.loc[test_idx, 'multioutput2']\n",
    ")\n",
    "print(\"multi-output2 MAPE:\", mape3)"
   ],
   "metadata": {
    "collapsed": false,
    "pycharm": {
     "name": "#%%\n"
    }
   }
  },
  {
   "cell_type": "code",
   "execution_count": null,
   "outputs": [],
   "source": [],
   "metadata": {
    "collapsed": false,
    "pycharm": {
     "name": "#%%\n"
    }
   }
  }
 ],
 "metadata": {
  "kernelspec": {
   "display_name": "Python 3",
   "language": "python",
   "name": "python3"
  },
  "language_info": {
   "codemirror_mode": {
    "name": "ipython",
    "version": 2
   },
   "file_extension": ".py",
   "mimetype": "text/x-python",
   "name": "python",
   "nbconvert_exporter": "python",
   "pygments_lexer": "ipython2",
   "version": "2.7.6"
  }
 },
 "nbformat": 4,
 "nbformat_minor": 0
}