{
 "cells": [
  {
   "cell_type": "code",
   "execution_count": 1,
   "outputs": [],
   "source": [
    "import numpy as np\n",
    "import pandas as pd"
   ],
   "metadata": {
    "collapsed": false,
    "pycharm": {
     "name": "#%%\n"
    }
   }
  },
  {
   "cell_type": "code",
   "execution_count": 2,
   "outputs": [],
   "source": [
    "from sklearn.metrics import mean_absolute_percentage_error\n",
    "from sklearn.metrics import mean_absolute_error, r2_score, mean_squared_error"
   ],
   "metadata": {
    "collapsed": false,
    "pycharm": {
     "name": "#%%\n"
    }
   }
  },
  {
   "cell_type": "code",
   "execution_count": 3,
   "outputs": [
    {
     "name": "stdout",
     "output_type": "stream",
     "text": [
      "/bin/bash: wget: command not found\r\n"
     ]
    }
   ],
   "source": [
    "!wget -nc https://lazyprogrammer.me/course_files/SPY.csv"
   ],
   "metadata": {
    "collapsed": false,
    "pycharm": {
     "name": "#%%\n"
    }
   }
  },
  {
   "cell_type": "code",
   "execution_count": 4,
   "outputs": [],
   "source": [
    "df = pd.read_csv('SPY.csv', index_col='Date', parse_dates=True)"
   ],
   "metadata": {
    "collapsed": false,
    "pycharm": {
     "name": "#%%\n"
    }
   }
  },
  {
   "cell_type": "code",
   "execution_count": 5,
   "outputs": [
    {
     "data": {
      "text/plain": "                  Open        High         Low       Close  Adj Close  \\\nDate                                                                    \n2010-01-04  112.370003  113.389999  111.510002  113.330002  92.246048   \n2010-01-05  113.260002  113.680000  112.849998  113.629997  92.490204   \n2010-01-06  113.519997  113.989998  113.430000  113.709999  92.555328   \n2010-01-07  113.500000  114.330002  113.180000  114.190002  92.946060   \n2010-01-08  113.889999  114.620003  113.660004  114.570000  93.255348   \n\n               Volume  \nDate                   \n2010-01-04  118944600  \n2010-01-05  111579900  \n2010-01-06  116074400  \n2010-01-07  131091100  \n2010-01-08  126402800  ",
      "text/html": "<div>\n<style scoped>\n    .dataframe tbody tr th:only-of-type {\n        vertical-align: middle;\n    }\n\n    .dataframe tbody tr th {\n        vertical-align: top;\n    }\n\n    .dataframe thead th {\n        text-align: right;\n    }\n</style>\n<table border=\"1\" class=\"dataframe\">\n  <thead>\n    <tr style=\"text-align: right;\">\n      <th></th>\n      <th>Open</th>\n      <th>High</th>\n      <th>Low</th>\n      <th>Close</th>\n      <th>Adj Close</th>\n      <th>Volume</th>\n    </tr>\n    <tr>\n      <th>Date</th>\n      <th></th>\n      <th></th>\n      <th></th>\n      <th></th>\n      <th></th>\n      <th></th>\n    </tr>\n  </thead>\n  <tbody>\n    <tr>\n      <th>2010-01-04</th>\n      <td>112.370003</td>\n      <td>113.389999</td>\n      <td>111.510002</td>\n      <td>113.330002</td>\n      <td>92.246048</td>\n      <td>118944600</td>\n    </tr>\n    <tr>\n      <th>2010-01-05</th>\n      <td>113.260002</td>\n      <td>113.680000</td>\n      <td>112.849998</td>\n      <td>113.629997</td>\n      <td>92.490204</td>\n      <td>111579900</td>\n    </tr>\n    <tr>\n      <th>2010-01-06</th>\n      <td>113.519997</td>\n      <td>113.989998</td>\n      <td>113.430000</td>\n      <td>113.709999</td>\n      <td>92.555328</td>\n      <td>116074400</td>\n    </tr>\n    <tr>\n      <th>2010-01-07</th>\n      <td>113.500000</td>\n      <td>114.330002</td>\n      <td>113.180000</td>\n      <td>114.190002</td>\n      <td>92.946060</td>\n      <td>131091100</td>\n    </tr>\n    <tr>\n      <th>2010-01-08</th>\n      <td>113.889999</td>\n      <td>114.620003</td>\n      <td>113.660004</td>\n      <td>114.570000</td>\n      <td>93.255348</td>\n      <td>126402800</td>\n    </tr>\n  </tbody>\n</table>\n</div>"
     },
     "execution_count": 5,
     "metadata": {},
     "output_type": "execute_result"
    }
   ],
   "source": [
    "df.head()"
   ],
   "metadata": {
    "collapsed": false,
    "pycharm": {
     "name": "#%%\n"
    }
   }
  },
  {
   "cell_type": "code",
   "execution_count": 6,
   "outputs": [],
   "source": [
    "df['ClosePrediction'] = df['Close'].shift(1)"
   ],
   "metadata": {
    "collapsed": false,
    "pycharm": {
     "name": "#%%\n"
    }
   }
  },
  {
   "cell_type": "code",
   "execution_count": 7,
   "outputs": [
    {
     "data": {
      "text/plain": "                  Open        High         Low       Close  Adj Close  \\\nDate                                                                    \n2010-01-04  112.370003  113.389999  111.510002  113.330002  92.246048   \n2010-01-05  113.260002  113.680000  112.849998  113.629997  92.490204   \n2010-01-06  113.519997  113.989998  113.430000  113.709999  92.555328   \n2010-01-07  113.500000  114.330002  113.180000  114.190002  92.946060   \n2010-01-08  113.889999  114.620003  113.660004  114.570000  93.255348   \n\n               Volume  ClosePrediction  \nDate                                    \n2010-01-04  118944600              NaN  \n2010-01-05  111579900       113.330002  \n2010-01-06  116074400       113.629997  \n2010-01-07  131091100       113.709999  \n2010-01-08  126402800       114.190002  ",
      "text/html": "<div>\n<style scoped>\n    .dataframe tbody tr th:only-of-type {\n        vertical-align: middle;\n    }\n\n    .dataframe tbody tr th {\n        vertical-align: top;\n    }\n\n    .dataframe thead th {\n        text-align: right;\n    }\n</style>\n<table border=\"1\" class=\"dataframe\">\n  <thead>\n    <tr style=\"text-align: right;\">\n      <th></th>\n      <th>Open</th>\n      <th>High</th>\n      <th>Low</th>\n      <th>Close</th>\n      <th>Adj Close</th>\n      <th>Volume</th>\n      <th>ClosePrediction</th>\n    </tr>\n    <tr>\n      <th>Date</th>\n      <th></th>\n      <th></th>\n      <th></th>\n      <th></th>\n      <th></th>\n      <th></th>\n      <th></th>\n    </tr>\n  </thead>\n  <tbody>\n    <tr>\n      <th>2010-01-04</th>\n      <td>112.370003</td>\n      <td>113.389999</td>\n      <td>111.510002</td>\n      <td>113.330002</td>\n      <td>92.246048</td>\n      <td>118944600</td>\n      <td>NaN</td>\n    </tr>\n    <tr>\n      <th>2010-01-05</th>\n      <td>113.260002</td>\n      <td>113.680000</td>\n      <td>112.849998</td>\n      <td>113.629997</td>\n      <td>92.490204</td>\n      <td>111579900</td>\n      <td>113.330002</td>\n    </tr>\n    <tr>\n      <th>2010-01-06</th>\n      <td>113.519997</td>\n      <td>113.989998</td>\n      <td>113.430000</td>\n      <td>113.709999</td>\n      <td>92.555328</td>\n      <td>116074400</td>\n      <td>113.629997</td>\n    </tr>\n    <tr>\n      <th>2010-01-07</th>\n      <td>113.500000</td>\n      <td>114.330002</td>\n      <td>113.180000</td>\n      <td>114.190002</td>\n      <td>92.946060</td>\n      <td>131091100</td>\n      <td>113.709999</td>\n    </tr>\n    <tr>\n      <th>2010-01-08</th>\n      <td>113.889999</td>\n      <td>114.620003</td>\n      <td>113.660004</td>\n      <td>114.570000</td>\n      <td>93.255348</td>\n      <td>126402800</td>\n      <td>114.190002</td>\n    </tr>\n  </tbody>\n</table>\n</div>"
     },
     "execution_count": 7,
     "metadata": {},
     "output_type": "execute_result"
    }
   ],
   "source": [
    "df.head()"
   ],
   "metadata": {
    "collapsed": false,
    "pycharm": {
     "name": "#%%\n"
    }
   }
  },
  {
   "cell_type": "code",
   "execution_count": 8,
   "outputs": [],
   "source": [
    "y_true = df.iloc[1:]['Close']\n",
    "y_pred = df.iloc[1:]['ClosePrediction']"
   ],
   "metadata": {
    "collapsed": false,
    "pycharm": {
     "name": "#%%\n"
    }
   }
  },
  {
   "cell_type": "code",
   "execution_count": 9,
   "outputs": [
    {
     "data": {
      "text/plain": "6330.3742894926745"
     },
     "execution_count": 9,
     "metadata": {},
     "output_type": "execute_result"
    }
   ],
   "source": [
    "# SSE\n",
    "(y_true - y_pred).dot(y_true - y_pred)"
   ],
   "metadata": {
    "collapsed": false,
    "pycharm": {
     "name": "#%%\n"
    }
   }
  },
  {
   "cell_type": "code",
   "execution_count": 10,
   "outputs": [
    {
     "data": {
      "text/plain": "2.798573956451227"
     },
     "execution_count": 10,
     "metadata": {},
     "output_type": "execute_result"
    }
   ],
   "source": [
    "# MSE\n",
    "mean_squared_error(y_true, y_pred)"
   ],
   "metadata": {
    "collapsed": false,
    "pycharm": {
     "name": "#%%\n"
    }
   }
  },
  {
   "cell_type": "code",
   "execution_count": 11,
   "outputs": [
    {
     "data": {
      "text/plain": "2.7985739564512264"
     },
     "execution_count": 11,
     "metadata": {},
     "output_type": "execute_result"
    }
   ],
   "source": [
    "(y_true - y_pred).dot(y_true - y_pred) / len(y_true)"
   ],
   "metadata": {
    "collapsed": false,
    "pycharm": {
     "name": "#%%\n"
    }
   }
  },
  {
   "cell_type": "code",
   "execution_count": 12,
   "outputs": [
    {
     "data": {
      "text/plain": "2.798573956451227"
     },
     "execution_count": 12,
     "metadata": {},
     "output_type": "execute_result"
    }
   ],
   "source": [
    "np.sum((y_true - y_pred)**2)/len(y_true)"
   ],
   "metadata": {
    "collapsed": false,
    "pycharm": {
     "name": "#%%\n"
    }
   }
  },
  {
   "cell_type": "code",
   "execution_count": 13,
   "outputs": [
    {
     "data": {
      "text/plain": "1.6728938867875711"
     },
     "execution_count": 13,
     "metadata": {},
     "output_type": "execute_result"
    }
   ],
   "source": [
    "mean_squared_error(y_true, y_pred, squared=False)"
   ],
   "metadata": {
    "collapsed": false,
    "pycharm": {
     "name": "#%%\n"
    }
   }
  },
  {
   "cell_type": "code",
   "execution_count": 14,
   "outputs": [
    {
     "data": {
      "text/plain": "1.672893886787571"
     },
     "execution_count": 14,
     "metadata": {},
     "output_type": "execute_result"
    }
   ],
   "source": [
    "np.sqrt((y_true - y_pred).dot(y_true - y_pred) / len(y_true))"
   ],
   "metadata": {
    "collapsed": false,
    "pycharm": {
     "name": "#%%\n"
    }
   }
  },
  {
   "cell_type": "code",
   "execution_count": 15,
   "outputs": [
    {
     "data": {
      "text/plain": "1.6728938867875711"
     },
     "execution_count": 15,
     "metadata": {},
     "output_type": "execute_result"
    }
   ],
   "source": [
    "np.sqrt(np.sum((y_true - y_pred)**2)/len(y_true))"
   ],
   "metadata": {
    "collapsed": false,
    "pycharm": {
     "name": "#%%\n"
    }
   }
  },
  {
   "cell_type": "code",
   "execution_count": 16,
   "outputs": [
    {
     "data": {
      "text/plain": "1.1457559803120385"
     },
     "execution_count": 16,
     "metadata": {},
     "output_type": "execute_result"
    }
   ],
   "source": [
    "# MAE\n",
    "mean_absolute_error(y_true, y_pred)"
   ],
   "metadata": {
    "collapsed": false,
    "pycharm": {
     "name": "#%%\n"
    }
   }
  },
  {
   "cell_type": "code",
   "execution_count": 17,
   "outputs": [
    {
     "data": {
      "text/plain": "0.9989603259063914"
     },
     "execution_count": 17,
     "metadata": {},
     "output_type": "execute_result"
    }
   ],
   "source": [
    "r2_score(y_true, y_pred)"
   ],
   "metadata": {
    "collapsed": false,
    "pycharm": {
     "name": "#%%\n"
    }
   }
  },
  {
   "cell_type": "code",
   "execution_count": 18,
   "outputs": [
    {
     "data": {
      "text/plain": "0.006494073151422394"
     },
     "execution_count": 18,
     "metadata": {},
     "output_type": "execute_result"
    }
   ],
   "source": [
    "# MAPE\n",
    "mean_absolute_percentage_error(y_true, y_pred)"
   ],
   "metadata": {
    "collapsed": false,
    "pycharm": {
     "name": "#%%\n"
    }
   }
  },
  {
   "cell_type": "code",
   "execution_count": 21,
   "outputs": [],
   "source": [
    "# sMAPE\n",
    "def smape(y_true, y_pred):\n",
    "    return np.sum(np.abs(y_true - y_pred)/((np.abs(y_true) + np.abs(y_pred))/2))/len(y_pred)"
   ],
   "metadata": {
    "collapsed": false,
    "pycharm": {
     "name": "#%%\n"
    }
   }
  },
  {
   "cell_type": "code",
   "execution_count": 22,
   "outputs": [
    {
     "data": {
      "text/plain": "0.006491365814068437"
     },
     "execution_count": 22,
     "metadata": {},
     "output_type": "execute_result"
    }
   ],
   "source": [
    "smape(y_true,y_pred)"
   ],
   "metadata": {
    "collapsed": false,
    "pycharm": {
     "name": "#%%\n"
    }
   }
  },
  {
   "cell_type": "code",
   "execution_count": null,
   "outputs": [],
   "source": [],
   "metadata": {
    "collapsed": false,
    "pycharm": {
     "name": "#%%\n"
    }
   }
  }
 ],
 "metadata": {
  "kernelspec": {
   "name": "pycharm-d9295d1d",
   "language": "python",
   "display_name": "PyCharm (TextAnalysis)"
  },
  "language_info": {
   "codemirror_mode": {
    "name": "ipython",
    "version": 2
   },
   "file_extension": ".py",
   "mimetype": "text/x-python",
   "name": "python",
   "nbconvert_exporter": "python",
   "pygments_lexer": "ipython2",
   "version": "2.7.6"
  }
 },
 "nbformat": 4,
 "nbformat_minor": 0
}